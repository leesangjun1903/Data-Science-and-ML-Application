{
  "nbformat": 4,
  "nbformat_minor": 0,
  "metadata": {
    "colab": {
      "provenance": []
    },
    "kernelspec": {
      "name": "python3",
      "display_name": "Python 3"
    },
    "language_info": {
      "name": "python"
    }
  },
  "cells": [
    {
      "cell_type": "markdown",
      "source": [
        "### Code caveat #1: NumPy\n",
        "\n",
        "NumPy 라이브러리의 ndarray 클래스를 사용하면 이러한 배열에서 (a) 직관적이고 (b) 빠른 방식으로 작동할 수 있습니다.  \n",
        "가장 간단한 예를 들어, 데이터를 파이썬 리스트(또는 리스트 목록)에 저장하는 경우 일반 구문을 사용하여 리스트 요소별로 추가하거나 곱하는 것은 작동하지 않지만, ndarray에서는 작동합니다:\n"
      ],
      "metadata": {
        "id": "FBghJ4UdYqne"
      }
    },
    {
      "cell_type": "code",
      "execution_count": 1,
      "metadata": {
        "id": "J86L3NsBYgUz"
      },
      "outputs": [],
      "source": [
        "import matplotlib.pyplot as plt\n",
        "import matplotlib\n",
        "import numpy as np\n",
        "from numpy import ndarray\n",
        "%matplotlib inline\n",
        "\n",
        "from typing import Callable\n",
        "from typing import Dict"
      ]
    },
    {
      "cell_type": "code",
      "source": [
        "print(\"Python list operations:\")\n",
        "a = [1,2,3]\n",
        "b = [4,5,6]\n",
        "print(\"a+b:\", a+b)"
      ],
      "metadata": {
        "colab": {
          "base_uri": "https://localhost:8080/"
        },
        "id": "nvyutYX2Yi8A",
        "outputId": "985becd0-87b5-49c7-f8fa-fc6ed9c685c0"
      },
      "execution_count": 5,
      "outputs": [
        {
          "output_type": "stream",
          "name": "stdout",
          "text": [
            "Python list operations:\n",
            "a+b: [1, 2, 3, 4, 5, 6]\n"
          ]
        }
      ]
    },
    {
      "cell_type": "code",
      "source": [
        "try:\n",
        "    print(a * b)\n",
        "except TypeError:\n",
        "    print(\"a*b has no meaning for Python lists\")\n",
        "print()"
      ],
      "metadata": {
        "colab": {
          "base_uri": "https://localhost:8080/"
        },
        "id": "HqImk17OYzbh",
        "outputId": "f65270da-9f30-4b6f-91e0-82163305731c"
      },
      "execution_count": 6,
      "outputs": [
        {
          "output_type": "stream",
          "name": "stdout",
          "text": [
            "a*b has no meaning for Python lists\n",
            "\n"
          ]
        }
      ]
    },
    {
      "cell_type": "code",
      "source": [
        "print(\"Numpy array operations:\")\n",
        "a = np.array([1,2,3])\n",
        "b = np.array([4,5,6])\n",
        "print(\"a+b:\", a + b)\n",
        "print(\"a*b:\", a * b)"
      ],
      "metadata": {
        "colab": {
          "base_uri": "https://localhost:8080/"
        },
        "id": "k1wdgkiyZAC-",
        "outputId": "9d833965-aeaa-4a77-abb1-7b2fc74b828b"
      },
      "execution_count": 7,
      "outputs": [
        {
          "output_type": "stream",
          "name": "stdout",
          "text": [
            "Numpy array operations:\n",
            "a+b: [5 7 9]\n",
            "a*b: [ 4 10 18]\n"
          ]
        }
      ]
    },
    {
      "cell_type": "markdown",
      "source": [
        "ndarray에는 n차원 배열에서 기대할 수 있는 몇 가지 특징도 있습니다. 각 ndarray에는 0에서 인덱싱된 n개의 축이 있으므로 첫 번째 축은 0, 두 번째 축은 1 등이 됩니다.  \n",
        "특히 2D ndarray를 자주 다루기 때문에 axis = 0을 행으로, axis = 1을 열로 생각할 수 있습니다—그림 1-3 참조."
      ],
      "metadata": {
        "id": "3_-yrWyxZUPl"
      }
    },
    {
      "cell_type": "markdown",
      "source": [
        "NumPy의 ndarray는 이러한 축을 따라 직관적인 방식으로 함수를 적용하는 것도 지원합니다.  \n",
        "예를 들어, 축 0을 따라 합치는 것(2D 배열의 행)은 본질적으로 해당 축을 따라 \" 배열을 붕괴시키고\" 원래 배열보다 한 차원 적은 배열을 반환합니다.  \n",
        "2D 배열의 경우, 이는 각 열을 합하는 것과 동일합니다:"
      ],
      "metadata": {
        "id": "cfDQ5huxZbYD"
      }
    },
    {
      "cell_type": "code",
      "source": [
        "a = np.array([[1,2,3],\n",
        "              [4,5,6]])\n",
        "print(a)"
      ],
      "metadata": {
        "colab": {
          "base_uri": "https://localhost:8080/"
        },
        "id": "zdSRASq2ZDqw",
        "outputId": "878584b3-e8f0-42d4-c3d8-cae65d098a13"
      },
      "execution_count": 12,
      "outputs": [
        {
          "output_type": "stream",
          "name": "stdout",
          "text": [
            "[[1 2 3]\n",
            " [4 5 6]]\n"
          ]
        }
      ]
    },
    {
      "cell_type": "markdown",
      "source": [
        "NumPy ndarrays는 마지막 축에 1D 배열을 추가하는 것을 지원합니다.  \n",
        "R 행과 C 열이 있는 2D 배열 a의 경우, 길이가 C인 1D 배열 b를 추가할 수 있으며, NumPy는 직관적인 방식으로 요소를 a:1의 각 행에 추가합니다."
      ],
      "metadata": {
        "id": "c_ADsRAdaJlV"
      }
    },
    {
      "cell_type": "code",
      "source": [
        "b = np.array([10,20,30])\n",
        "print(\"a + b:\\n\", a + b)"
      ],
      "metadata": {
        "colab": {
          "base_uri": "https://localhost:8080/"
        },
        "id": "UZoaIREKZiUg",
        "outputId": "cf3118a4-a6f3-4d3a-b1b7-48a6b7c19cf4"
      },
      "execution_count": 13,
      "outputs": [
        {
          "output_type": "stream",
          "name": "stdout",
          "text": [
            "a + b:\n",
            " [[11 22 33]\n",
            " [14 25 36]]\n"
          ]
        }
      ]
    },
    {
      "cell_type": "code",
      "source": [
        "print('a:')\n",
        "print(a)\n",
        "print('a.sum(axis=0):', a.sum(axis=0))\n",
        "print('a.sum(axis=1):', a.sum(axis=1))"
      ],
      "metadata": {
        "colab": {
          "base_uri": "https://localhost:8080/"
        },
        "id": "7Vfc3Zy9Z4Eb",
        "outputId": "30fce38a-8778-4975-d807-ae7cf913cb3d"
      },
      "execution_count": 14,
      "outputs": [
        {
          "output_type": "stream",
          "name": "stdout",
          "text": [
            "a:\n",
            "[[1 2 3]\n",
            " [4 5 6]]\n",
            "a.sum(axis=0): [5 7 9]\n",
            "a.sum(axis=1): [ 6 15]\n"
          ]
        }
      ]
    },
    {
      "cell_type": "markdown",
      "source": [
        "### Code caveat #2: Type-checked functions"
      ],
      "metadata": {
        "id": "H27DAT3laS7g"
      }
    },
    {
      "cell_type": "markdown",
      "source": [
        "책이 진행될수록 많은 인수를 가진 함수를 복잡한 클래스의 일부로 작성하게 되므로 이 문제는 더욱 어려워질 것입니다.  \n",
        "이를 해결하기 위해 유형 서명이 있는 함수를 전체적으로 사용할 것이며, 예를 들어 3장에서는 다음과 같이 신경망을 초기화할 것입니다:"
      ],
      "metadata": {
        "id": "dB0GrfgUbEpS"
      }
    },
    {
      "cell_type": "code",
      "source": [
        "# def __init__(self,\n",
        "# layers: List[Layer],\n",
        "# loss: Loss,\n",
        "# learning_rate: float = 0.01) -> None:"
      ],
      "metadata": {
        "id": "0lRFy-nua8EJ"
      },
      "execution_count": 17,
      "outputs": []
    },
    {
      "cell_type": "markdown",
      "source": [
        "각 객체의 유형을 출력하거나 각 객체에 대해 수행되는 작업을 확인하거나 이름 x1과 x2를 기반으로 추측해야만 이 함수에서 무슨 일이 일어나고 있는지 이해할 수 있습니다."
      ],
      "metadata": {
        "id": "-ZoL4w-zbV8o"
      }
    },
    {
      "cell_type": "markdown",
      "source": [
        "### Basic functions in NumPy"
      ],
      "metadata": {
        "id": "TVZtSq4-bZe9"
      }
    },
    {
      "cell_type": "code",
      "source": [
        "def square(x: ndarray) -> ndarray:\n",
        "    '''\n",
        "    Square each element in the input ndarray.\n",
        "    '''\n",
        "    return np.power(x, 2)\n"
      ],
      "metadata": {
        "id": "RVEx672xbH_A"
      },
      "execution_count": 18,
      "outputs": []
    },
    {
      "cell_type": "code",
      "source": [
        "square(np.array([1,0,0]))"
      ],
      "metadata": {
        "colab": {
          "base_uri": "https://localhost:8080/"
        },
        "id": "wPIEJUSifriA",
        "outputId": "a321ef41-37c8-44b9-c8fe-86c7edff9605"
      },
      "execution_count": 26,
      "outputs": [
        {
          "output_type": "execute_result",
          "data": {
            "text/plain": [
              "array([1, 0, 0])"
            ]
          },
          "metadata": {},
          "execution_count": 26
        }
      ]
    },
    {
      "cell_type": "code",
      "source": [
        "def leaky_relu(x: ndarray) -> ndarray:\n",
        "    '''\n",
        "    Apply \"Leaky ReLU\" function to each element in ndarray\n",
        "    '''\n",
        "    return np.maximum(0.2 * x, x)"
      ],
      "metadata": {
        "id": "A2H0HX04beF5"
      },
      "execution_count": 20,
      "outputs": []
    },
    {
      "cell_type": "markdown",
      "source": [
        "NumPy의 독특한 점 중 하나는 np.function_name(ndarray) 또는 ndarray.function_name(ndarray)을 작성하여 ndarray에 많은 함수를 적용할 수 있다는 점입니다.  \n",
        "예를 들어, 앞의 relu 함수는 다음과 같이 쓸 수 있습니다: x.clip(min=0).  \n",
        "우리는 일관성을 유지하기 위해 np.function_name(ndarray) 관례를 사용할 것입니다—\n",
        "특히, ndarray.T와 같은 2차원 ndarray를 전치하는 트릭을 피하고 np.trans pose(ndarray, (1, 0))을 작성할 것입니다."
      ],
      "metadata": {
        "id": "EBsPkYumb8c-"
      }
    },
    {
      "cell_type": "markdown",
      "source": [
        "## Derivatives"
      ],
      "metadata": {
        "id": "h3wYJJYAcJeU"
      }
    },
    {
      "cell_type": "markdown",
      "source": [
        "한 지점에서 함수의 미분은 해당 지점의 입력에 대한 함수 출력의 \"변화율\"이라고 간단히 말하는 것으로 시작하겠습니다."
      ],
      "metadata": {
        "id": "IZG9aZdMcWd0"
      }
    },
    {
      "cell_type": "markdown",
      "source": [
        "### Math\n",
        "\n",
        "입력의 특정 값 a에서 입력을 변경할 때 f의 출력이 얼마나 변하는지를 극한으로 설명할 수 있습니다:"
      ],
      "metadata": {
        "id": "A1Q8U_qncYIT"
      }
    },
    {
      "cell_type": "markdown",
      "source": [
        "$$ \\frac{df}{dx}(a) =\n",
        "\\lim_{\\Delta \\to 0} \\frac{{f \\left( {a + \\Delta } \\right) - f\\left( a - \\Delta \\right)}}{2 * \\Delta } $$"
      ],
      "metadata": {
        "id": "sSKllhhCc2tJ"
      }
    },
    {
      "cell_type": "markdown",
      "source": [
        "### Diagrams\n",
        "\n",
        "함수 f의 데카르트 표현에 단순히 접선을 그린다면, 한 지점 a에서 f의 도함수는 이 선의 기울기일 뿐입니다.\n",
        "\n",
        " 이전 부분의 수학적 설명과 마찬가지로 실제로 이 선의 기울기를 계산할 수 있는 두 가지 방법이 있습니다.\n",
        "  \n",
        "  첫 번째는 미적분을 사용하여 실제로 극한을 계산하는 것입니다.  \n",
        "  두 번째는 f를 -0.001과 +0.001로 연결하는 선의 기울기를 구하는 것입니다."
      ],
      "metadata": {
        "id": "uU8T95k7c9nk"
      }
    },
    {
      "cell_type": "markdown",
      "source": [
        "### Code"
      ],
      "metadata": {
        "id": "iFeU-8vSdqMc"
      }
    },
    {
      "cell_type": "code",
      "source": [
        "from typing import Callable\n",
        "\n",
        "def deriv(func: Callable[[ndarray], ndarray],\n",
        "          input_: ndarray,\n",
        "          diff: float = 0.001) -> ndarray:\n",
        "    '''\n",
        "    Evaluates the derivative of a function \"func\" at every element in the \"input_\" array.\n",
        "    '''\n",
        "    return (func(input_ + diff) - func(input_ - diff)) / (2 * diff)"
      ],
      "metadata": {
        "id": "4CWmN5XMbr7U"
      },
      "execution_count": 22,
      "outputs": []
    },
    {
      "cell_type": "code",
      "source": [
        "deriv(square, np.array([1,2,3]))"
      ],
      "metadata": {
        "colab": {
          "base_uri": "https://localhost:8080/"
        },
        "id": "Wd4NIgdqeBMO",
        "outputId": "9f9e0e0e-d7bd-4e55-a510-61537acf023b"
      },
      "execution_count": 29,
      "outputs": [
        {
          "output_type": "execute_result",
          "data": {
            "text/plain": [
              "array([2., 4., 6.])"
            ]
          },
          "metadata": {},
          "execution_count": 29
        }
      ]
    },
    {
      "cell_type": "markdown",
      "source": [
        "## Nested Functions"
      ],
      "metadata": {
        "id": "lSJQjnEpe2HR"
      }
    },
    {
      "cell_type": "markdown",
      "source": [
        "먼저 중첩 함수에 대한 데이터 유형을 정의하겠습니다:"
      ],
      "metadata": {
        "id": "WFHMA9WkgbUG"
      }
    },
    {
      "cell_type": "code",
      "source": [
        "from typing import List\n",
        "\n",
        "# A Function takes in an ndarray as an argument and produces an ndarray\n",
        "Array_Function = Callable[[ndarray], ndarray]\n",
        "\n",
        "# A Chain is a list of functions\n",
        "Chain = List[Array_Function]"
      ],
      "metadata": {
        "id": "gPjBDiwCeDaL"
      },
      "execution_count": 30,
      "outputs": []
    },
    {
      "cell_type": "markdown",
      "source": [
        "그런 다음 데이터가 체인을 통과하는 방식을 먼저 길이 2로 정의하겠습니다:"
      ],
      "metadata": {
        "id": "hjt0t5Pugf2r"
      }
    },
    {
      "cell_type": "code",
      "source": [
        "def chain_length_2(chain: Chain,\n",
        "                   x: ndarray) -> ndarray:\n",
        "    '''\n",
        "    Evaluates two functions in a row, in a \"Chain\".\n",
        "    '''\n",
        "    assert len(chain) == 2, \\\n",
        "    \"Length of input 'chain' should be 2\"\n",
        "\n",
        "    f1 = chain[0]\n",
        "    f2 = chain[1]\n",
        "\n",
        "    return f2(f1(x))"
      ],
      "metadata": {
        "id": "ym9JuxDggVIX"
      },
      "execution_count": 32,
      "outputs": []
    },
    {
      "cell_type": "markdown",
      "source": [
        "## Chain\n",
        "\n",
        "이를 코드화하여 이러한 방식으로 미분을 계산하면 실제로 \"올바른 것처럼 보이는\" 결과가 나온다는 것을 보여드리겠습니다.  \n",
        "6페이지의 \"NumPy의 기본 함수\"의 제곱 함수와 딥러닝에서 중요한 또 다른 함수인 시그모이드를 함께 사용하겠습니다:"
      ],
      "metadata": {
        "id": "V_A0esNvhdx8"
      }
    },
    {
      "cell_type": "code",
      "source": [
        "def sigmoid(x: ndarray) -> ndarray:\n",
        "    '''\n",
        "    Apply the sigmoid function to each element in the input ndarray.\n",
        "    '''\n",
        "    return 1 / (1 + np.exp(-x))"
      ],
      "metadata": {
        "id": "9k5a6myhgh18"
      },
      "execution_count": 33,
      "outputs": []
    },
    {
      "cell_type": "code",
      "source": [
        "def chain_deriv_2(chain: Chain,\n",
        "                  input_range: ndarray) -> ndarray:\n",
        "    '''\n",
        "    Uses the chain rule to compute the derivative of two nested functions:\n",
        "    (f2(f1(x))' = f2'(f1(x)) * f1'(x)\n",
        "    '''\n",
        "\n",
        "    assert len(chain) == 2, \\\n",
        "    \"This function requires 'Chain' objects of length 2\"\n",
        "\n",
        "    assert input_range.ndim == 1, \\\n",
        "    \"Function requires a 1 dimensional ndarray as input_range\"\n",
        "\n",
        "    f1 = chain[0]\n",
        "    f2 = chain[1]\n",
        "\n",
        "    # df1/dx\n",
        "    f1_of_x = f1(input_range)\n",
        "\n",
        "    # df1/du\n",
        "    df1dx = deriv(f1, input_range)\n",
        "\n",
        "    # df2/du(f1(x))\n",
        "    df2du = deriv(f2, f1(input_range))\n",
        "\n",
        "    # Multiplying these quantities together at each point\n",
        "    return df1dx * df2du"
      ],
      "metadata": {
        "id": "sDH1dPvnhora"
      },
      "execution_count": 34,
      "outputs": []
    },
    {
      "cell_type": "code",
      "source": [
        "def plot_chain(ax,\n",
        "               chain: Chain,\n",
        "               input_range: ndarray) -> None:\n",
        "    '''\n",
        "    Plots a chain function - a function made up of\n",
        "    multiple consecutive ndarray -> ndarray mappings -\n",
        "    Across the input_range\n",
        "\n",
        "    ax: matplotlib Subplot for plotting\n",
        "    '''\n",
        "\n",
        "    assert input_range.ndim == 1, \\\n",
        "    \"Function requires a 1 dimensional ndarray as input_range\"\n",
        "\n",
        "    output_range = chain_length_2(chain, input_range)\n",
        "    ax.plot(input_range, output_range)"
      ],
      "metadata": {
        "id": "s8BXZUVkhsIn"
      },
      "execution_count": 35,
      "outputs": []
    },
    {
      "cell_type": "code",
      "source": [
        "def plot_chain_deriv(ax,\n",
        "                     chain: Chain,\n",
        "                     input_range: ndarray) -> ndarray:\n",
        "    '''\n",
        "    Uses the chain rule to plot the derivative of a function consisting of two nested functions.\n",
        "\n",
        "    ax: matplotlib Subplot for plotting\n",
        "    '''\n",
        "    output_range = chain_deriv_2(chain, input_range)\n",
        "    ax.plot(input_range, output_range)"
      ],
      "metadata": {
        "id": "O1XkUr7vh6zL"
      },
      "execution_count": 36,
      "outputs": []
    },
    {
      "cell_type": "code",
      "source": [
        "fig, ax = plt.subplots(1, 2, sharey=True, figsize=(16, 8))  # 2 Rows, 1 Col\n",
        "\n",
        "chain_1 = [square, sigmoid]\n",
        "chain_2 = [sigmoid, square]\n",
        "\n",
        "PLOT_RANGE = np.arange(-3, 3, 0.01)\n",
        "plot_chain(ax[0], chain_1, PLOT_RANGE)\n",
        "plot_chain_deriv(ax[0], chain_1, PLOT_RANGE)\n",
        "\n",
        "ax[0].legend([\"$f(x)$\", \"$\\\\frac{df}{dx}$\"])\n",
        "ax[0].set_title(\"Function and derivative for\\n$f(x) = sigmoid(square(x))$\")\n",
        "\n",
        "plot_chain(ax[1], chain_2, PLOT_RANGE)\n",
        "plot_chain_deriv(ax[1], chain_2, PLOT_RANGE)\n",
        "ax[1].legend([\"$f(x)$\", \"$\\\\frac{df}{dx}$\"])\n",
        "ax[1].set_title(\"Function and derivative for\\n$f(x) = square(sigmoid(x))$\");\n",
        "\n",
        "# plt.savefig(IMG_FOLDER_PATH + \"08_plot_chain_rule_1.png\");\n",
        "# plt.savefig(PDF_IMG_FOLDER_PATH + \"08_plot_chain_rule_1.pdf\");"
      ],
      "metadata": {
        "colab": {
          "base_uri": "https://localhost:8080/",
          "height": 722
        },
        "id": "x5aVnA92h8Zz",
        "outputId": "8c929e31-e5e7-456e-c1c7-5997ace79404"
      },
      "execution_count": 37,
      "outputs": [
        {
          "output_type": "display_data",
          "data": {
            "text/plain": [
              "<Figure size 1600x800 with 2 Axes>"
            ],
            "image/png": "[encoded data removed]"
          },
          "metadata": {}
        }
      ]
    },
    {
      "cell_type": "markdown",
      "source": [
        "체인 규칙이 작동하는 것 같습니다. 함수가 위쪽으로 기울어져 있으면 도함수가 양수이고, 평평할 때는 도함수가 0이며, 아래쪽으로 기울어져 있으면 도함수가 음수입니다.  \n",
        "\n",
        "따라서 개별 함수가 대부분 미분 가능한 한 수학적으로나 코드를 통해 f1 f2와 같은 중첩 또는 \"복합\" 함수의 도함수를 계산할 수 있습니다.  \n",
        "\n",
        "딥러닝 모델은 수학적으로 이러한 대부분 미분 가능한 함수의 긴 체인이라는 것이 밝혀질 것이며, 약간 더 긴 예제를 자세히 살펴보는 것은 무슨 일이 일어나고 있는지, 그리고 어떻게 더 복잡한 모델로 일반화할 수 있는지에 대한 직관을 쌓는 데 도움이 될 것입니다."
      ],
      "metadata": {
        "id": "q75YicBmiKbD"
      }
    },
    {
      "cell_type": "markdown",
      "source": [
        "## A Slightly Longer Example\n",
        "구성 함수가 주어졌을 때 이러한 공식을 도함수 계산을 위한 코드 명령어로 어떻게 번역할 수 있을까요?"
      ],
      "metadata": {
        "id": "pfPeD-2qjLwU"
      }
    },
    {
      "cell_type": "code",
      "source": [
        "def chain_length_3(chain: Chain,\n",
        "                   x: ndarray) -> ndarray:\n",
        "    '''\n",
        "    Evaluates three functions in a row, in a \"Chain\".\n",
        "    '''\n",
        "    assert len(chain) == 3, \\\n",
        "    \"Length of input 'chain' should be 3\"\n",
        "\n",
        "    f1 = chain[0]\n",
        "    f2 = chain[1]\n",
        "    f3 = chain[2]\n",
        "\n",
        "    return f3(f2(f1(x)))"
      ],
      "metadata": {
        "id": "MOeqFWG_h-0q"
      },
      "execution_count": 38,
      "outputs": []
    },
    {
      "cell_type": "code",
      "source": [
        "def chain_deriv_3(chain: Chain,\n",
        "                  input_range: ndarray) -> ndarray:\n",
        "    '''\n",
        "    Uses the chain rule to compute the derivative of three nested functions:\n",
        "    (f3(f2(f1)))' = f3'(f2(f1(x))) * f2'(f1(x)) * f1'(x)\n",
        "    '''\n",
        "\n",
        "    assert len(chain) == 3, \\\n",
        "    \"This function requires 'Chain' objects to have length 3\"\n",
        "\n",
        "    f1 = chain[0]\n",
        "    f2 = chain[1]\n",
        "    f3 = chain[2]\n",
        "\n",
        "    # f1(x)\n",
        "    f1_of_x = f1(input_range)\n",
        "\n",
        "    # f2(f1(x))\n",
        "    f2_of_x = f2(f1_of_x)\n",
        "\n",
        "    # df3du\n",
        "    df3du = deriv(f3, f2_of_x)\n",
        "\n",
        "    # df2du\n",
        "    df2du = deriv(f2, f1_of_x)\n",
        "\n",
        "    # df1dx\n",
        "    df1dx = deriv(f1, input_range)\n",
        "\n",
        "    # Multiplying these quantities together at each point\n",
        "    return df1dx * df2du * df3du"
      ],
      "metadata": {
        "id": "oRIwVMjQjWzn"
      },
      "execution_count": 39,
      "outputs": []
    },
    {
      "cell_type": "markdown",
      "source": [
        "여기서 흥미로운 일이 일어났습니다 — 이 중첩 함수의 체인 규칙을 계산하기 위해 우리는 이 함수에 대해 두 가지 \"통과\"를 했습니다:  \n",
        "1. 먼저, 우리는 이 함수를 \"앞으로\" 진행하여 도중에 f1_of_x와 f2_of_x의 양을 계산했습니다. 이를 \"앞으로 통과\"라고 부를 수 있습니다 (그리고 생각하면 됩니다).  \n",
        "2. 그런 다음, 앞으로 통과할 때 계산한 양을 사용하여 도함수를 구성하는 양을 계산하면서 함수를 \"뒤로\" 진행했습니다.  \n",
        "마지막으로, 이 양들 중 세 가지를 곱하여 도함수를 구했습니다.  \n",
        "이제 지금까지 정의한 세 가지 간단한 함수인 시그모이드, 정사각형, 리퀴_렐루를 사용하여 이것이 작동한다는 것을 보여드리겠습니다."
      ],
      "metadata": {
        "id": "onXQpbbhjf7I"
      }
    },
    {
      "cell_type": "code",
      "source": [
        "def plot_chain(ax,\n",
        "               chain: Chain,\n",
        "               input_range: ndarray,\n",
        "               length: int=2) -> None:\n",
        "    '''\n",
        "    Plots a chain function - a function made up of\n",
        "    multiple consecutive ndarray -> ndarray mappings - across one range\n",
        "\n",
        "    ax: matplotlib Subplot for plotting\n",
        "    '''\n",
        "\n",
        "    assert input_range.ndim == 1, \\\n",
        "    \"Function requires a 1 dimensional ndarray as input_range\"\n",
        "    if length == 2:\n",
        "        output_range = chain_length_2(chain, input_range)\n",
        "    elif length == 3:\n",
        "        output_range = chain_length_3(chain, input_range)\n",
        "    ax.plot(input_range, output_range)"
      ],
      "metadata": {
        "id": "mFmxlmTVju6g"
      },
      "execution_count": 41,
      "outputs": []
    },
    {
      "cell_type": "code",
      "source": [
        "def plot_chain_deriv(ax,\n",
        "                     chain: Chain,\n",
        "                     input_range: ndarray,\n",
        "                     length: int=2) -> ndarray:\n",
        "    '''\n",
        "    Uses the chain rule to plot the derivative of two nested functions.\n",
        "\n",
        "    ax: matplotlib Subplot for plotting\n",
        "    '''\n",
        "\n",
        "    if length == 2:\n",
        "        output_range = chain_deriv_2(chain, input_range)\n",
        "    elif length == 3:\n",
        "        output_range = chain_deriv_3(chain, input_range)\n",
        "    ax.plot(input_range, output_range)"
      ],
      "metadata": {
        "id": "9LQt86bQjvj5"
      },
      "execution_count": 42,
      "outputs": []
    },
    {
      "cell_type": "code",
      "source": [
        "fig, ax = plt.subplots(1, 2, sharey=True, figsize=(16, 8))  # 2 Rows, 1 Col\n",
        "\n",
        "chain_1 = [leaky_relu, square, sigmoid]\n",
        "chain_2 = [leaky_relu, sigmoid, square]\n",
        "\n",
        "PLOT_RANGE = np.arange(-3, 3, 0.01)\n",
        "plot_chain(ax[0], chain_1, PLOT_RANGE, length=3)\n",
        "plot_chain_deriv(ax[0], chain_1, PLOT_RANGE, length=3)\n",
        "\n",
        "ax[0].legend([\"$f(x)$\", \"$\\\\frac{df}{dx}$\"])\n",
        "ax[0].set_title(\"Function and derivative for\\n$f(x) = sigmoid(square(leakyRrelu(x)))$\")\n",
        "\n",
        "plot_chain(ax[1], chain_2, PLOT_RANGE, length=3)\n",
        "plot_chain_deriv(ax[1], chain_2, PLOT_RANGE, length=3)\n",
        "ax[1].legend([\"$f(x)$\", \"$\\\\frac{df}{dx}$\"])\n",
        "ax[1].set_title(\"Function and derivative for\\n$f(x) = square(sigmoid(leakyRelu(x)))$\");\n",
        "\n",
        "# plt.savefig(IMG_FOLDER_PATH + \"09_plot_chain_rule_2.png\");\n",
        "# plt.savefig(PDF_IMG_FOLDER_PATH + \"09_plot_chain_rule_2.pdf\");"
      ],
      "metadata": {
        "colab": {
          "base_uri": "https://localhost:8080/",
          "height": 722
        },
        "id": "K0bNO0jwjaep",
        "outputId": "fa68a07d-c252-4752-de07-e6a50c4bd3a1"
      },
      "execution_count": 43,
      "outputs": [
        {
          "output_type": "display_data",
          "data": {
            "text/plain": [
              "<Figure size 1600x800 with 2 Axes>"
            ],
            "image/png": "[encoded data removed]"
          },
          "metadata": {}
        }
      ]
    },
    {
      "cell_type": "markdown",
      "source": [
        "## Functions with Multiple Inputs\n"
      ],
      "metadata": {
        "id": "wFm3sL0RkKpt"
      }
    },
    {
      "cell_type": "code",
      "source": [
        "def multiple_inputs_add(x: ndarray,\n",
        "                        y: ndarray,\n",
        "                        sigma: Array_Function) -> float:\n",
        "    '''\n",
        "    Function with multiple inputs and addition, forward pass\n",
        "    '''\n",
        "    assert x.shape == y.shape\n",
        "\n",
        "    a = x + y\n",
        "    return sigma(a)"
      ],
      "metadata": {
        "id": "Zn5cjYN5jqFk"
      },
      "execution_count": 44,
      "outputs": []
    },
    {
      "cell_type": "markdown",
      "source": [
        "이 장의 앞부분에서 보았던 함수와 달리 이 함수는 단순히 입력 ndarray의 각 요소에서 \"요소적으로\" 작동하지 않습니다.  \n",
        "여러 ndarray를 입력으로 사용하는 연산을 처리할 때마다 해당 연산에 필요한 모든 조건을 충족하는지 확인해야 합니다.  \n",
        "여기서 덧셈과 같은 간단한 연산의 경우 요소적으로 덧셈이 일어날 수 있도록 모양이 동일한지 확인하기만 하면 됩니다."
      ],
      "metadata": {
        "id": "3zdejmbPk_Hd"
      }
    },
    {
      "cell_type": "markdown",
      "source": [
        "## Derivatives of Functions with Multiple Inputs\n"
      ],
      "metadata": {
        "id": "b-QIurvVlF-2"
      }
    },
    {
      "cell_type": "code",
      "source": [
        "def multiple_inputs_add_backward(x: ndarray,\n",
        "                                 y: ndarray,\n",
        "                                 sigma: Array_Function) -> float:\n",
        "    '''\n",
        "    Computes the derivative of this simple function with respect to\n",
        "    both inputs\n",
        "    '''\n",
        "    # Compute \"forward pass\"\n",
        "    a = x + y\n",
        "\n",
        "    # Compute derivatives\n",
        "    dsda = deriv(sigma, a)\n",
        "\n",
        "    dadx, dady = 1, 1\n",
        "\n",
        "    return dsda * dadx, dsda * dady"
      ],
      "metadata": {
        "id": "K8Y96QpSk3VV"
      },
      "execution_count": 45,
      "outputs": []
    },
    {
      "cell_type": "markdown",
      "source": [
        "## Creating New Features from Existing Features"
      ],
      "metadata": {
        "id": "Y1rflH78mWXF"
      }
    },
    {
      "cell_type": "code",
      "source": [
        "def matmul_forward(X: ndarray,\n",
        "                   W: ndarray) -> ndarray:\n",
        "    '''\n",
        "    Computes the forward pass of a matrix multiplication\n",
        "    '''\n",
        "\n",
        "    assert X.shape[1] == W.shape[0], \\\n",
        "    '''\n",
        "    For matrix multiplication, the number of columns in the first array should match the\n",
        "    number of rows in the second, instead the number of columns in the first array is {0}\n",
        "    and the number of rows in the second array is {1}\n",
        "    '''.format(X.shape[1], W.shape[0])\n",
        "\n",
        "    # matrix multiplication\n",
        "    N = np.dot(X, W)\n",
        "\n",
        "    return N"
      ],
      "metadata": {
        "id": "wmocU_dDlXe_"
      },
      "execution_count": 46,
      "outputs": []
    },
    {
      "cell_type": "markdown",
      "source": [
        "## Derivatives of Functions with Multiple Vector Inputs"
      ],
      "metadata": {
        "id": "5qvY3qNwmdLT"
      }
    },
    {
      "cell_type": "code",
      "source": [
        "def matmul_backward_first(X: ndarray,\n",
        "                          W: ndarray) -> ndarray:\n",
        "    '''\n",
        "    Computes the backward pass of a matrix multiplication with respect to the first argument.\n",
        "    '''\n",
        "\n",
        "    # backward pass\n",
        "    dNdX = np.transpose(W, (1, 0))\n",
        "\n",
        "    return dNdX"
      ],
      "metadata": {
        "id": "b5JzjkMlmV-H"
      },
      "execution_count": 47,
      "outputs": []
    },
    {
      "cell_type": "markdown",
      "source": [
        "여기서 계산된 dNdX 양은 출력 N의 합에 대한 X의 각 요소의 편미분을 나타냅니다.  \n",
        "이 양에 대한 특별한 이름이 있는데, 이를 X에 대한 X의 기울기라고 부르겠습니다.  \n",
        "아이디어는 X의 개별 요소(예: x3, 즉 dNdx(dNdX[2])의 해당 요소가 x3에 대한 벡터 내적 N의 출력의 편미분이라는 것입니다.  \n",
        "이 책에서 사용할 \"기울기\"라는 용어는 단순히 편미분의 다차원 유사체를 의미하며, 구체적으로는 해당 함수에 대한 입력의 각 요소에 대한 함수의 출력의 편미분 배열입니다."
      ],
      "metadata": {
        "id": "_-FSwfNjm0VW"
      }
    },
    {
      "cell_type": "markdown",
      "source": [
        "## Vector Functions and Their Derivatives: One Step Further"
      ],
      "metadata": {
        "id": "JunpEf4gm9Z5"
      }
    },
    {
      "cell_type": "code",
      "source": [
        "def matrix_forward_extra(X: ndarray,\n",
        "                         W: ndarray,\n",
        "                         sigma: Array_Function) -> ndarray:\n",
        "    '''\n",
        "    Computes the forward pass of a function involving matrix multiplication, one extra function\n",
        "    '''\n",
        "    assert X.shape[1] == W.shape[0]\n",
        "\n",
        "    # matrix multiplication\n",
        "    N = np.dot(X, W)\n",
        "\n",
        "    # feeding the output of the matrix multiplication through sigma\n",
        "    S = sigma(N)\n",
        "\n",
        "    return S"
      ],
      "metadata": {
        "id": "4eAVkGjzmrC4"
      },
      "execution_count": 48,
      "outputs": []
    },
    {
      "cell_type": "markdown",
      "source": [
        "## Vector Functions and Their Derivatives: The Backward Pass"
      ],
      "metadata": {
        "id": "GYhQPa07nSZR"
      }
    },
    {
      "cell_type": "code",
      "source": [
        "def matrix_function_backward_1(X: ndarray,\n",
        "                               W: ndarray,\n",
        "                               sigma: Array_Function) -> ndarray:\n",
        "    '''\n",
        "    Computes the derivative of our matrix function with respect to\n",
        "    the first element.\n",
        "    '''\n",
        "    assert X.shape[1] == W.shape[0]\n",
        "\n",
        "    # matrix multiplication\n",
        "    N = np.dot(X, W)\n",
        "\n",
        "    # feeding the output of the matrix multiplication through sigma\n",
        "    S = sigma(N)\n",
        "\n",
        "    # backward calculation\n",
        "    dSdN = deriv(sigma, N)\n",
        "\n",
        "    # dNdX\n",
        "    dNdX = np.transpose(W, (1, 0))\n",
        "\n",
        "    # multiply them together; since dNdX is 1x1 here, order doesn't matter\n",
        "    return np.dot(dSdN, dNdX)"
      ],
      "metadata": {
        "id": "bqy3eZ0EnPwj"
      },
      "execution_count": 49,
      "outputs": []
    },
    {
      "cell_type": "markdown",
      "source": [
        "여기서 우리는 이전 예제에서 세 개의 중첩 함수를 사용했을 때와 동일한 동역학을 보인다는 것을 주목하세요:  \n",
        "우리는 순방향 패스(여기서 N만)에서 양을 계산하고, 역방향 패스 동안 이를 사용합니다."
      ],
      "metadata": {
        "id": "Dg1PvcAonphd"
      }
    },
    {
      "cell_type": "markdown",
      "source": [
        "우리가 계산하는 도함수가 맞는지 어떻게 알 수 있나요?  \n",
        "간단한 테스트는 입력을 약간 교란하고 그에 따른 출력 변화를 관찰하는 것입니다. 예를 들어, 이 경우 X는 다음과 같습니다:"
      ],
      "metadata": {
        "id": "I1nyALGioGqr"
      }
    },
    {
      "cell_type": "code",
      "source": [
        "np.random.seed(190203)\n",
        "\n",
        "X = np.random.randn(1,3)\n",
        "W = np.random.randn(3,1)\n",
        "\n",
        "print(X)\n",
        "matmul_backward_first(X, W)"
      ],
      "metadata": {
        "colab": {
          "base_uri": "https://localhost:8080/"
        },
        "id": "RViPCi2jn99A",
        "outputId": "1fbc6101-58d2-4839-95a3-f5cc98532745"
      },
      "execution_count": 53,
      "outputs": [
        {
          "output_type": "stream",
          "name": "stdout",
          "text": [
            "[[ 0.47231121  0.61514271 -1.72622715]]\n"
          ]
        },
        {
          "output_type": "execute_result",
          "data": {
            "text/plain": [
              "array([[ 0.92819676, -0.60754888, -1.22136052]])"
            ]
          },
          "metadata": {},
          "execution_count": 53
        }
      ]
    },
    {
      "cell_type": "markdown",
      "source": [
        "x3을 -1.726에서 -1.716으로 0.01 증가시키면 x3 × 0.01에 대한 출력의 기울기의 순방향 함수에 의해 생성되는 값이 증가하는 것을 볼 수 있습니다.  "
      ],
      "metadata": {
        "id": "MSyhQQJzoZy1"
      }
    },
    {
      "cell_type": "markdown",
      "source": [
        "matrix_function_backward_1 함수를 사용하면 기울기가 -0.1121임을 알 수 있습니다:"
      ],
      "metadata": {
        "id": "W8-T0QBVof7O"
      }
    },
    {
      "cell_type": "code",
      "source": [
        "print(matrix_function_backward_1(X, W, sigmoid))"
      ],
      "metadata": {
        "colab": {
          "base_uri": "https://localhost:8080/"
        },
        "id": "OnNLQADUnj83",
        "outputId": "6245815e-6a6b-4f05-b60e-9acbe5a4c165"
      },
      "execution_count": 54,
      "outputs": [
        {
          "output_type": "stream",
          "name": "stdout",
          "text": [
            "[[ 0.08516695 -0.05574581 -0.11206627]]\n"
          ]
        }
      ]
    },
    {
      "cell_type": "markdown",
      "source": [
        "이 기울기가 올바른지 테스트하려면 x3을 0.01만큼 증가시킨 후 함수의 출력이 약 0.01 × -0.1121 = -0.001121 감소한 것을 확인해야 합니다.  \n",
        "예를 들어 이 양보다 많거나 적거나 증가한 것을 보면 체인 규칙에 대한 추론이 틀렸다는 것을 알 수 있습니다.  \n",
        "그러나 이 계산을 할 때 보이는 것은 x3을 소량 증가시키면 함수의 출력 값이 실제로 0.01 × -0.1121 감소한다는 것입니다.  \n",
        "즉, 우리가 계산하는 도함수가 정확하다는 것을 의미합니다!"
      ],
      "metadata": {
        "id": "RJp2cK_fovRA"
      }
    },
    {
      "cell_type": "code",
      "source": [
        "def forward_test(ind1, ind2, inc):\n",
        "\n",
        "    X1 = X.copy()\n",
        "    X1[ind1, ind2] = X[ind1, ind2] + inc\n",
        "\n",
        "    return matrix_forward_extra(X1, W, sigmoid)"
      ],
      "metadata": {
        "id": "OUd_iPrRnxIK"
      },
      "execution_count": 55,
      "outputs": []
    },
    {
      "cell_type": "code",
      "source": [
        "(np.round(forward_test(0, 2, 0.01) - forward_test(0, 2, 0), 4)) / 0.01"
      ],
      "metadata": {
        "colab": {
          "base_uri": "https://localhost:8080/"
        },
        "id": "1f2xqZE0o8xk",
        "outputId": "2ab87b7c-7f2f-4338-98a4-4d7059e62f06"
      },
      "execution_count": 56,
      "outputs": [
        {
          "output_type": "execute_result",
          "data": {
            "text/plain": [
              "array([[-0.11]])"
            ]
          },
          "metadata": {},
          "execution_count": 56
        }
      ]
    },
    {
      "cell_type": "code",
      "source": [
        "np.round(matrix_function_backward_1(X, W, sigmoid)[0, 2], 2)"
      ],
      "metadata": {
        "colab": {
          "base_uri": "https://localhost:8080/"
        },
        "id": "TcY0LkuNpGbT",
        "outputId": "1104df48-f133-43ed-ddd4-4442fdafd2fd"
      },
      "execution_count": 57,
      "outputs": [
        {
          "output_type": "execute_result",
          "data": {
            "text/plain": [
              "np.float64(-0.11)"
            ]
          },
          "metadata": {},
          "execution_count": 57
        }
      ]
    },
    {
      "cell_type": "markdown",
      "source": [
        "## Computational Graph with Two 2D Matrix Inputs"
      ],
      "metadata": {
        "id": "XaI14gZLpXpb"
      }
    },
    {
      "cell_type": "code",
      "source": [
        "def matrix_function_forward_sum(X: ndarray,\n",
        "                                W: ndarray,\n",
        "                                sigma: Array_Function) -> float:\n",
        "    '''\n",
        "    Computing the result of the forward pass of this function with\n",
        "    input ndarrays X and W and function sigma.\n",
        "    '''\n",
        "    assert X.shape[1] == W.shape[0]\n",
        "\n",
        "    # matrix multiplication\n",
        "    N = np.dot(X, W)\n",
        "\n",
        "    # feeding the output of the matrix multiplication through sigma\n",
        "    S = sigma(N)\n",
        "\n",
        "    # sum all the elements\n",
        "    L = np.sum(S)\n",
        "\n",
        "    return L"
      ],
      "metadata": {
        "id": "aDnjiZEopRV0"
      },
      "execution_count": 58,
      "outputs": []
    },
    {
      "cell_type": "markdown",
      "source": [
        "## The Fun Part: The Backward Pass"
      ],
      "metadata": {
        "id": "QL9kJB9wq2np"
      }
    },
    {
      "cell_type": "code",
      "source": [
        "def matrix_function_backward_sum_1(X: ndarray,\n",
        "                                   W: ndarray,\n",
        "                                   sigma: Array_Function) -> ndarray:\n",
        "    '''\n",
        "    Compute derivative of matrix function with a sum with respect to the\n",
        "    first matrix input\n",
        "    '''\n",
        "    assert X.shape[1] == W.shape[0]\n",
        "\n",
        "    # matrix multiplication\n",
        "    N = np.dot(X, W)\n",
        "\n",
        "    # feeding the output of the matrix multiplication through sigma\n",
        "    S = sigma(N)\n",
        "\n",
        "    # sum all the elements\n",
        "    L = np.sum(S)\n",
        "\n",
        "    # note: I'll refer to the derivatives by their quantities here,\n",
        "    # unlike the math where we referred to their function names\n",
        "\n",
        "    # dLdS - just 1s\n",
        "    dLdS = np.ones_like(S)\n",
        "\n",
        "    # dSdN\n",
        "    dSdN = deriv(sigma, N)\n",
        "\n",
        "    # dLdN\n",
        "    dLdN = dLdS * dSdN\n",
        "\n",
        "    # dNdX\n",
        "    dNdX = np.transpose(W, (1, 0))\n",
        "\n",
        "    # dLdX\n",
        "    dLdX = np.dot(dSdN, dNdX)\n",
        "\n",
        "    return dLdX"
      ],
      "metadata": {
        "id": "FCf_kRiKqhGw"
      },
      "execution_count": 59,
      "outputs": []
    },
    {
      "cell_type": "code",
      "source": [
        "np.random.seed(190204)\n",
        "X = np.random.randn(3, 3)\n",
        "W = np.random.randn(3, 2)\n",
        "\n",
        "print(\"X:\")\n",
        "print(X)\n",
        "\n",
        "print(\"L:\")\n",
        "print(round(matrix_function_forward_sum(X, W, sigmoid), 4))\n",
        "print()\n",
        "print(\"dLdX:\")\n",
        "print(matrix_function_backward_sum_1(X, W , sigmoid))"
      ],
      "metadata": {
        "colab": {
          "base_uri": "https://localhost:8080/"
        },
        "id": "BlOKOXDmq0UV",
        "outputId": "753e1848-1760-46ab-efe5-787bd851366e"
      },
      "execution_count": 60,
      "outputs": [
        {
          "output_type": "stream",
          "name": "stdout",
          "text": [
            "X:\n",
            "[[-1.57752816 -0.6664228   0.63910406]\n",
            " [-0.56152218  0.73729959 -1.42307821]\n",
            " [-1.44348429 -0.39128029  0.1539322 ]]\n",
            "L:\n",
            "2.3755\n",
            "\n",
            "dLdX:\n",
            "[[ 0.2488887  -0.37478057  0.01121962]\n",
            " [ 0.12604152 -0.27807404 -0.13945837]\n",
            " [ 0.22992798 -0.36623443 -0.02252592]]\n"
          ]
        }
      ]
    },
    {
      "cell_type": "markdown",
      "source": [
        "이전 예제에서와 같이 dLdX는 L에 대한 X의 기울기를 나타내기 때문에, 이는 예를 들어 왼쪽 상단 요소가 ∂ λ /$\\partial x_{11}$ X, W = 0.2489를 나타낸다는 것을 의미합니다.  \n",
        "따라서 이 예제의 행렬 계산이 맞다면 x11을 0.001 증가시키면 L이 0.01 × 0.2489 증가하게 됩니다. 실제로 이렇게 된다는 것을 알 수 있습니다:"
      ],
      "metadata": {
        "id": "52MiXwsxu42k"
      }
    },
    {
      "cell_type": "code",
      "source": [
        "X1 = X.copy()\n",
        "X1[0, 0] += 0.001\n",
        "\n",
        "print(round(\n",
        "        (matrix_function_forward_sum(X1, W, sigmoid) - \\\n",
        "         matrix_function_forward_sum(X, W, sigmoid)) / 0.001, 4))"
      ],
      "metadata": {
        "colab": {
          "base_uri": "https://localhost:8080/"
        },
        "id": "RyIjjKZOutt6",
        "outputId": "b19fb726-b569-435e-b863-f9e30609caf2"
      },
      "execution_count": 61,
      "outputs": [
        {
          "output_type": "stream",
          "name": "stdout",
          "text": [
            "0.2489\n"
          ]
        }
      ]
    },
    {
      "cell_type": "markdown",
      "source": [
        "각 함수는 미분 가능하기 때문에 전체 함수는 x11을 입력으로 하는 단일 미분 가능 함수일 뿐이므로 기울기는 단순히 dL이 무엇인지에 대한 답이 됩니다.  \n",
        "이를 시각화하려면 x11이 변할 때 L이 어떻게 변하는지 간단히 그래프로 표시하면 됩니다."
      ],
      "metadata": {
        "id": "Y8uGXecCwKPE"
      }
    },
    {
      "cell_type": "markdown",
      "source": [],
      "metadata": {
        "id": "gStGXVfowKN7"
      }
    },
    {
      "cell_type": "code",
      "source": [
        "print(\"X:\")\n",
        "print(X)"
      ],
      "metadata": {
        "colab": {
          "base_uri": "https://localhost:8080/"
        },
        "id": "PhiREAEMvJCZ",
        "outputId": "5cb16178-0a6a-46bd-b2dc-5651d7582f76"
      },
      "execution_count": 62,
      "outputs": [
        {
          "output_type": "stream",
          "name": "stdout",
          "text": [
            "X:\n",
            "[[-1.57752816 -0.6664228   0.63910406]\n",
            " [-0.56152218  0.73729959 -1.42307821]\n",
            " [-1.44348429 -0.39128029  0.1539322 ]]\n"
          ]
        }
      ]
    },
    {
      "cell_type": "code",
      "source": [
        "def matrix_function_forward_sum(X: ndarray,\n",
        "                                W: ndarray,\n",
        "                                sigma: Array_Function,\n",
        "                                modify_x11: bool = False,\n",
        "                                x11: float = 0.5) -> float:\n",
        "    '''\n",
        "    Computing the result of the forward pass of this function with\n",
        "    input Tensors X and W and function sigma.\n",
        "    '''\n",
        "    assert X.shape[1] == W.shape[0]\n",
        "\n",
        "    if modify_x11:\n",
        "        X1 = X.copy()\n",
        "        X1[0][0] = x11\n",
        "\n",
        "    # matrix multiplication\n",
        "    N = np.dot(X1, W)\n",
        "\n",
        "    # feeding the output of the matrix multiplication through sigma\n",
        "    S = sigma(N)\n",
        "\n",
        "    # sum all the elements\n",
        "    L = np.sum(S)\n",
        "\n",
        "    return L"
      ],
      "metadata": {
        "id": "RZI6gfsUwDYd"
      },
      "execution_count": 64,
      "outputs": []
    },
    {
      "cell_type": "code",
      "source": [
        "x11s = np.arange(X[0][0] - 1, X[0][0] + 1, 0.01)\n",
        "Ls = [matrix_function_forward_sum(X, W, sigmoid,\n",
        "                                  modify_x11 = True,\n",
        "                                  x11=x11) for x11 in x11s]"
      ],
      "metadata": {
        "id": "s5WGmA3Yv9OD"
      },
      "execution_count": 65,
      "outputs": []
    },
    {
      "cell_type": "markdown",
      "source": [
        "이전에 정의된 계산 그래프에 X와 W를 입력한 결과, 또는 이전 코드에서 호출한 함수에 X와 W를 입력한 결과 값을 그래프로 나타내면 x11(또는 X[0, 0])의 값 외에는 아무것도 변하지 않습니다."
      ],
      "metadata": {
        "id": "V1k7L18NwbaY"
      }
    },
    {
      "cell_type": "code",
      "source": [
        "plt.plot(x11s, Ls);\n",
        "# plt.title(\"Value of $L$ as $x_{11}$ changes holding\\nother values of $X$ and $W$ constant\")\n",
        "plt.xlabel(\"$x_{11}$\")\n",
        "plt.ylabel(\"$L$\");\n",
        "# plt.savefig(IMG_FOLDER_PATH + \"18_x11_vs_L.png\");\n",
        "# plt.savefig(PDF_IMG_FOLDER_PATH + \"18_x11_vs_L.pdf\");"
      ],
      "metadata": {
        "colab": {
          "base_uri": "https://localhost:8080/",
          "height": 450
        },
        "id": "NAOdGnI7v_JE",
        "outputId": "3d044cba-d69f-4fb2-d45f-e42d2884b0c5"
      },
      "execution_count": 66,
      "outputs": [
        {
          "output_type": "display_data",
          "data": {
            "text/plain": [
              "<Figure size 640x480 with 1 Axes>"
            ],
            "image/png": "[encoded data removed]"
          },
          "metadata": {}
        }
      ]
    },
    {
      "cell_type": "markdown",
      "source": [
        "실제로 x11의 경우 이 관계를 보면 이 함수가 L축을 따라 증가하는 거리는 대략 0.5(2.1을 조금 넘는 거리에서 2.6을 조금 넘는 거리)인 것 같고, x11축을 따라 2의 변화를 보이고 있어 \"기울기\"가 대략 0.5 / 2 = 0.25가 된다는 것을 알 수 있습니다. 이것이 바로 우리가 방금 계산한 것입니다!\n",
        "\n",
        "따라서 복잡한 행렬 계산을 통해 실제로 X의 각 요소에 대한 편미분 L을 올바르게 계산한 것으로 보입니다. 또한 W에 대한 L의 기울기도 유사하게 계산할 수 있습니다."
      ],
      "metadata": {
        "id": "BujBJbkXwvOO"
      }
    },
    {
      "cell_type": "code",
      "source": [],
      "metadata": {
        "id": "J0VeqzO0we6D"
      },
      "execution_count": null,
      "outputs": []
    }
  ]
}