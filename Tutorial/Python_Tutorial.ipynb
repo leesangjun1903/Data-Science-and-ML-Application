{
  "nbformat": 4,
  "nbformat_minor": 0,
  "metadata": {
    "colab": {
      "provenance": []
    },
    "kernelspec": {
      "name": "python3",
      "display_name": "Python 3"
    },
    "language_info": {
      "name": "python"
    }
  },
  "cells": [
    {
      "cell_type": "markdown",
      "source": [
        "# print (출력)"
      ],
      "metadata": {
        "id": "3BZAbTBlDPcV"
      }
    },
    {
      "cell_type": "code",
      "execution_count": 1,
      "metadata": {
        "colab": {
          "base_uri": "https://localhost:8080/"
        },
        "id": "b9QOsnD3DH_G",
        "outputId": "4895d1df-7c3f-4dc9-841e-d1989458364c"
      },
      "outputs": [
        {
          "output_type": "stream",
          "name": "stdout",
          "text": [
            "오늘 파이썬 배우기 좋은 날이네!\n"
          ]
        }
      ],
      "source": [
        "print('오늘 파이썬 배우기 좋은 날이네!')"
      ]
    },
    {
      "cell_type": "markdown",
      "source": [
        "# 변수 (Variable)\n",
        "\n",
        "변수의 이름 규칙 (Rule)\n",
        "다음의 문자만 사용할 수 있습니다.\n",
        "\n",
        "소문자(a~z)\n",
        "\n",
        "대문자(A~Z)\n",
        "\n",
        "숫자(0~9)\n",
        "\n",
        "한글도 가능\n",
        "\n",
        "특수기호는 언더바(_) 만 허용\n",
        "\n",
        "대소 문자를 구분합니다.  \n",
        "숫자는 맨 처음에 올 수 없습니다.  \n",
        "예약어(keyword)는 사용할 수 없습니다. (def, if, del, import, return 등등)\n"
      ],
      "metadata": {
        "id": "dMfpYzSRDe5X"
      }
    },
    {
      "cell_type": "code",
      "source": [
        "test = 10"
      ],
      "metadata": {
        "id": "rhRs__nNDUjQ"
      },
      "execution_count": 2,
      "outputs": []
    },
    {
      "cell_type": "code",
      "source": [
        "test"
      ],
      "metadata": {
        "colab": {
          "base_uri": "https://localhost:8080/"
        },
        "id": "pzE9Il77Dymu",
        "outputId": "98c3fb0a-de05-4ad8-b6bb-c65912433d31"
      },
      "execution_count": 3,
      "outputs": [
        {
          "output_type": "execute_result",
          "data": {
            "text/plain": [
              "10"
            ]
          },
          "metadata": {},
          "execution_count": 3
        }
      ]
    },
    {
      "cell_type": "markdown",
      "source": [
        "# 데이터 타입 (Data Type)\n",
        "\n",
        "주요 데이터 타입(type)\n",
        "\n",
        "- int (정수): Integer(정수)의 약어이며, 정수를 나타내는 자료형입니다.\n",
        "- float (실수): Floating point의 약어이며, 소수점이 있는 숫자를 나타내는 자료형입니다\n",
        "- str (문자열): 문자를 나타내는 자료형입니다. 작은 따옴표 혹은 큰 따옴표로 감싸져 있습니다.\n",
        "- bool (참/거짓): 참 또는 거짓을 나타내는 자료형입니다. True, False에서 T와 F는 반드시 대문자로 표기해야 합니다."
      ],
      "metadata": {
        "id": "ghJqiIenD0LN"
      }
    },
    {
      "cell_type": "markdown",
      "source": [
        "# 아무것도 아닌 None 타입\n",
        "\n",
        "Null: Nullify (무효화하다) 라는 뜻을 가지고 있다네요~"
      ],
      "metadata": {
        "id": "0o4qd4hbESsO"
      }
    },
    {
      "cell_type": "code",
      "source": [
        "a = None"
      ],
      "metadata": {
        "id": "187DUo-ZDzKu"
      },
      "execution_count": 4,
      "outputs": []
    },
    {
      "cell_type": "code",
      "source": [
        "type(a)"
      ],
      "metadata": {
        "colab": {
          "base_uri": "https://localhost:8080/"
        },
        "id": "qBH7PUt7EYBL",
        "outputId": "806919db-bc60-423e-aefc-3c7b5e8ff09b"
      },
      "execution_count": 5,
      "outputs": [
        {
          "output_type": "execute_result",
          "data": {
            "text/plain": [
              "NoneType"
            ]
          },
          "metadata": {},
          "execution_count": 5
        }
      ]
    },
    {
      "cell_type": "markdown",
      "source": [
        "int를 float로 변환한 경우 : .0 추가됨.\n",
        "\n",
        "float를 int로 변환한 경우 : float를 int로 변환시 반올림이 아닌 값이 버림되어 집니다. (소수점 이하 절삭)\n",
        "\n",
        "bool을 int로 변환한 경우 : False : 0, True : 1 변환\n",
        "\n",
        "bool을 float로 변환한 경우 : .0 추가"
      ],
      "metadata": {
        "id": "nQrchaLqEgRf"
      }
    },
    {
      "cell_type": "markdown",
      "source": [
        "# 리스트(list)\n",
        "\n",
        "list는 다양한 type의 데이터를 집합으로 가집니다.  \n",
        "list안에 list도 허용합니다.  \n",
        "list는 순서(order)의 개념이 존재합니다."
      ],
      "metadata": {
        "id": "ajC3i8XOFFJd"
      }
    },
    {
      "cell_type": "code",
      "source": [
        "a = [1, 'hello', 3, 3.14, [6, 7, '8']]\n",
        "a"
      ],
      "metadata": {
        "colab": {
          "base_uri": "https://localhost:8080/"
        },
        "id": "f7VhQlSfEZKd",
        "outputId": "06155323-a551-473e-8762-38a1224e580f"
      },
      "execution_count": 7,
      "outputs": [
        {
          "output_type": "execute_result",
          "data": {
            "text/plain": [
              "[1, 'hello', 3, 3.14, [6, 7, '8']]"
            ]
          },
          "metadata": {},
          "execution_count": 7
        }
      ]
    },
    {
      "cell_type": "markdown",
      "source": [
        "관련 함수\n",
        "- . 점 연산자로 함수를 실행할 수 있습니다.\n",
        "- 함수는 어떤 작업을 수행하는 코드를 모아 이름을 붙인 것입니다."
      ],
      "metadata": {
        "id": "VYHc7Co1Fa37"
      }
    },
    {
      "cell_type": "markdown",
      "source": [
        "## append() : 값 추가"
      ],
      "metadata": {
        "id": "6rhdrhp-Fioo"
      }
    },
    {
      "cell_type": "code",
      "source": [
        "mylist = []\n",
        "mylist.append(1)\n",
        "mylist"
      ],
      "metadata": {
        "colab": {
          "base_uri": "https://localhost:8080/"
        },
        "id": "7TDIjXFCFUhr",
        "outputId": "2bea0908-b399-4c35-875e-22f0f54014c4"
      },
      "execution_count": 8,
      "outputs": [
        {
          "output_type": "execute_result",
          "data": {
            "text/plain": [
              "[1]"
            ]
          },
          "metadata": {},
          "execution_count": 8
        }
      ]
    },
    {
      "cell_type": "markdown",
      "source": [
        "## sort() : 정렬"
      ],
      "metadata": {
        "id": "tTUeZTrlFyWb"
      }
    },
    {
      "cell_type": "code",
      "source": [
        "mylist = [1, 6, 3, 2, 7, 5, 4]\n",
        "mylist.sort()\n",
        "mylist"
      ],
      "metadata": {
        "colab": {
          "base_uri": "https://localhost:8080/"
        },
        "id": "49dTm_AZFvVO",
        "outputId": "2b907fba-0dbf-40ca-aff6-b9764ac08f69"
      },
      "execution_count": 9,
      "outputs": [
        {
          "output_type": "execute_result",
          "data": {
            "text/plain": [
              "[1, 2, 3, 4, 5, 6, 7]"
            ]
          },
          "metadata": {},
          "execution_count": 9
        }
      ]
    },
    {
      "cell_type": "markdown",
      "source": [
        "역정렬(reverse order)도 가능"
      ],
      "metadata": {
        "id": "zRWu6_4EF26X"
      }
    },
    {
      "cell_type": "code",
      "source": [
        "mylist.sort(reverse=True)\n",
        "mylist"
      ],
      "metadata": {
        "colab": {
          "base_uri": "https://localhost:8080/"
        },
        "id": "ycqOOHAxF2BU",
        "outputId": "33aab654-12ac-49f9-84cc-8ef539703c8b"
      },
      "execution_count": 10,
      "outputs": [
        {
          "output_type": "execute_result",
          "data": {
            "text/plain": [
              "[7, 6, 5, 4, 3, 2, 1]"
            ]
          },
          "metadata": {},
          "execution_count": 10
        }
      ]
    },
    {
      "cell_type": "markdown",
      "source": [
        "## len() : 전체 항목의 개수 세기"
      ],
      "metadata": {
        "id": "rsaTt88WF-3q"
      }
    },
    {
      "cell_type": "code",
      "source": [
        "mylist = [1, 6, 3, 2, 7, 5, 4]\n",
        "len(mylist)"
      ],
      "metadata": {
        "colab": {
          "base_uri": "https://localhost:8080/"
        },
        "id": "aUMsDWEWF96j",
        "outputId": "823735ab-caf3-4866-ac3b-e54821d702fa"
      },
      "execution_count": 11,
      "outputs": [
        {
          "output_type": "execute_result",
          "data": {
            "text/plain": [
              "7"
            ]
          },
          "metadata": {},
          "execution_count": 11
        }
      ]
    },
    {
      "cell_type": "markdown",
      "source": [
        "## insert() : 값 추가"
      ],
      "metadata": {
        "id": "hujakNZsGD8f"
      }
    },
    {
      "cell_type": "code",
      "source": [
        "mylist.insert(1, 100)\n",
        "mylist"
      ],
      "metadata": {
        "colab": {
          "base_uri": "https://localhost:8080/"
        },
        "id": "dq1bUIhZGDUo",
        "outputId": "6d0dcd88-855b-4a89-f0a8-2c25dce01630"
      },
      "execution_count": 12,
      "outputs": [
        {
          "output_type": "execute_result",
          "data": {
            "text/plain": [
              "[1, 100, 6, 3, 2, 7, 5, 4]"
            ]
          },
          "metadata": {},
          "execution_count": 12
        }
      ]
    },
    {
      "cell_type": "markdown",
      "source": [
        "## remove() : 값 제거"
      ],
      "metadata": {
        "id": "E6Srhr-DGJLW"
      }
    },
    {
      "cell_type": "code",
      "source": [
        "mylist.remove(1) # 리스트 속 숫자 입력\n",
        "mylist"
      ],
      "metadata": {
        "colab": {
          "base_uri": "https://localhost:8080/"
        },
        "id": "meHC2WFGGInv",
        "outputId": "0585eb81-3efe-4e07-ab1a-b29bb5eecdc2"
      },
      "execution_count": 15,
      "outputs": [
        {
          "output_type": "execute_result",
          "data": {
            "text/plain": [
              "[100, 6, 3, 2, 7, 5, 4]"
            ]
          },
          "metadata": {},
          "execution_count": 15
        }
      ]
    },
    {
      "cell_type": "markdown",
      "source": [
        "## pop() : 요소 꺼내기"
      ],
      "metadata": {
        "id": "RbrOSFWYGYLu"
      }
    },
    {
      "cell_type": "code",
      "source": [
        "mylist"
      ],
      "metadata": {
        "colab": {
          "base_uri": "https://localhost:8080/"
        },
        "id": "HUSzRoTbGdhG",
        "outputId": "b88e87d3-5a5c-447b-bf8f-3c2b791340a9"
      },
      "execution_count": 17,
      "outputs": [
        {
          "output_type": "execute_result",
          "data": {
            "text/plain": [
              "[100, 3, 2, 7, 5, 4]"
            ]
          },
          "metadata": {},
          "execution_count": 17
        }
      ]
    },
    {
      "cell_type": "code",
      "source": [
        "mylist.pop(1)"
      ],
      "metadata": {
        "colab": {
          "base_uri": "https://localhost:8080/"
        },
        "id": "AuoDYpB3GPpw",
        "outputId": "183b633a-2ad5-45ad-c52c-a24904b78c72"
      },
      "execution_count": 18,
      "outputs": [
        {
          "output_type": "execute_result",
          "data": {
            "text/plain": [
              "3"
            ]
          },
          "metadata": {},
          "execution_count": 18
        }
      ]
    },
    {
      "cell_type": "markdown",
      "source": [
        "## count() : 갯수 세기"
      ],
      "metadata": {
        "id": "tnM4e04RGjep"
      }
    },
    {
      "cell_type": "code",
      "source": [
        "a = [1, 1, 1, 1, 1, 2, 2, 3]\n",
        "a.count(1)"
      ],
      "metadata": {
        "colab": {
          "base_uri": "https://localhost:8080/"
        },
        "id": "-mA0OMDCGbfZ",
        "outputId": "0c5bc55e-a9d4-4d9d-aef0-8648075196f1"
      },
      "execution_count": 20,
      "outputs": [
        {
          "output_type": "execute_result",
          "data": {
            "text/plain": [
              "5"
            ]
          },
          "metadata": {},
          "execution_count": 20
        }
      ]
    },
    {
      "cell_type": "markdown",
      "source": [
        "## extend() : 리스트 확장"
      ],
      "metadata": {
        "id": "h2fWWfzkGtd-"
      }
    },
    {
      "cell_type": "code",
      "source": [
        "a.extend([4, 5])\n",
        "a"
      ],
      "metadata": {
        "colab": {
          "base_uri": "https://localhost:8080/"
        },
        "id": "lfKOrnb5Gn0C",
        "outputId": "cc91419e-f40f-4047-af06-61acf2d3f75d"
      },
      "execution_count": 21,
      "outputs": [
        {
          "output_type": "execute_result",
          "data": {
            "text/plain": [
              "[1, 1, 1, 1, 1, 2, 2, 3, 4, 5]"
            ]
          },
          "metadata": {},
          "execution_count": 21
        }
      ]
    },
    {
      "cell_type": "code",
      "source": [
        "a + [4, 5]\n",
        "a"
      ],
      "metadata": {
        "colab": {
          "base_uri": "https://localhost:8080/"
        },
        "id": "-zGMVicvG2qs",
        "outputId": "0be66fcf-cb4a-4f52-b5f2-77076c9faa8d"
      },
      "execution_count": 22,
      "outputs": [
        {
          "output_type": "execute_result",
          "data": {
            "text/plain": [
              "[1, 1, 1, 1, 1, 2, 2, 3, 4, 5]"
            ]
          },
          "metadata": {},
          "execution_count": 22
        }
      ]
    },
    {
      "cell_type": "markdown",
      "source": [
        "## 인덱싱(indexing): 색인"
      ],
      "metadata": {
        "id": "DZ7eEUOVGyiu"
      }
    },
    {
      "cell_type": "code",
      "source": [
        "fruit = ['사과', '바나나', '파인애플', '배', '수박', '키위', '오렌지', '망고', '딸기']\n",
        "fruit[2:5]"
      ],
      "metadata": {
        "colab": {
          "base_uri": "https://localhost:8080/"
        },
        "id": "Q7O61F8EGxb2",
        "outputId": "251d85a4-a9a2-42fc-c71d-e3088ec7caa2"
      },
      "execution_count": 23,
      "outputs": [
        {
          "output_type": "execute_result",
          "data": {
            "text/plain": [
              "['파인애플', '배', '수박']"
            ]
          },
          "metadata": {},
          "execution_count": 23
        }
      ]
    },
    {
      "cell_type": "code",
      "source": [
        "fruit[-2:]"
      ],
      "metadata": {
        "colab": {
          "base_uri": "https://localhost:8080/"
        },
        "id": "qhEPCjDwHNvV",
        "outputId": "bbe5fa06-0598-4f28-f4f6-0c842bff3331"
      },
      "execution_count": 24,
      "outputs": [
        {
          "output_type": "execute_result",
          "data": {
            "text/plain": [
              "['망고', '딸기']"
            ]
          },
          "metadata": {},
          "execution_count": 24
        }
      ]
    },
    {
      "cell_type": "code",
      "source": [
        "fruit[:3]"
      ],
      "metadata": {
        "colab": {
          "base_uri": "https://localhost:8080/"
        },
        "id": "SVoFbMZ2HP1v",
        "outputId": "757d231d-c86b-4aa9-ec83-c2001bf6d862"
      },
      "execution_count": 25,
      "outputs": [
        {
          "output_type": "execute_result",
          "data": {
            "text/plain": [
              "['사과', '바나나', '파인애플']"
            ]
          },
          "metadata": {},
          "execution_count": 25
        }
      ]
    },
    {
      "cell_type": "markdown",
      "source": [
        "## indexing 에 step 활용하기"
      ],
      "metadata": {
        "id": "eXRQmE23HW5R"
      }
    },
    {
      "cell_type": "markdown",
      "source": [
        "짝수만 출력"
      ],
      "metadata": {
        "id": "0eaTK0HcHg9y"
      }
    },
    {
      "cell_type": "code",
      "source": [
        "nums = [1, 2, 3, 4, 5, 6, 7, 8, 9, 10]\n",
        "nums[1::2]"
      ],
      "metadata": {
        "colab": {
          "base_uri": "https://localhost:8080/"
        },
        "id": "YMbtoFVFHT2l",
        "outputId": "18285edd-af39-4a9d-bc23-6705664dae62"
      },
      "execution_count": 26,
      "outputs": [
        {
          "output_type": "execute_result",
          "data": {
            "text/plain": [
              "[2, 4, 6, 8, 10]"
            ]
          },
          "metadata": {},
          "execution_count": 26
        }
      ]
    },
    {
      "cell_type": "markdown",
      "source": [
        "# 튜플(tuple)\n",
        "\n",
        "- 리스트(list)는 가변(mutable)하는 객체(object)이지만, 튜플(tuple)은 불변(immutable)한 객체입니다.  \n",
        "- 가변 객체는 요소에 대한 수정, 삭제, 변경 등이 가능하지만, 불편 객체는 요소에 대한 수정, 삭제, 변경이 불가합니다.\n",
        "\n",
        "tuple(), () 로 생성합니다.\n",
        "혹은 , 로 생성할 수 있습니다."
      ],
      "metadata": {
        "id": "F7XhZXMQHzEZ"
      }
    },
    {
      "cell_type": "code",
      "source": [
        "mytuple = (1, 2, 3)\n",
        "mytuple"
      ],
      "metadata": {
        "colab": {
          "base_uri": "https://localhost:8080/"
        },
        "id": "ait1UIAdHft7",
        "outputId": "761d637a-93e8-441e-ec8e-def268da782a"
      },
      "execution_count": 27,
      "outputs": [
        {
          "output_type": "execute_result",
          "data": {
            "text/plain": [
              "(1, 2, 3)"
            ]
          },
          "metadata": {},
          "execution_count": 27
        }
      ]
    },
    {
      "cell_type": "code",
      "source": [
        "mytuple = 1,2,3\n",
        "mytuple"
      ],
      "metadata": {
        "colab": {
          "base_uri": "https://localhost:8080/"
        },
        "id": "Bh87QdD0IAkL",
        "outputId": "0dd942bb-38e6-48a4-d778-2691dbd674d3"
      },
      "execution_count": 29,
      "outputs": [
        {
          "output_type": "execute_result",
          "data": {
            "text/plain": [
              "(1, 2, 3)"
            ]
          },
          "metadata": {},
          "execution_count": 29
        }
      ]
    },
    {
      "cell_type": "markdown",
      "source": [
        "(1,)과 (1)은 다른 자료구조임을 꼭 알고 있어야 합니다."
      ],
      "metadata": {
        "id": "vbqBfZcpIItj"
      }
    },
    {
      "cell_type": "markdown",
      "source": [
        "## 튜플 언패킹(unpacking)"
      ],
      "metadata": {
        "id": "fpI4lxB4IMQb"
      }
    },
    {
      "cell_type": "code",
      "source": [
        "a, b, c = 1, 2, 3\n",
        "\n",
        "print(a)\n",
        "print(b)\n",
        "print(c)"
      ],
      "metadata": {
        "colab": {
          "base_uri": "https://localhost:8080/"
        },
        "id": "_SNVUwofICj0",
        "outputId": "bf15052a-68bf-458a-991b-8f8e9a03a831"
      },
      "execution_count": 30,
      "outputs": [
        {
          "output_type": "stream",
          "name": "stdout",
          "text": [
            "1\n",
            "2\n",
            "3\n"
          ]
        }
      ]
    },
    {
      "cell_type": "markdown",
      "source": [
        "튜플 자료형은 요소의 추가, 삭제, 변경등을 허용하지 않습니다."
      ],
      "metadata": {
        "id": "MvVL4ox-ISZE"
      }
    },
    {
      "cell_type": "markdown",
      "source": [
        "## list를 tuple로 변환"
      ],
      "metadata": {
        "id": "tAf1tRMpIX-n"
      }
    },
    {
      "cell_type": "code",
      "source": [
        "a = [1, 2, 3, 4]\n",
        "b = tuple(a)\n",
        "b"
      ],
      "metadata": {
        "colab": {
          "base_uri": "https://localhost:8080/"
        },
        "id": "wN-9GcUQIO3C",
        "outputId": "b2ed4cc7-ddfb-4db7-c23e-51cd4d19b439"
      },
      "execution_count": 31,
      "outputs": [
        {
          "output_type": "execute_result",
          "data": {
            "text/plain": [
              "(1, 2, 3, 4)"
            ]
          },
          "metadata": {},
          "execution_count": 31
        }
      ]
    },
    {
      "cell_type": "markdown",
      "source": [
        "## tuple을 list로 변환"
      ],
      "metadata": {
        "id": "ivNXanQYIgom"
      }
    },
    {
      "cell_type": "code",
      "source": [
        "a = (1, 2, 3, 4)\n",
        "b = list(a)\n",
        "b"
      ],
      "metadata": {
        "colab": {
          "base_uri": "https://localhost:8080/"
        },
        "id": "AAIKefuHIeBV",
        "outputId": "3a60b9a4-dc56-4361-db04-7681304e85ef"
      },
      "execution_count": 32,
      "outputs": [
        {
          "output_type": "execute_result",
          "data": {
            "text/plain": [
              "[1, 2, 3, 4]"
            ]
          },
          "metadata": {},
          "execution_count": 32
        }
      ]
    },
    {
      "cell_type": "markdown",
      "source": [
        "요소를 추가 및 삭제한 후 다시 tuple로 변경할 수 있습니다."
      ],
      "metadata": {
        "id": "5IiR_aghIpjn"
      }
    },
    {
      "cell_type": "markdown",
      "source": [
        "주어진 tuple a를 (1, 100, 2, 3, 4)의 요소를 가지도록 변경해 주세요"
      ],
      "metadata": {
        "id": "N8AHm2MFIvUp"
      }
    },
    {
      "cell_type": "code",
      "source": [
        "a = list(a)\n",
        "a.insert(1, 100)\n",
        "tuple(a)"
      ],
      "metadata": {
        "colab": {
          "base_uri": "https://localhost:8080/"
        },
        "id": "rjS4cvexIk24",
        "outputId": "5904ee31-2e93-4303-c175-b1e8d5ec48d7"
      },
      "execution_count": 33,
      "outputs": [
        {
          "output_type": "execute_result",
          "data": {
            "text/plain": [
              "(1, 100, 2, 3, 4)"
            ]
          },
          "metadata": {},
          "execution_count": 33
        }
      ]
    },
    {
      "cell_type": "markdown",
      "source": [
        "# 세트(set)"
      ],
      "metadata": {
        "id": "d-UpKZCII6EI"
      }
    },
    {
      "cell_type": "markdown",
      "source": [
        "- 세트는 순서가 보장 되지 않습니다.\n",
        "- 세트는 요소의 중복을 허용하지 않습니다.\n",
        "- 세트는 {}를 활용하여 생성할 수 있습니다."
      ],
      "metadata": {
        "id": "OaZzBQCOI9Lp"
      }
    },
    {
      "cell_type": "code",
      "source": [
        "myset = {1, 1, 1, 2, 2, 2, 3, 3, 3}\n",
        "myset"
      ],
      "metadata": {
        "colab": {
          "base_uri": "https://localhost:8080/"
        },
        "id": "Zfx9h8MQIyrj",
        "outputId": "34c68739-5272-4bd6-d2bd-706dae940677"
      },
      "execution_count": 34,
      "outputs": [
        {
          "output_type": "execute_result",
          "data": {
            "text/plain": [
              "{1, 2, 3}"
            ]
          },
          "metadata": {},
          "execution_count": 34
        }
      ]
    },
    {
      "cell_type": "markdown",
      "source": [
        "## add() : 값 추가"
      ],
      "metadata": {
        "id": "b3ppZxpZJEu8"
      }
    },
    {
      "cell_type": "code",
      "source": [
        "myset = set()\n",
        "myset.add(1)\n",
        "myset.add(1)\n",
        "myset"
      ],
      "metadata": {
        "colab": {
          "base_uri": "https://localhost:8080/"
        },
        "id": "ScJ_LGtbJERA",
        "outputId": "d851992f-9805-47c4-a6ca-08d3e4b7fce1"
      },
      "execution_count": 36,
      "outputs": [
        {
          "output_type": "execute_result",
          "data": {
            "text/plain": [
              "{1}"
            ]
          },
          "metadata": {},
          "execution_count": 36
        }
      ]
    },
    {
      "cell_type": "markdown",
      "source": [
        "요소를 중복하여 추가하였지만, 중복을 허용하지 않는 set의 특성상 중복이 제거된 요소만 출력됩니다."
      ],
      "metadata": {
        "id": "rs5EWc95JU9f"
      }
    },
    {
      "cell_type": "markdown",
      "source": [
        "## update() : 여러개 값 추가"
      ],
      "metadata": {
        "id": "m9URzJ5cJcTq"
      }
    },
    {
      "cell_type": "markdown",
      "source": [
        "list update"
      ],
      "metadata": {
        "id": "KGmU6W_OJmZ4"
      }
    },
    {
      "cell_type": "code",
      "source": [
        "myset = {1, 2, 3}\n",
        "myset.update([4, 5, 6])\n",
        "myset"
      ],
      "metadata": {
        "colab": {
          "base_uri": "https://localhost:8080/"
        },
        "id": "pk5caeEjJDYP",
        "outputId": "3dc2f15f-f0ad-4798-c136-ebd7b90c0417"
      },
      "execution_count": 37,
      "outputs": [
        {
          "output_type": "execute_result",
          "data": {
            "text/plain": [
              "{1, 2, 3, 4, 5, 6}"
            ]
          },
          "metadata": {},
          "execution_count": 37
        }
      ]
    },
    {
      "cell_type": "markdown",
      "source": [
        "tuple update"
      ],
      "metadata": {
        "id": "A2mf_ZovJn15"
      }
    },
    {
      "cell_type": "code",
      "source": [
        "myset.update((7, 8, 9))\n",
        "myset"
      ],
      "metadata": {
        "colab": {
          "base_uri": "https://localhost:8080/"
        },
        "id": "jwMY8cNTJgsw",
        "outputId": "4a514031-30da-487c-ad41-80b4e937a234"
      },
      "execution_count": 38,
      "outputs": [
        {
          "output_type": "execute_result",
          "data": {
            "text/plain": [
              "{1, 2, 3, 4, 5, 6, 7, 8, 9}"
            ]
          },
          "metadata": {},
          "execution_count": 38
        }
      ]
    },
    {
      "cell_type": "markdown",
      "source": [
        "set update"
      ],
      "metadata": {
        "id": "h2zGPcLgJqlF"
      }
    },
    {
      "cell_type": "code",
      "source": [
        "myset.update({10, 11, 12})\n",
        "myset"
      ],
      "metadata": {
        "colab": {
          "base_uri": "https://localhost:8080/"
        },
        "id": "aBv1XeUzJlH8",
        "outputId": "235ae235-cf62-4bc8-ec93-327e3b81c848"
      },
      "execution_count": 39,
      "outputs": [
        {
          "output_type": "execute_result",
          "data": {
            "text/plain": [
              "{1, 2, 3, 4, 5, 6, 7, 8, 9, 10, 11, 12}"
            ]
          },
          "metadata": {},
          "execution_count": 39
        }
      ]
    },
    {
      "cell_type": "markdown",
      "source": [
        "## remove() : 값 제거"
      ],
      "metadata": {
        "id": "peJu4R4GJvFW"
      }
    },
    {
      "cell_type": "code",
      "source": [
        "myset.remove(2)\n",
        "myset"
      ],
      "metadata": {
        "colab": {
          "base_uri": "https://localhost:8080/"
        },
        "id": "VAvi-WviJrb8",
        "outputId": "3d221a76-ae86-4f00-b190-304428e61a1e"
      },
      "execution_count": 40,
      "outputs": [
        {
          "output_type": "execute_result",
          "data": {
            "text/plain": [
              "{1, 3, 4, 5, 6, 7, 8, 9, 10, 11, 12}"
            ]
          },
          "metadata": {},
          "execution_count": 40
        }
      ]
    },
    {
      "cell_type": "markdown",
      "source": [
        "## 교집합 (intersection)\n",
        "\n",
        "& 기호나 intersection() 메서드를 활용하여 교집합을 구할 수 있습니다."
      ],
      "metadata": {
        "id": "WQwWckSTJ00i"
      }
    },
    {
      "cell_type": "code",
      "source": [
        "a = {1, 2, 3, 4, 5}\n",
        "b = {3, 4, 5, 6, 7}\n",
        "\n",
        "a&b"
      ],
      "metadata": {
        "colab": {
          "base_uri": "https://localhost:8080/"
        },
        "id": "jWP1s47OJybl",
        "outputId": "cf974bed-0b63-43ab-cfa0-d8ddd9bb81d3"
      },
      "execution_count": 41,
      "outputs": [
        {
          "output_type": "execute_result",
          "data": {
            "text/plain": [
              "{3, 4, 5}"
            ]
          },
          "metadata": {},
          "execution_count": 41
        }
      ]
    },
    {
      "cell_type": "markdown",
      "source": [
        "## 합집합 (union)\n",
        "\n",
        "|기호나 union() 메서드를 활용하여 합집합을 구할 수 있습니다."
      ],
      "metadata": {
        "id": "AWlNvQFfJ_Ba"
      }
    },
    {
      "cell_type": "code",
      "source": [
        "a | b"
      ],
      "metadata": {
        "colab": {
          "base_uri": "https://localhost:8080/"
        },
        "id": "E5-BEAAGJ7-B",
        "outputId": "160ac27b-e0f6-4557-f340-3bd29de11432"
      },
      "execution_count": 42,
      "outputs": [
        {
          "output_type": "execute_result",
          "data": {
            "text/plain": [
              "{1, 2, 3, 4, 5, 6, 7}"
            ]
          },
          "metadata": {},
          "execution_count": 42
        }
      ]
    },
    {
      "cell_type": "markdown",
      "source": [
        "## 차집합 (difference)\n",
        "\n",
        "-연산자를 활용하거나 difference() 메서드를 활용하여 구할 수 있습니다."
      ],
      "metadata": {
        "id": "mKEIzks2KH7t"
      }
    },
    {
      "cell_type": "markdown",
      "source": [
        "## set를 list로 변환"
      ],
      "metadata": {
        "id": "YbFkPCWdKLNW"
      }
    },
    {
      "cell_type": "code",
      "source": [
        "a = {1, 2, 3, 4, 5}\n",
        "b = list(a)\n",
        "b"
      ],
      "metadata": {
        "colab": {
          "base_uri": "https://localhost:8080/"
        },
        "id": "hSsb3KA6KEIn",
        "outputId": "c7c5a5b3-b118-4e0a-9ae3-06f3d50682a5"
      },
      "execution_count": 43,
      "outputs": [
        {
          "output_type": "execute_result",
          "data": {
            "text/plain": [
              "[1, 2, 3, 4, 5]"
            ]
          },
          "metadata": {},
          "execution_count": 43
        }
      ]
    },
    {
      "cell_type": "markdown",
      "source": [
        "## list를 set로 변환"
      ],
      "metadata": {
        "id": "fU5XZBFRKVLX"
      }
    },
    {
      "cell_type": "code",
      "source": [
        "a = [1, 1, 1, 2, 2, 2, 3, 3, 3]\n",
        "b = set(a)\n",
        "b"
      ],
      "metadata": {
        "colab": {
          "base_uri": "https://localhost:8080/"
        },
        "id": "c_YZp8INKSB4",
        "outputId": "923c1ed1-2953-4158-fdca-ae28d0f7861d"
      },
      "execution_count": 45,
      "outputs": [
        {
          "output_type": "execute_result",
          "data": {
            "text/plain": [
              "{1, 2, 3}"
            ]
          },
          "metadata": {},
          "execution_count": 45
        }
      ]
    },
    {
      "cell_type": "markdown",
      "source": [
        "다음 리스트에서 중복된 항목을 제거하세요"
      ],
      "metadata": {
        "id": "uFpZakZ4Kkxz"
      }
    },
    {
      "cell_type": "code",
      "source": [
        "numList = [1, 3, 2, 3, 7, 6, 8, 4, 10, 5, 3, 8, 9]\n",
        "list(set(numList))"
      ],
      "metadata": {
        "colab": {
          "base_uri": "https://localhost:8080/"
        },
        "id": "lWMDr6EgKZDw",
        "outputId": "33dc764e-721c-46d8-8886-6b3807037e7e"
      },
      "execution_count": 46,
      "outputs": [
        {
          "output_type": "execute_result",
          "data": {
            "text/plain": [
              "[1, 2, 3, 4, 5, 6, 7, 8, 9, 10]"
            ]
          },
          "metadata": {},
          "execution_count": 46
        }
      ]
    },
    {
      "cell_type": "markdown",
      "source": [
        "# 딕셔너리(dictionary)\n",
        "\n",
        "- 순서를 가지지 않습니다.\n",
        "- 키(key)와 값(value)의 쌍으로 이루어져 있습니다.\n",
        "- type은 dict로 표시 됩니다.\n",
        "- key를 사용하여 값을 조회할 수 있습니다.\n",
        "- 딕셔너리는 수정, 삭제, 추가가 가능합니다."
      ],
      "metadata": {
        "id": "ebNyn-XyKsqw"
      }
    },
    {
      "cell_type": "code",
      "source": [
        "mydict = {'a': 1, 'b': 2, 'c': 3}\n",
        "print(type(mydict))\n",
        "mydict"
      ],
      "metadata": {
        "colab": {
          "base_uri": "https://localhost:8080/"
        },
        "id": "QHLBx4_rKohh",
        "outputId": "4036dcc0-53c3-4254-f4cc-cad7b07599f3"
      },
      "execution_count": 48,
      "outputs": [
        {
          "output_type": "stream",
          "name": "stdout",
          "text": [
            "<class 'dict'>\n"
          ]
        },
        {
          "output_type": "execute_result",
          "data": {
            "text/plain": [
              "{'a': 1, 'b': 2, 'c': 3}"
            ]
          },
          "metadata": {},
          "execution_count": 48
        }
      ]
    },
    {
      "cell_type": "code",
      "source": [
        "mydict['a']"
      ],
      "metadata": {
        "colab": {
          "base_uri": "https://localhost:8080/"
        },
        "id": "YtFiz9WXK2_g",
        "outputId": "44549e0a-c00a-4c53-b151-89a142d6efc2"
      },
      "execution_count": 49,
      "outputs": [
        {
          "output_type": "execute_result",
          "data": {
            "text/plain": [
              "1"
            ]
          },
          "metadata": {},
          "execution_count": 49
        }
      ]
    },
    {
      "cell_type": "markdown",
      "source": [
        "## keys() : 모든 key 조회"
      ],
      "metadata": {
        "id": "p_f6Si_tLCcE"
      }
    },
    {
      "cell_type": "code",
      "source": [
        "mydict.keys()"
      ],
      "metadata": {
        "colab": {
          "base_uri": "https://localhost:8080/"
        },
        "id": "bSOnz-ybK_0u",
        "outputId": "b9db4462-1c4c-4fd0-85f3-8efb1e32ed17"
      },
      "execution_count": 50,
      "outputs": [
        {
          "output_type": "execute_result",
          "data": {
            "text/plain": [
              "dict_keys(['a', 'b', 'c'])"
            ]
          },
          "metadata": {},
          "execution_count": 50
        }
      ]
    },
    {
      "cell_type": "markdown",
      "source": [
        "dict_keys는 리스트(list)가 아닙니다.\n",
        "객체(object)로 생성되는데, 이를 list로 변경하기 위해서는 list()로 타입 변환을 하면 됩니다."
      ],
      "metadata": {
        "id": "aez2V3PfLNt3"
      }
    },
    {
      "cell_type": "markdown",
      "source": [
        "## values() : 모든 value 조회"
      ],
      "metadata": {
        "id": "GMf2QI34LREc"
      }
    },
    {
      "cell_type": "code",
      "source": [
        "mydict.values()"
      ],
      "metadata": {
        "colab": {
          "base_uri": "https://localhost:8080/"
        },
        "id": "FV6DEZjQLF7L",
        "outputId": "8caadcd1-c0ec-42e4-ccc5-6495a105d5d2"
      },
      "execution_count": 51,
      "outputs": [
        {
          "output_type": "execute_result",
          "data": {
            "text/plain": [
              "dict_values([1, 2, 3])"
            ]
          },
          "metadata": {},
          "execution_count": 51
        }
      ]
    },
    {
      "cell_type": "markdown",
      "source": [
        "## items() : 모든 key, value 조회"
      ],
      "metadata": {
        "id": "zpaLBl4jLVxR"
      }
    },
    {
      "cell_type": "code",
      "source": [
        "mydict.items()"
      ],
      "metadata": {
        "colab": {
          "base_uri": "https://localhost:8080/"
        },
        "id": "cjmTd6ZjLTOK",
        "outputId": "4106cb21-af87-4b69-f758-88f31085c643"
      },
      "execution_count": 52,
      "outputs": [
        {
          "output_type": "execute_result",
          "data": {
            "text/plain": [
              "dict_items([('a', 1), ('b', 2), ('c', 3)])"
            ]
          },
          "metadata": {},
          "execution_count": 52
        }
      ]
    },
    {
      "cell_type": "markdown",
      "source": [
        "## 값을 추가하기"
      ],
      "metadata": {
        "id": "6ouWdIRsLfWg"
      }
    },
    {
      "cell_type": "code",
      "source": [
        "mydict[0] = 2\n",
        "mydict[0]"
      ],
      "metadata": {
        "colab": {
          "base_uri": "https://localhost:8080/"
        },
        "id": "y59txzaULZ-e",
        "outputId": "2a98670d-e5dd-44b5-edfc-44bde58445d1"
      },
      "execution_count": 55,
      "outputs": [
        {
          "output_type": "execute_result",
          "data": {
            "text/plain": [
              "2"
            ]
          },
          "metadata": {},
          "execution_count": 55
        }
      ]
    },
    {
      "cell_type": "code",
      "source": [
        "mydict"
      ],
      "metadata": {
        "colab": {
          "base_uri": "https://localhost:8080/"
        },
        "id": "2SOJq_cuLlT4",
        "outputId": "2c9ca31c-2668-4bc6-9bcd-a913e8bffcde"
      },
      "execution_count": 56,
      "outputs": [
        {
          "output_type": "execute_result",
          "data": {
            "text/plain": [
              "{'a': 1, 'b': 2, 'c': 3, 0: 2}"
            ]
          },
          "metadata": {},
          "execution_count": 56
        }
      ]
    },
    {
      "cell_type": "markdown",
      "source": [
        "## update() : 다중 업데이트"
      ],
      "metadata": {
        "id": "aV_61gTXLto1"
      }
    },
    {
      "cell_type": "code",
      "source": [
        "fruit = {\n",
        "    '사과': 2000,\n",
        "    '딸기': 3000,\n",
        "    '수박': 5000,\n",
        "}"
      ],
      "metadata": {
        "id": "069hEIGQLqYv"
      },
      "execution_count": 57,
      "outputs": []
    },
    {
      "cell_type": "code",
      "source": [
        "mydict.update(fruit)\n",
        "mydict"
      ],
      "metadata": {
        "colab": {
          "base_uri": "https://localhost:8080/"
        },
        "id": "PEojDY4zLx3e",
        "outputId": "a2de4870-c818-4722-f066-3b803ecc959a"
      },
      "execution_count": 58,
      "outputs": [
        {
          "output_type": "execute_result",
          "data": {
            "text/plain": [
              "{'a': 1, 'b': 2, 'c': 3, 0: 2, '사과': 2000, '딸기': 3000, '수박': 5000}"
            ]
          },
          "metadata": {},
          "execution_count": 58
        }
      ]
    },
    {
      "cell_type": "markdown",
      "source": [
        "## 제거하기 / key 제거"
      ],
      "metadata": {
        "id": "Yj5et9jnL5hV"
      }
    },
    {
      "cell_type": "code",
      "source": [
        "mydict.pop('b')\n",
        "mydict"
      ],
      "metadata": {
        "colab": {
          "base_uri": "https://localhost:8080/"
        },
        "id": "rSRmJhcMLzg7",
        "outputId": "9b8931a8-4c8a-4f9e-ced7-290e549ed9d1"
      },
      "execution_count": 59,
      "outputs": [
        {
          "output_type": "execute_result",
          "data": {
            "text/plain": [
              "{'a': 1, 'c': 3, 0: 2, '사과': 2000, '딸기': 3000, '수박': 5000}"
            ]
          },
          "metadata": {},
          "execution_count": 59
        }
      ]
    },
    {
      "cell_type": "markdown",
      "source": [
        "# 문자열\n",
        "\n",
        "문자열 역시 리스트(list), 튜플(tuple)과 마찬가지로 sequence 형 자료구조를 가집니다.\n",
        "문자열은 불변(immutable) 객체입니다.\n",
        "\n",
        "파이썬의 문자열은 작은 따옴표(') 나 큰 따옴표(\") 모두 구분없이 사용하여 문자열을 생성할 수 있습니다."
      ],
      "metadata": {
        "id": "Iyu-D9RhMNfJ"
      }
    },
    {
      "cell_type": "code",
      "source": [
        "sample = '''안녕하세요?\n",
        "반가워요\n",
        "내이름은\n",
        "파이썬 입니다.'''\n",
        "\n",
        "print(sample)"
      ],
      "metadata": {
        "colab": {
          "base_uri": "https://localhost:8080/"
        },
        "id": "QAssuUtxL9e9",
        "outputId": "dfc8defa-9f6c-42f5-80f8-2ee8128b01d2"
      },
      "execution_count": 60,
      "outputs": [
        {
          "output_type": "stream",
          "name": "stdout",
          "text": [
            "안녕하세요? \n",
            "반가워요\n",
            "내이름은 \n",
            "파이썬 입니다.\n"
          ]
        }
      ]
    },
    {
      "cell_type": "markdown",
      "source": [
        "## 문자열 출력 (포맷팅)"
      ],
      "metadata": {
        "id": "BDgWlBMDMhqy"
      }
    },
    {
      "cell_type": "markdown",
      "source": [
        "### %를 사용한 출력"
      ],
      "metadata": {
        "id": "r03stEyqMkKZ"
      }
    },
    {
      "cell_type": "code",
      "source": [
        "\"안녕하세요? %s\" % ('반갑습니다.') # %s : 문자"
      ],
      "metadata": {
        "colab": {
          "base_uri": "https://localhost:8080/",
          "height": 36
        },
        "id": "BIyMJwLOMaN_",
        "outputId": "658f37de-d147-4b52-9dee-b577956a113b"
      },
      "execution_count": 61,
      "outputs": [
        {
          "output_type": "execute_result",
          "data": {
            "text/plain": [
              "'안녕하세요? 반갑습니다.'"
            ],
            "application/vnd.google.colaboratory.intrinsic+json": {
              "type": "string"
            }
          },
          "metadata": {},
          "execution_count": 61
        }
      ]
    },
    {
      "cell_type": "code",
      "source": [
        "'안녕하세요? %.4f' % (0.123456) #%.4f  : 5번째에서 반올림"
      ],
      "metadata": {
        "colab": {
          "base_uri": "https://localhost:8080/",
          "height": 36
        },
        "id": "uKwd6WMfMnQO",
        "outputId": "db2fa945-3e5a-415d-c154-31270cd3a337"
      },
      "execution_count": 62,
      "outputs": [
        {
          "output_type": "execute_result",
          "data": {
            "text/plain": [
              "'안녕하세요? 0.1235'"
            ],
            "application/vnd.google.colaboratory.intrinsic+json": {
              "type": "string"
            }
          },
          "metadata": {},
          "execution_count": 62
        }
      ]
    },
    {
      "cell_type": "code",
      "source": [
        "'안녕하세요? %d' % (12345) # %d : 숫자 모두"
      ],
      "metadata": {
        "colab": {
          "base_uri": "https://localhost:8080/",
          "height": 36
        },
        "id": "Z79ZooA4Mqaw",
        "outputId": "a5255d8e-9dca-4b95-84a3-dd48610d60de"
      },
      "execution_count": 63,
      "outputs": [
        {
          "output_type": "execute_result",
          "data": {
            "text/plain": [
              "'안녕하세요? 12345'"
            ],
            "application/vnd.google.colaboratory.intrinsic+json": {
              "type": "string"
            }
          },
          "metadata": {},
          "execution_count": 63
        }
      ]
    },
    {
      "cell_type": "code",
      "source": [
        "'안녕하세요? %c' % ('a') # %c : 문자"
      ],
      "metadata": {
        "colab": {
          "base_uri": "https://localhost:8080/",
          "height": 36
        },
        "id": "_-QYx3i1ND7s",
        "outputId": "5f976655-c38d-4062-90f8-bad2769ca281"
      },
      "execution_count": 64,
      "outputs": [
        {
          "output_type": "execute_result",
          "data": {
            "text/plain": [
              "'안녕하세요? a'"
            ],
            "application/vnd.google.colaboratory.intrinsic+json": {
              "type": "string"
            }
          },
          "metadata": {},
          "execution_count": 64
        }
      ]
    },
    {
      "cell_type": "markdown",
      "source": [
        "### {} 와 format를 사용한 출력"
      ],
      "metadata": {
        "id": "5HGN4lHFNNhi"
      }
    },
    {
      "cell_type": "code",
      "source": [
        "'웰컴투? {}'.format('파이썬.')"
      ],
      "metadata": {
        "colab": {
          "base_uri": "https://localhost:8080/",
          "height": 36
        },
        "id": "d6TxixULNIBg",
        "outputId": "dc9fdd07-7b35-4b0c-9850-50472b1fa2a2"
      },
      "execution_count": 65,
      "outputs": [
        {
          "output_type": "execute_result",
          "data": {
            "text/plain": [
              "'웰컴투? 파이썬.'"
            ],
            "application/vnd.google.colaboratory.intrinsic+json": {
              "type": "string"
            }
          },
          "metadata": {},
          "execution_count": 65
        }
      ]
    },
    {
      "cell_type": "markdown",
      "source": [
        "### f 문자열 포맷팅"
      ],
      "metadata": {
        "id": "HMBEQJVBNXlW"
      }
    },
    {
      "cell_type": "code",
      "source": [
        "name = '펭수'\n",
        "age = 10\n",
        "print(f'내년에 저는 {age+1} 살입니다.')"
      ],
      "metadata": {
        "colab": {
          "base_uri": "https://localhost:8080/"
        },
        "id": "Ps4lMm_iNQGH",
        "outputId": "57655f55-d109-4769-ce9b-16ec3b140c00"
      },
      "execution_count": 66,
      "outputs": [
        {
          "output_type": "stream",
          "name": "stdout",
          "text": [
            "내년에 저는 11 살입니다.\n"
          ]
        }
      ]
    },
    {
      "cell_type": "code",
      "source": [
        "d = {'name':'펭수', 'age':10}\n",
        "print(f\"반가워요. 저는 {d['name']}입니다. 저의 나이는 {d['age']} 살입니다.\")"
      ],
      "metadata": {
        "colab": {
          "base_uri": "https://localhost:8080/"
        },
        "id": "JmJQSuRmNhDo",
        "outputId": "3e2007f8-0be6-413b-e551-258f50cf3fdf"
      },
      "execution_count": 67,
      "outputs": [
        {
          "output_type": "stream",
          "name": "stdout",
          "text": [
            "반가워요. 저는 펭수입니다. 저의 나이는 10 살입니다.\n"
          ]
        }
      ]
    },
    {
      "cell_type": "markdown",
      "source": [
        "## 인덱싱 (indexing)"
      ],
      "metadata": {
        "id": "4KAd49E-N3P1"
      }
    },
    {
      "cell_type": "code",
      "source": [
        "registration_number =  '210101-1234567'\n",
        "registration_number[7]"
      ],
      "metadata": {
        "colab": {
          "base_uri": "https://localhost:8080/",
          "height": 36
        },
        "id": "S9kC7kp-NmVi",
        "outputId": "48e69543-5b54-4ef0-fe0d-bb6cf011ab82"
      },
      "execution_count": 68,
      "outputs": [
        {
          "output_type": "execute_result",
          "data": {
            "text/plain": [
              "'1'"
            ],
            "application/vnd.google.colaboratory.intrinsic+json": {
              "type": "string"
            }
          },
          "metadata": {},
          "execution_count": 68
        }
      ]
    },
    {
      "cell_type": "markdown",
      "source": [
        "문자열 '20210101Sunny'를 슬라이싱하여 날짜는 date변수에 날씨는 weather 변수에 저장 후 출력 하세요"
      ],
      "metadata": {
        "id": "DbBpMiIBOEi_"
      }
    },
    {
      "cell_type": "code",
      "source": [
        "sample = '20210101Sunny'\n",
        "date = sample[:-5]\n",
        "weather = sample[-5:]\n",
        "\n",
        "print(f'date: {date}, weather: {weather}')"
      ],
      "metadata": {
        "colab": {
          "base_uri": "https://localhost:8080/"
        },
        "id": "vBxvMCULN9b6",
        "outputId": "ead94d27-556c-46f7-c4ff-3deba1afaf1b"
      },
      "execution_count": 69,
      "outputs": [
        {
          "output_type": "stream",
          "name": "stdout",
          "text": [
            "date: 20210101, weather: Sunny\n"
          ]
        }
      ]
    },
    {
      "cell_type": "markdown",
      "source": [
        "## 불변(immutable)\n",
        "\n",
        "문자열은 index를 통해 값을 수정 및 변경이 불가합니다.\n",
        "하지만 메서드(method)로 변경할 수 있습니다."
      ],
      "metadata": {
        "id": "9mqksl1_ORoe"
      }
    },
    {
      "cell_type": "markdown",
      "source": [
        "## 문자열의 list, set"
      ],
      "metadata": {
        "id": "7I2B9XtjOZPs"
      }
    },
    {
      "cell_type": "code",
      "source": [
        "list('ABCDE')"
      ],
      "metadata": {
        "colab": {
          "base_uri": "https://localhost:8080/"
        },
        "id": "2m3SUar3OMVM",
        "outputId": "29b69962-0668-4490-a3f3-cd38ca32a58c"
      },
      "execution_count": 70,
      "outputs": [
        {
          "output_type": "execute_result",
          "data": {
            "text/plain": [
              "['A', 'B', 'C', 'D', 'E']"
            ]
          },
          "metadata": {},
          "execution_count": 70
        }
      ]
    },
    {
      "cell_type": "code",
      "source": [
        "set('AAABBBCCC')"
      ],
      "metadata": {
        "colab": {
          "base_uri": "https://localhost:8080/"
        },
        "id": "p2uRAKSIOcYR",
        "outputId": "e43a67e3-4afc-4f3c-dfcd-7a25482ad6ef"
      },
      "execution_count": 71,
      "outputs": [
        {
          "output_type": "execute_result",
          "data": {
            "text/plain": [
              "{'A', 'B', 'C'}"
            ]
          },
          "metadata": {},
          "execution_count": 71
        }
      ]
    },
    {
      "cell_type": "markdown",
      "source": [
        "## 문자열(텍스트)을 다루는 다양한 기능, 메서드(method)"
      ],
      "metadata": {
        "id": "9aiW3kpGOmTZ"
      }
    },
    {
      "cell_type": "markdown",
      "source": [
        "## split() : 분리\n",
        "\n",
        "split은 문장을 특정 규칙에 의해 쪼개 주는 기능을 합니다.\n",
        "기본 값인 공백에서 특정 문자로 지정할 수 있습니다.\n",
        "\n",
        "\n",
        "\n"
      ],
      "metadata": {
        "id": "cPb6Q0KyOsF7"
      }
    },
    {
      "cell_type": "code",
      "source": [
        "sample = 'abc-def.789/100'\n",
        "sample.split('.')"
      ],
      "metadata": {
        "colab": {
          "base_uri": "https://localhost:8080/"
        },
        "id": "inGks3mHO_Xg",
        "outputId": "564e82a0-d4ed-43d4-b34c-4315542a9fa3"
      },
      "execution_count": 72,
      "outputs": [
        {
          "output_type": "execute_result",
          "data": {
            "text/plain": [
              "['abc-def', '789/100']"
            ]
          },
          "metadata": {},
          "execution_count": 72
        }
      ]
    },
    {
      "cell_type": "markdown",
      "source": [
        "## join() : 합치기\n",
        "\n",
        "결합하고자 하는 문자에 .join() 안에 리스트를 지정하여 결합할 수 있습니다."
      ],
      "metadata": {
        "id": "M6qgqbUyO9fa"
      }
    },
    {
      "cell_type": "code",
      "source": [
        "'-'.join(['010',  '1234', '5678'])"
      ],
      "metadata": {
        "colab": {
          "base_uri": "https://localhost:8080/",
          "height": 36
        },
        "id": "hl9C-nZ0Oenv",
        "outputId": "556a938d-3286-46cd-99a5-c0997c6f2666"
      },
      "execution_count": 73,
      "outputs": [
        {
          "output_type": "execute_result",
          "data": {
            "text/plain": [
              "'010-1234-5678'"
            ],
            "application/vnd.google.colaboratory.intrinsic+json": {
              "type": "string"
            }
          },
          "metadata": {},
          "execution_count": 73
        }
      ]
    },
    {
      "cell_type": "markdown",
      "source": [
        "## lower(), upper() : 소문자 / 대문자로 만들기"
      ],
      "metadata": {
        "id": "J2eMUWcIPOQN"
      }
    },
    {
      "cell_type": "markdown",
      "source": [
        "## startswith, endswith\n",
        "\n",
        "시작과, 끝이 맞는지 결과를 bool로 반환합니다."
      ],
      "metadata": {
        "id": "PWqwAomSPTSB"
      }
    },
    {
      "cell_type": "markdown",
      "source": [
        "## startswith() : 시작하는"
      ],
      "metadata": {
        "id": "tPOu15iCPZcb"
      }
    },
    {
      "cell_type": "code",
      "source": [
        "a = '01-sample.png'\n",
        "a.startswith('01')"
      ],
      "metadata": {
        "colab": {
          "base_uri": "https://localhost:8080/"
        },
        "id": "tHSZhgBDPK5r",
        "outputId": "899638fd-9b8a-4e9d-dcb8-d03ac2d44ac8"
      },
      "execution_count": 74,
      "outputs": [
        {
          "output_type": "execute_result",
          "data": {
            "text/plain": [
              "True"
            ]
          },
          "metadata": {},
          "execution_count": 74
        }
      ]
    },
    {
      "cell_type": "markdown",
      "source": [
        "## endswith() : 끝나는"
      ],
      "metadata": {
        "id": "a-4exsNLPiJK"
      }
    },
    {
      "cell_type": "code",
      "source": [
        "a.endswith('.png')"
      ],
      "metadata": {
        "colab": {
          "base_uri": "https://localhost:8080/"
        },
        "id": "-eNX3zEzPfMl",
        "outputId": "756e7d1f-2b6e-4fef-d999-8b0b02cd1185"
      },
      "execution_count": 75,
      "outputs": [
        {
          "output_type": "execute_result",
          "data": {
            "text/plain": [
              "True"
            ]
          },
          "metadata": {},
          "execution_count": 75
        }
      ]
    },
    {
      "cell_type": "markdown",
      "source": [
        "## replace() : 문자열 바꾸기\n",
        "\n",
        "문자열에 replace(바꿀 대상, 바꾸려는 문자열) 지정하여 문자열을 변경합니다.\n",
        "결과는 복사본이 만들어져 반환됩니다."
      ],
      "metadata": {
        "id": "qNiICtqEPnHI"
      }
    },
    {
      "cell_type": "code",
      "source": [
        "a.replace('.png', '.jpg')"
      ],
      "metadata": {
        "colab": {
          "base_uri": "https://localhost:8080/",
          "height": 36
        },
        "id": "dfYf6jq5PkoM",
        "outputId": "42173f33-9011-454b-f639-d5f4d8ffb21b"
      },
      "execution_count": 76,
      "outputs": [
        {
          "output_type": "execute_result",
          "data": {
            "text/plain": [
              "'01-sample.jpg'"
            ],
            "application/vnd.google.colaboratory.intrinsic+json": {
              "type": "string"
            }
          },
          "metadata": {},
          "execution_count": 76
        }
      ]
    },
    {
      "cell_type": "markdown",
      "source": [
        "## strip() : 양쪽 공백 제거"
      ],
      "metadata": {
        "id": "GcHiXxbgPxov"
      }
    },
    {
      "cell_type": "code",
      "source": [
        "a.strip()"
      ],
      "metadata": {
        "colab": {
          "base_uri": "https://localhost:8080/",
          "height": 36
        },
        "id": "GHImre9-PsSM",
        "outputId": "90ac64c3-be73-4a39-d672-a78c82a8afd8"
      },
      "execution_count": 77,
      "outputs": [
        {
          "output_type": "execute_result",
          "data": {
            "text/plain": [
              "'01-sample.png'"
            ],
            "application/vnd.google.colaboratory.intrinsic+json": {
              "type": "string"
            }
          },
          "metadata": {},
          "execution_count": 77
        }
      ]
    },
    {
      "cell_type": "markdown",
      "source": [
        "# 연산"
      ],
      "metadata": {
        "id": "b8nl2qNFP5D-"
      }
    },
    {
      "cell_type": "markdown",
      "source": [
        "## 조금 생소할 수 있는 연산자 (%, //, **)\n",
        "\n",
        "- //: floor division 연산자입니다. 나눗셈에 대한 몫을 정수형으로 구함\n",
        "- %: modulus 연산자입니다. 몫을 나눈 나머지를 구함\n",
        "- **: 제곱 연산"
      ],
      "metadata": {
        "id": "ZUEovAokP8MC"
      }
    },
    {
      "cell_type": "code",
      "source": [
        "a = '10'\n",
        "b = '20'\n",
        "a+b #문자열로 인식"
      ],
      "metadata": {
        "colab": {
          "base_uri": "https://localhost:8080/",
          "height": 36
        },
        "id": "9PLmeHLCPzgw",
        "outputId": "0167b2c7-3302-4a57-8a58-f47042bc28f1"
      },
      "execution_count": 79,
      "outputs": [
        {
          "output_type": "execute_result",
          "data": {
            "text/plain": [
              "'1020'"
            ],
            "application/vnd.google.colaboratory.intrinsic+json": {
              "type": "string"
            }
          },
          "metadata": {},
          "execution_count": 79
        }
      ]
    },
    {
      "cell_type": "code",
      "source": [
        "int(a)+int(b)"
      ],
      "metadata": {
        "colab": {
          "base_uri": "https://localhost:8080/"
        },
        "id": "F3Xkfg6QQMhG",
        "outputId": "61a2d940-46da-4ab8-ef7f-cf5c98499773"
      },
      "execution_count": 80,
      "outputs": [
        {
          "output_type": "execute_result",
          "data": {
            "text/plain": [
              "30"
            ]
          },
          "metadata": {},
          "execution_count": 80
        }
      ]
    },
    {
      "cell_type": "markdown",
      "source": [
        "# 비교연산자"
      ],
      "metadata": {
        "id": "vOZXR-VOQbFs"
      }
    },
    {
      "cell_type": "markdown",
      "source": [
        "## == : 같음을 비교"
      ],
      "metadata": {
        "id": "6GbRACAjQeSz"
      }
    },
    {
      "cell_type": "markdown",
      "source": [
        "## != 같지 않음을 비교"
      ],
      "metadata": {
        "id": "_zGh7bbsQgsg"
      }
    },
    {
      "cell_type": "markdown",
      "source": [
        "# 조건문\n",
        "\n",
        "주어진 조건이 참인 경우 그 다음 내가 정한 규칙(로직)을 실행하는 개념입니다."
      ],
      "metadata": {
        "id": "7BcakWO2QlMh"
      }
    },
    {
      "cell_type": "markdown",
      "source": [
        "## if\n",
        "if는 어떤 조건이 성립한다면~ 이라는 뜻입니다.\n",
        "if 구문 끝에는 반드시 콜론(:)을 잊지 말아 주세요"
      ],
      "metadata": {
        "id": "HKd4JnWQQryE"
      }
    },
    {
      "cell_type": "code",
      "source": [
        "if 5 < 3:\n",
        "    print('참')\n",
        "    print('참')\n",
        "    print('참')\n",
        "    print('참')\n",
        "\n",
        "print('끝')"
      ],
      "metadata": {
        "colab": {
          "base_uri": "https://localhost:8080/"
        },
        "id": "9Xc3oO6eQWR7",
        "outputId": "c311ad27-aa3a-4559-b278-5766274fc204"
      },
      "execution_count": 81,
      "outputs": [
        {
          "output_type": "stream",
          "name": "stdout",
          "text": [
            "끝\n"
          ]
        }
      ]
    },
    {
      "cell_type": "markdown",
      "source": [
        "# else\n",
        "\n",
        "else는 if 조건 후에 따라오며, if 가 아닌 경우에 실행 됩니다.\n",
        "\n",
        "# elif\n",
        "\n",
        "elif 구문은 3가지 이상 분기 (조건)의 동작을 수행할 때 사용합니다."
      ],
      "metadata": {
        "id": "edeV2VcTQ1zU"
      }
    },
    {
      "cell_type": "code",
      "source": [
        "if 3 < 5: # 맨 첫번째 실행\n",
        "    print('if 구문')\n",
        "elif 3 < 4:\n",
        "    print('elif 1 구문')\n",
        "elif 3 > 5:\n",
        "    print('elif 2 구문')\n",
        "elif 3 < 6:\n",
        "    print('elif 3 구문')\n",
        "else:\n",
        "    print('이것도 저것도 아니다')"
      ],
      "metadata": {
        "colab": {
          "base_uri": "https://localhost:8080/"
        },
        "id": "wmVlaVxNQv3o",
        "outputId": "91e7b22b-f39e-47c7-e49f-1b92387b3f8f"
      },
      "execution_count": 83,
      "outputs": [
        {
          "output_type": "stream",
          "name": "stdout",
          "text": [
            "if 구문\n"
          ]
        }
      ]
    },
    {
      "cell_type": "markdown",
      "source": [
        "## 삼항연산자\n",
        "\n",
        "(문법) (참인 값) if 조건 else (거짓인경우 값)"
      ],
      "metadata": {
        "id": "YjplYmbXRLBD"
      }
    },
    {
      "cell_type": "code",
      "source": [
        "weight = input('몸무게를 입력해 주세요: ')"
      ],
      "metadata": {
        "colab": {
          "base_uri": "https://localhost:8080/"
        },
        "id": "MUVZL-dgRC5m",
        "outputId": "dddc6ff3-caa5-4459-f66b-27b2f0576cd9"
      },
      "execution_count": 84,
      "outputs": [
        {
          "name": "stdout",
          "output_type": "stream",
          "text": [
            "몸무게를 입력해 주세요: 105\n"
          ]
        }
      ]
    },
    {
      "cell_type": "code",
      "source": [
        "\"귀하는 과체중 입니다.\" if int(weight) > 100 else \"귀하는 정상체중 입니다.\""
      ],
      "metadata": {
        "colab": {
          "base_uri": "https://localhost:8080/",
          "height": 36
        },
        "id": "381_KTvjRXdu",
        "outputId": "5a6ff2bc-4985-4149-a06d-ae20f1671012"
      },
      "execution_count": 85,
      "outputs": [
        {
          "output_type": "execute_result",
          "data": {
            "text/plain": [
              "'귀하는 과체중 입니다.'"
            ],
            "application/vnd.google.colaboratory.intrinsic+json": {
              "type": "string"
            }
          },
          "metadata": {},
          "execution_count": 85
        }
      ]
    },
    {
      "cell_type": "markdown",
      "source": [
        "## 논리 연산자 (and, or, not)\n",
        "\n",
        "not :\n",
        "bool 값을 반전시킵니다."
      ],
      "metadata": {
        "id": "OfCb82U2Rd6K"
      }
    },
    {
      "cell_type": "markdown",
      "source": [
        "사용자로부터 달러, 엔, 유로, 또는 위안 금액을 입력받은 후 이를 원으로 변환하는 프로그램을 작성해 주세요.\n",
        "\n",
        "각 통화별 환율은 다음과 같다.\n",
        "\n",
        "달러: 1237.0\n",
        "엔: 105.4\n",
        "유로: 1349.69\n",
        "위안: 194.57"
      ],
      "metadata": {
        "id": "-dsLswGlRppv"
      }
    },
    {
      "cell_type": "code",
      "source": [
        "환율 = {\"달러\": 1237,\n",
        "        \"엔\": 1096,\n",
        "        \"유로\": 1349.69,\n",
        "        \"위안\": 194.57}\n",
        "user = input(\"입력: \") #공백주의\n",
        "num, currency = user.split()\n",
        "print(float(num) * 환율[currency], \"원\")"
      ],
      "metadata": {
        "colab": {
          "base_uri": "https://localhost:8080/"
        },
        "id": "ifPxBDkmRanT",
        "outputId": "99ebd367-5734-4ea7-bf30-ba65dca40159"
      },
      "execution_count": 88,
      "outputs": [
        {
          "output_type": "stream",
          "name": "stdout",
          "text": [
            "입력: 50 유로\n",
            "67484.5 원\n"
          ]
        }
      ]
    },
    {
      "cell_type": "markdown",
      "source": [
        "# 반복문\n",
        "\n",
        "- 1회 이상 반복해서 수행하는 일을 반복문으로 통해 쉽게 해결할 수 있습니다.\n",
        "- 반드시 list, tuple, dict, set 등 집합에 대한 순회를 돌며 일을 처리할 때 많이 쓰입니다.\n",
        "- list, tuple, dict, set, 문자열까지 모두 순회가능한(iterable) 객체 입니다.\n",
        "- 순회가능한(iterable) 객체는 반복문을 통해 순회할 수 있습니다."
      ],
      "metadata": {
        "id": "15x2Wc9qR-Hw"
      }
    },
    {
      "cell_type": "markdown",
      "source": [
        "## for 와 in 구문 (반복문)\n",
        "\n",
        "[기본 문법]\n",
        "for 하나씩 꺼내올 때 변수 in [꺼내올 집합]:\n",
        "(indent)\n",
        "\n",
        "\n",
        "- list, tuple, set, dictionary, 문자열 형태 모두 가능\n",
        "- range와 결합하여 사용 가능"
      ],
      "metadata": {
        "id": "iCIQw7moSJvM"
      }
    },
    {
      "cell_type": "markdown",
      "source": [
        "반복문과 조건문을 활용하여 sample의 요소 중 10보다 크고 50보다 작은 요소만 출력해 주세요\n"
      ],
      "metadata": {
        "id": "RivrF2jfSV9q"
      }
    },
    {
      "cell_type": "code",
      "source": [
        "sample = [1, 11, 22, -20, 55, -33, 0, -5, 12, 35, 19, -9, -1, -100, 90]"
      ],
      "metadata": {
        "id": "9oJcFYaoRwVw"
      },
      "execution_count": 89,
      "outputs": []
    },
    {
      "cell_type": "code",
      "source": [
        "for num in sample:\n",
        "  if num > 10 and num < 50:\n",
        "    print(num)"
      ],
      "metadata": {
        "colab": {
          "base_uri": "https://localhost:8080/"
        },
        "id": "PqgYpZTjSZEo",
        "outputId": "f9311aca-db98-4f75-de39-340ec6f74987"
      },
      "execution_count": 90,
      "outputs": [
        {
          "output_type": "stream",
          "name": "stdout",
          "text": [
            "11\n",
            "22\n",
            "12\n",
            "35\n",
            "19\n"
          ]
        }
      ]
    },
    {
      "cell_type": "markdown",
      "source": [
        "## tuple + list\n",
        "\n",
        "## 딕셔너리(dictionary)"
      ],
      "metadata": {
        "id": "NhEFg003SlaA"
      }
    },
    {
      "cell_type": "markdown",
      "source": [
        "다음의 문자열을 반복문을 활용하여 출력하되, 모음('a', 'e', 'i', 'o', 'u')만 대문자로 자음은 소문자로 출력해 주세요."
      ],
      "metadata": {
        "id": "vXSnMhpNStw1"
      }
    },
    {
      "cell_type": "code",
      "source": [
        "sample = \"PyThoN Is fUn\"\n",
        "\n",
        "for i in sample:\n",
        "#     if i.lower() in ['a', 'e', 'i', 'o', 'u']:\n",
        "    if i.lower() in 'aeiou':\n",
        "        print(f'(모음) {i.upper()}')\n",
        "    elif i == ' ':\n",
        "        print('(공백) ')\n",
        "    else:\n",
        "        print(f' {i.lower()}')"
      ],
      "metadata": {
        "colab": {
          "base_uri": "https://localhost:8080/"
        },
        "id": "kyx_K7kcSfN6",
        "outputId": "d99fa537-96a8-476e-9ac2-5029e44ecd02"
      },
      "execution_count": 96,
      "outputs": [
        {
          "output_type": "stream",
          "name": "stdout",
          "text": [
            " p\n",
            " y\n",
            " t\n",
            " h\n",
            "(모음) O\n",
            " n\n",
            "(공백) \n",
            "(모음) I\n",
            " s\n",
            "(공백) \n",
            " f\n",
            "(모음) U\n",
            " n\n"
          ]
        }
      ]
    },
    {
      "cell_type": "markdown",
      "source": [
        "## range()\n",
        "\n",
        "- range() 함수는 별도의 list, tuple 생성 없이 range() 에서 정의한 범위를 반복하는데 활용할 수 있습니다.  \n",
        "- range(start, stop, step) 형식을 사용합니다."
      ],
      "metadata": {
        "id": "ERTdsupiUAxF"
      }
    },
    {
      "cell_type": "markdown",
      "source": [
        "구구단을 반복문을 사용하여 만들어 보세요!\n",
        "구구단은 2단 부터 9단까지 있습니다."
      ],
      "metadata": {
        "id": "hjGhV-xIUNMb"
      }
    },
    {
      "cell_type": "code",
      "source": [
        "for i in range(2, 10):\n",
        "    for j in range(1, 10):\n",
        "        print(f'{i} X {j} = {i*j}')\n",
        "    print()"
      ],
      "metadata": {
        "colab": {
          "base_uri": "https://localhost:8080/"
        },
        "id": "tZEWJq9oTNyp",
        "outputId": "b0ba1c4f-7d00-4555-a89e-b61188c61293"
      },
      "execution_count": 99,
      "outputs": [
        {
          "output_type": "stream",
          "name": "stdout",
          "text": [
            "2 X 1 = 2\n",
            "2 X 2 = 4\n",
            "2 X 3 = 6\n",
            "2 X 4 = 8\n",
            "2 X 5 = 10\n",
            "2 X 6 = 12\n",
            "2 X 7 = 14\n",
            "2 X 8 = 16\n",
            "2 X 9 = 18\n",
            "\n",
            "3 X 1 = 3\n",
            "3 X 2 = 6\n",
            "3 X 3 = 9\n",
            "3 X 4 = 12\n",
            "3 X 5 = 15\n",
            "3 X 6 = 18\n",
            "3 X 7 = 21\n",
            "3 X 8 = 24\n",
            "3 X 9 = 27\n",
            "\n",
            "4 X 1 = 4\n",
            "4 X 2 = 8\n",
            "4 X 3 = 12\n",
            "4 X 4 = 16\n",
            "4 X 5 = 20\n",
            "4 X 6 = 24\n",
            "4 X 7 = 28\n",
            "4 X 8 = 32\n",
            "4 X 9 = 36\n",
            "\n",
            "5 X 1 = 5\n",
            "5 X 2 = 10\n",
            "5 X 3 = 15\n",
            "5 X 4 = 20\n",
            "5 X 5 = 25\n",
            "5 X 6 = 30\n",
            "5 X 7 = 35\n",
            "5 X 8 = 40\n",
            "5 X 9 = 45\n",
            "\n",
            "6 X 1 = 6\n",
            "6 X 2 = 12\n",
            "6 X 3 = 18\n",
            "6 X 4 = 24\n",
            "6 X 5 = 30\n",
            "6 X 6 = 36\n",
            "6 X 7 = 42\n",
            "6 X 8 = 48\n",
            "6 X 9 = 54\n",
            "\n",
            "7 X 1 = 7\n",
            "7 X 2 = 14\n",
            "7 X 3 = 21\n",
            "7 X 4 = 28\n",
            "7 X 5 = 35\n",
            "7 X 6 = 42\n",
            "7 X 7 = 49\n",
            "7 X 8 = 56\n",
            "7 X 9 = 63\n",
            "\n",
            "8 X 1 = 8\n",
            "8 X 2 = 16\n",
            "8 X 3 = 24\n",
            "8 X 4 = 32\n",
            "8 X 5 = 40\n",
            "8 X 6 = 48\n",
            "8 X 7 = 56\n",
            "8 X 8 = 64\n",
            "8 X 9 = 72\n",
            "\n",
            "9 X 1 = 9\n",
            "9 X 2 = 18\n",
            "9 X 3 = 27\n",
            "9 X 4 = 36\n",
            "9 X 5 = 45\n",
            "9 X 6 = 54\n",
            "9 X 7 = 63\n",
            "9 X 8 = 72\n",
            "9 X 9 = 81\n",
            "\n"
          ]
        }
      ]
    },
    {
      "cell_type": "markdown",
      "source": [
        "## 제어문\n",
        "\n",
        "## continue\n",
        "- 반복문 내부에서 continue 구문은 해당 루프(loop)를 건너뛰게 합니다.\n",
        "- continue 라는 구문을 만나면, 반복문에서 continue 아래 작성된 코드는 실행되지 않고 건너뜁니다."
      ],
      "metadata": {
        "id": "N67Guw_dUZcA"
      }
    },
    {
      "cell_type": "markdown",
      "source": [
        "## break\n",
        "\n",
        "- break 구문을 만나면, 반복 루프(loop)는 즉시 종료됩니다."
      ],
      "metadata": {
        "id": "Adx_uGYfUpZe"
      }
    },
    {
      "cell_type": "markdown",
      "source": [
        "## While\n",
        "\n",
        "- while 문은 while문과 함께 정의한 조건이 참이 동안 반복 루프를 수행합니다.\n",
        "- 많은 사용하는 방법 중 하나는 while True로 지정하여 무한 루프를 생성 후, 탈출 구문 루프 내에서 설정하는 것입니다."
      ],
      "metadata": {
        "id": "GfwGvxSuUxH5"
      }
    },
    {
      "cell_type": "markdown",
      "source": [
        "1부터 50까지의 숫자 중에서 짝수의 합을 구하세요 (while 사용)"
      ],
      "metadata": {
        "id": "TI4Uc-FwU__B"
      }
    },
    {
      "cell_type": "code",
      "source": [
        "count = 1\n",
        "total = 0\n",
        "while count <= 50:\n",
        "    if count % 2 == 0:\n",
        "        total += count\n",
        "        print('count: %d, total: %d' % (count, total))\n",
        "    count += 1"
      ],
      "metadata": {
        "colab": {
          "base_uri": "https://localhost:8080/"
        },
        "id": "7MTyxKLKUP26",
        "outputId": "cf56fc6c-2508-4b49-a48a-a57b290da477"
      },
      "execution_count": 101,
      "outputs": [
        {
          "output_type": "stream",
          "name": "stdout",
          "text": [
            "count: 2, total: 2\n",
            "count: 4, total: 6\n",
            "count: 6, total: 12\n",
            "count: 8, total: 20\n",
            "count: 10, total: 30\n",
            "count: 12, total: 42\n",
            "count: 14, total: 56\n",
            "count: 16, total: 72\n",
            "count: 18, total: 90\n",
            "count: 20, total: 110\n",
            "count: 22, total: 132\n",
            "count: 24, total: 156\n",
            "count: 26, total: 182\n",
            "count: 28, total: 210\n",
            "count: 30, total: 240\n",
            "count: 32, total: 272\n",
            "count: 34, total: 306\n",
            "count: 36, total: 342\n",
            "count: 38, total: 380\n",
            "count: 40, total: 420\n",
            "count: 42, total: 462\n",
            "count: 44, total: 506\n",
            "count: 46, total: 552\n",
            "count: 48, total: 600\n",
            "count: 50, total: 650\n"
          ]
        }
      ]
    },
    {
      "cell_type": "markdown",
      "source": [
        "# Comprehension 문법\n",
        "\n",
        "- 반복문(for ~ in)과 조건문 그리고 변수에 대한 연산까지 모두 갖춘 편리한 문법입니다.\n",
        "- comprehension의 종류로는 list, set, dict등이 존재합니다."
      ],
      "metadata": {
        "id": "81qHSjAUVWJs"
      }
    },
    {
      "cell_type": "markdown",
      "source": [
        "mylist 이라는 list에서 짝수만 따로 list로 만들어 주고 싶을 때는 어떻게 할까요?"
      ],
      "metadata": {
        "id": "5KeKLNQ4Vj9Z"
      }
    },
    {
      "cell_type": "code",
      "source": [
        "mylist = [1, 2, 3, 4, 5, 6, 7, 8, 9, 10]\n",
        "# 짝수를 만들이 위한 빈 리스트 생성\n",
        "even = []\n",
        "\n",
        "for i in mylist:\n",
        "    if i % 2 == 0:\n",
        "        # even 리스트에 값 추가\n",
        "        even.append(i)\n",
        "\n",
        "print(even)"
      ],
      "metadata": {
        "colab": {
          "base_uri": "https://localhost:8080/"
        },
        "id": "EH1_rQCxVK4N",
        "outputId": "6a7826d1-f790-4aac-d4f7-01eba2db787a"
      },
      "execution_count": 102,
      "outputs": [
        {
          "output_type": "stream",
          "name": "stdout",
          "text": [
            "[2, 4, 6, 8, 10]\n"
          ]
        }
      ]
    },
    {
      "cell_type": "markdown",
      "source": [
        "## Comprehension 예시"
      ],
      "metadata": {
        "id": "OuUMCCQEVwcR"
      }
    },
    {
      "cell_type": "code",
      "source": [
        "even = [i for i in mylist if i % 2 == 0]\n",
        "even"
      ],
      "metadata": {
        "colab": {
          "base_uri": "https://localhost:8080/"
        },
        "id": "90EyUgrCVqPa",
        "outputId": "75fa0658-af26-476a-c6d2-5bf298c55a0c"
      },
      "execution_count": 103,
      "outputs": [
        {
          "output_type": "execute_result",
          "data": {
            "text/plain": [
              "[2, 4, 6, 8, 10]"
            ]
          },
          "metadata": {},
          "execution_count": 103
        }
      ]
    },
    {
      "cell_type": "markdown",
      "source": [
        "반복문 안에서 변수를 맨 앞에 한 번더 선언해 주지 않는다면 당연히 에러가 나게 됩니다.\n",
        "\n",
        "for i in mylist 구문에서 반복문을 돌면서 i 값이 return 된다고 생각하고 그 변수를 list에 다시 넣어주는 원리입니다.\n",
        "\n",
        "즉, i를 for 문 맨 앞에 써주세요"
      ],
      "metadata": {
        "id": "ll-KVaJMV3ry"
      }
    },
    {
      "cell_type": "markdown",
      "source": [
        "## Set Comprehension\n",
        "\n",
        "set comprehension은 comprehension 문법을 세트(set)로 생성합니다.\n",
        "괄호를 {}로 생성하면 set comprehension이 완성됩니다."
      ],
      "metadata": {
        "id": "tdsxz6RUWGN1"
      }
    },
    {
      "cell_type": "code",
      "source": [
        "set_even = {i for i in mylist if i % 2 == 0}\n",
        "set_even"
      ],
      "metadata": {
        "colab": {
          "base_uri": "https://localhost:8080/"
        },
        "id": "CWRkU4AAVvwp",
        "outputId": "e77a1e5e-8332-4438-c931-8c75d3093863"
      },
      "execution_count": 105,
      "outputs": [
        {
          "output_type": "execute_result",
          "data": {
            "text/plain": [
              "{2, 4, 6, 8, 10}"
            ]
          },
          "metadata": {},
          "execution_count": 105
        }
      ]
    },
    {
      "cell_type": "markdown",
      "source": [
        "## Dict Comprehension\n",
        "\n",
        "dict comprehension은 comprehension 문법을 활용하여 딕셔너리(dictionary)를 생성합니다.\n",
        "괄호는 {}로 생성하고, key:value 형식을 반드시 지정합니다."
      ],
      "metadata": {
        "id": "BQmnW1ItWOme"
      }
    },
    {
      "cell_type": "code",
      "source": [
        "dict_even = {i:i for i in mylist if i % 2 == 0}\n",
        "dict_even"
      ],
      "metadata": {
        "colab": {
          "base_uri": "https://localhost:8080/"
        },
        "id": "EqgftPwOWKPa",
        "outputId": "16139e96-de72-4fc9-fd27-180f64154578"
      },
      "execution_count": 106,
      "outputs": [
        {
          "output_type": "execute_result",
          "data": {
            "text/plain": [
              "{2: 2, 4: 4, 6: 6, 8: 8, 10: 10}"
            ]
          },
          "metadata": {},
          "execution_count": 106
        }
      ]
    },
    {
      "cell_type": "markdown",
      "source": [
        "# 함수(function)\n",
        "\n",
        "- def 키워드로 시작합니다.\n",
        "- 함수명을 기입합니다.\n",
        "- () 안에 매개변수를 지정할 수 있고, 생략도 가능합니다.\n",
        "- 끝에는 :으로 끝납니다.\n",
        "- 함수의 범위 안에서는 들여쓰기를 합니다. 들여쓰기가 끝난 지점이 함수의 범위가 끝나는 지점입니다."
      ],
      "metadata": {
        "id": "lz1K7thGWdXj"
      }
    },
    {
      "cell_type": "markdown",
      "source": [
        "## 함수의 다양한 형태\n",
        "\n",
        "- 일반 형태\n",
        "입력 매개변수: O\n",
        "return: O\n",
        "\n",
        "- 입력 매개변수가 없는 형태\n",
        "\n",
        "- return 이 없는 형태\n",
        "\n",
        "- 입력 매개변수, return 모두 없는 형태"
      ],
      "metadata": {
        "id": "Xc7mc0PSWqrF"
      }
    },
    {
      "cell_type": "markdown",
      "source": [
        "## 함수의 이름 및 호출\n",
        "\n",
        "- 함수의 이름은 알파벳이나 _로 시작해야 합니다.\n",
        "- 함수의 지정된 이름과 () 로 호출 할 수 있습니다.\n",
        "\n",
        "return 값이 존재하는 경우 함수는 결과 값을 반환 하며 반환된 결과를 변수에 대입할 수 있습니다."
      ],
      "metadata": {
        "id": "5KMOtr9BW-3R"
      }
    },
    {
      "cell_type": "markdown",
      "source": [
        "## docstring\n",
        "\n",
        "함수에 대한 설명을 기록"
      ],
      "metadata": {
        "id": "MfOCWjM-XLWv"
      }
    },
    {
      "cell_type": "code",
      "source": [
        "def sample_function():\n",
        "    \"\"\"\n",
        "    함수에 대한 설명을 기록합니다.\n",
        "    sample_function은 함수를 설명하기 위한 예제 함수 입니다.\n",
        "\n",
        "    (예시)\n",
        "    호출의 예.\n",
        "    sample_function()\n",
        "    \"\"\"\n",
        "    print('함수가 호출 되었습니다.')"
      ],
      "metadata": {
        "id": "VQY2_UybWXew"
      },
      "execution_count": 107,
      "outputs": []
    },
    {
      "cell_type": "code",
      "source": [
        "sample_function()"
      ],
      "metadata": {
        "colab": {
          "base_uri": "https://localhost:8080/"
        },
        "id": "0GWbK5G2XTGw",
        "outputId": "e27376d8-189d-4616-f94a-a5d4f022524c"
      },
      "execution_count": 109,
      "outputs": [
        {
          "output_type": "stream",
          "name": "stdout",
          "text": [
            "함수가 호출 되었습니다.\n"
          ]
        }
      ]
    },
    {
      "cell_type": "code",
      "source": [
        "print(sample_function.__doc__)"
      ],
      "metadata": {
        "colab": {
          "base_uri": "https://localhost:8080/"
        },
        "id": "nw5351JvXWSR",
        "outputId": "837d70c4-03f4-47b8-eb99-55d84a85469a"
      },
      "execution_count": 110,
      "outputs": [
        {
          "output_type": "stream",
          "name": "stdout",
          "text": [
            "\n",
            "    함수에 대한 설명을 기록합니다.\n",
            "    sample_function은 함수를 설명하기 위한 예제 함수 입니다.\n",
            "    \n",
            "    (예시)\n",
            "    호출의 예.\n",
            "    sample_function()\n",
            "    \n"
          ]
        }
      ]
    },
    {
      "cell_type": "markdown",
      "source": [
        "## 함수의 인수(매개변수)\n",
        "\n",
        "- 인수(argument): 값, 변수, 참조 등 전달되는 값\n",
        "- 매개변수(parameter): 함수 등에서 사용되는 전달된 값을 받는 변수\n",
        "\n",
        "- 위치 인수(positional arguments)\n",
        "가장 보편적인 인수입니다.\n",
        "변수명을 인수로 지정합니다.\n",
        "위치가 중요합니다."
      ],
      "metadata": {
        "id": "wwJ6NXNnXfOo"
      }
    },
    {
      "cell_type": "code",
      "source": [
        "def add_function(a, b, c):\n",
        "    result = a + b + c\n",
        "    print(f'a: {a}, b: {b}, c: {c}')\n",
        "    print(f'sum: {result}')\n",
        "    return result\n",
        "\n",
        "add_function(3,5,7)"
      ],
      "metadata": {
        "colab": {
          "base_uri": "https://localhost:8080/"
        },
        "id": "In0xwbPFXc2c",
        "outputId": "0ea534b6-1586-46e5-ec24-5e29e5f2fe89"
      },
      "execution_count": 111,
      "outputs": [
        {
          "output_type": "stream",
          "name": "stdout",
          "text": [
            "a: 3, b: 5, c: 7\n",
            "sum: 15\n"
          ]
        },
        {
          "output_type": "execute_result",
          "data": {
            "text/plain": [
              "15"
            ]
          },
          "metadata": {},
          "execution_count": 111
        }
      ]
    },
    {
      "cell_type": "markdown",
      "source": [
        "- 키워드 인수(keyword arguments) : 위치 인수의 위치를 정확히 기억 하지 못하고 혼란을 야기할 수 있기 때문에 인수명에 값을 직접 지정합니다.\n",
        "\n",
        "- 기본 매개변수(default parameter) 매개변수에 기본 값을 지정할 수 있습니다.\n",
        "기본 값을 지정시 인수에 값을 생략 가능합니다.\n",
        "단, 기본 값이 지정된 인수는 위치 인수보다 다음에 위치해야 합니다.\n",
        "\n",
        "기본 매개변수가 위치 인수보다 앞 쪽에 위치한 경우 Error가 발생합니다."
      ],
      "metadata": {
        "id": "qlcXdzI-X2JG"
      }
    },
    {
      "cell_type": "markdown",
      "source": [
        "## *tuple (가변 매개변수)\n",
        "\n",
        "여러 개의 인수를 전달 받을 수 있습니다.\n",
        "여러 개의 인수를 전달 받은 *args에는 튜플(tuple) 형식으로 데이터가 저장됩니다.\n",
        "*args로 받은 인수는 반복문으로 처리하는 것이 일반 적입니다.\n",
        "대체적으로 *args 변수가 많이 사용됩니다."
      ],
      "metadata": {
        "id": "CtmT_HoUYKl4"
      }
    },
    {
      "cell_type": "code",
      "source": [
        "def add_function(*args):\n",
        "    result = 0\n",
        "    print(f'args의 타입: {type(args)}')\n",
        "    for arg in args:\n",
        "        print(arg)\n",
        "        result += arg\n",
        "    print('==='* 5)\n",
        "    print(f'sum: {result}')"
      ],
      "metadata": {
        "id": "bCa1RdWQXyP6"
      },
      "execution_count": 112,
      "outputs": []
    },
    {
      "cell_type": "code",
      "source": [
        "add_function()"
      ],
      "metadata": {
        "colab": {
          "base_uri": "https://localhost:8080/"
        },
        "id": "6h-nrAfMYPw7",
        "outputId": "22d918dc-e233-4eee-910b-2799b4117a7d"
      },
      "execution_count": 113,
      "outputs": [
        {
          "output_type": "stream",
          "name": "stdout",
          "text": [
            "args의 타입: <class 'tuple'>\n",
            "===============\n",
            "sum: 0\n"
          ]
        }
      ]
    },
    {
      "cell_type": "code",
      "source": [
        "add_function(1, 2, 3, 4, 5)"
      ],
      "metadata": {
        "colab": {
          "base_uri": "https://localhost:8080/"
        },
        "id": "BQ-5WR9bYRmp",
        "outputId": "6a0ac89d-13e2-43f9-faee-32c0d4a68c90"
      },
      "execution_count": 114,
      "outputs": [
        {
          "output_type": "stream",
          "name": "stdout",
          "text": [
            "args의 타입: <class 'tuple'>\n",
            "1\n",
            "2\n",
            "3\n",
            "4\n",
            "5\n",
            "===============\n",
            "sum: 15\n"
          ]
        }
      ]
    },
    {
      "cell_type": "markdown",
      "source": [
        "- 위치 매개변수와 *tuple 매개변수의 혼용 : *tuple 매개변수는 위치 매개변수의 뒤에 위치해야 합니다."
      ],
      "metadata": {
        "id": "8L2t_3LGYY7F"
      }
    },
    {
      "cell_type": "code",
      "source": [
        "def add_function(a, *args): #(a, 숫자)\n",
        "    print(f'a: {a}')\n",
        "    print('==='* 5)\n",
        "    result = 0\n",
        "    for arg in args:\n",
        "        print(arg)\n",
        "        result += arg\n",
        "    print('==='* 5)\n",
        "    print(f'sum: {result}')"
      ],
      "metadata": {
        "id": "6u3h4yvQYWJO"
      },
      "execution_count": 115,
      "outputs": []
    },
    {
      "cell_type": "code",
      "source": [
        "add_function(1,2,3,4,5)"
      ],
      "metadata": {
        "colab": {
          "base_uri": "https://localhost:8080/"
        },
        "id": "vy4y2QtMYreN",
        "outputId": "9a9873cd-a59e-4b9c-fcc9-43dfae095d76"
      },
      "execution_count": 116,
      "outputs": [
        {
          "output_type": "stream",
          "name": "stdout",
          "text": [
            "a: 1\n",
            "===============\n",
            "2\n",
            "3\n",
            "4\n",
            "5\n",
            "===============\n",
            "sum: 14\n"
          ]
        }
      ]
    },
    {
      "cell_type": "markdown",
      "source": [
        "가변 매개변수를 활용한 함수를 생성하여 요소의 개수를 구하고 출력하는 프로그램을 만들어 주세요\n",
        "\n"
      ],
      "metadata": {
        "id": "0ZDQ65OPY0DA"
      }
    },
    {
      "cell_type": "code",
      "source": [
        "def count_function(*args):\n",
        "    print(f'전달한 요소의 개수는: {len(args)} 개 입니다.')"
      ],
      "metadata": {
        "id": "wx3ForMfYtya"
      },
      "execution_count": 117,
      "outputs": []
    },
    {
      "cell_type": "code",
      "source": [
        "count_function(1, 2, 3, 4, 5)"
      ],
      "metadata": {
        "colab": {
          "base_uri": "https://localhost:8080/"
        },
        "id": "GYbHJ2g0Y2_K",
        "outputId": "ed6d3fa5-bfea-4707-afca-5a77410b142b"
      },
      "execution_count": 118,
      "outputs": [
        {
          "output_type": "stream",
          "name": "stdout",
          "text": [
            "전달한 요소의 개수는: 5 개 입니다.\n"
          ]
        }
      ]
    },
    {
      "cell_type": "markdown",
      "source": [
        "## **dict 인수 (키워드 가변 매개변수)\n",
        "\n",
        "- 여러 개의 인수를 전달 받을 수 있습니다.\n",
        "- 여러 개의 인수를 전달 받은 **kwargs에는 딕셔너리(dict) 형식으로 데이터가 저장됩니다.\n",
        "- **kwargs로 받은 인수 역시 반복문으로 처리하는 것이 일반 적입니다.\n",
        "- 대체적으로 **kwargs 변수가 많이 사용됩니다."
      ],
      "metadata": {
        "id": "hMPalwMAY7P9"
      }
    },
    {
      "cell_type": "code",
      "source": [
        "def add_function(**kwargs):\n",
        "    total_age = 0\n",
        "    for name, age in kwargs.items():\n",
        "        print(f'이름: {name}, 나이: {age}')\n",
        "        total_age += age\n",
        "    print('==='* 5)\n",
        "    print(f'전체 나이의 합계: {total_age}')"
      ],
      "metadata": {
        "id": "3xiwKnNLY42z"
      },
      "execution_count": 119,
      "outputs": []
    },
    {
      "cell_type": "code",
      "source": [
        "person = {'john': 10, 'peter': 12, 'lee': 5}\n",
        "add_function(**person)"
      ],
      "metadata": {
        "colab": {
          "base_uri": "https://localhost:8080/"
        },
        "id": "Eem0FbNeZGNB",
        "outputId": "97b6b33c-4b88-484a-907a-590e07661f2d"
      },
      "execution_count": 120,
      "outputs": [
        {
          "output_type": "stream",
          "name": "stdout",
          "text": [
            "이름: john, 나이: 10\n",
            "이름: peter, 나이: 12\n",
            "이름: lee, 나이: 5\n",
            "===============\n",
            "전체 나이의 합계: 27\n"
          ]
        }
      ]
    },
    {
      "cell_type": "markdown",
      "source": [
        "## lambda : 익명 함수(annonymous function)\n",
        "\n",
        "- 이름 없이 정의된 함수 입니다.\n",
        "- 단일 문장(1줄)의 코드로 작성되어야 합니다.\n",
        "- 함수 내부에서는 return문이 포함하지 않지만 값을 반환합니다."
      ],
      "metadata": {
        "id": "uyqLxk4iZRsK"
      }
    },
    {
      "cell_type": "code",
      "source": [
        "a = lambda x, y: x * y if x > 0 else y\n",
        "\n",
        "a(5,6)"
      ],
      "metadata": {
        "colab": {
          "base_uri": "https://localhost:8080/"
        },
        "id": "p82_ybL2ZOKx",
        "outputId": "c033dccd-cb37-430b-9bb3-4912bba490b3"
      },
      "execution_count": 121,
      "outputs": [
        {
          "output_type": "execute_result",
          "data": {
            "text/plain": [
              "30"
            ]
          },
          "metadata": {},
          "execution_count": 121
        }
      ]
    },
    {
      "cell_type": "markdown",
      "source": [
        "def calc_many(choice, *args) 함수에서\n",
        "\n",
        "choice가 sum 이면 합을 구해서 return 합니다.\n",
        "choice 가 mul 이면 곱한 결과를 return 합니다.\n",
        "함수를 구현하세요"
      ],
      "metadata": {
        "id": "dX2lGCetZnvH"
      }
    },
    {
      "cell_type": "code",
      "source": [
        "def calc_many(choice, *args):\n",
        "    # 코드입력\n",
        "    ret = 0\n",
        "    if choice == 'mul':\n",
        "        ret = 1\n",
        "    for i in args:\n",
        "        if choice == 'sum':\n",
        "            ret += i\n",
        "        elif choice == 'mul':\n",
        "            ret *= i\n",
        "    return ret"
      ],
      "metadata": {
        "id": "c-2broemZj-_"
      },
      "execution_count": 122,
      "outputs": []
    },
    {
      "cell_type": "code",
      "source": [
        "calc_many('sum', 0, 1, 2, 3, 4)"
      ],
      "metadata": {
        "colab": {
          "base_uri": "https://localhost:8080/"
        },
        "id": "QuOvKmxKZt8C",
        "outputId": "a8eab306-2774-4f24-c457-f6fb5a9ab462"
      },
      "execution_count": 123,
      "outputs": [
        {
          "output_type": "execute_result",
          "data": {
            "text/plain": [
              "10"
            ]
          },
          "metadata": {},
          "execution_count": 123
        }
      ]
    },
    {
      "cell_type": "code",
      "source": [
        "calc_many('mul', 0, 1, 2, 3, 4)"
      ],
      "metadata": {
        "colab": {
          "base_uri": "https://localhost:8080/"
        },
        "id": "qJaYwqVoZw3h",
        "outputId": "d0e39ad5-4298-4cdc-fb3d-c837aed82df5"
      },
      "execution_count": 124,
      "outputs": [
        {
          "output_type": "execute_result",
          "data": {
            "text/plain": [
              "0"
            ]
          },
          "metadata": {},
          "execution_count": 124
        }
      ]
    },
    {
      "cell_type": "markdown",
      "source": [
        "# 내장함수(built-in function)\n",
        "\n",
        "## map\n",
        "\n",
        "- 문법: map(function, iterable)\n",
        "- map은 함수(f)와 순회 가능한(iterable) 자료형을 입력으로 받습니다.\n",
        "- map은 입력받은 자료형의 각 요소를 함수(function)가 수행한 결과를 묶어서 돌려줍니다."
      ],
      "metadata": {
        "id": "KidhgAjxZ5JJ"
      }
    },
    {
      "cell_type": "code",
      "source": [
        "sample_data = [1, 2, 3, 4, 5, 6, 7, 8, 9, 10]\n",
        "\n",
        "map(str, sample_data) # 함수 반환"
      ],
      "metadata": {
        "colab": {
          "base_uri": "https://localhost:8080/"
        },
        "id": "H-FrkUigZ0AP",
        "outputId": "fa2f9eb0-a158-486e-e44d-7ecf279e4a72"
      },
      "execution_count": 126,
      "outputs": [
        {
          "output_type": "execute_result",
          "data": {
            "text/plain": [
              "<map at 0x7e6229d6e950>"
            ]
          },
          "metadata": {},
          "execution_count": 126
        }
      ]
    },
    {
      "cell_type": "markdown",
      "source": [
        "map에 lambda 함수 적용"
      ],
      "metadata": {
        "id": "5KNALT8gaSzS"
      }
    },
    {
      "cell_type": "code",
      "source": [
        "result = map(lambda x: x*2, sample_data)\n",
        "list(result)"
      ],
      "metadata": {
        "colab": {
          "base_uri": "https://localhost:8080/"
        },
        "id": "gQKHyU14aNmA",
        "outputId": "ebb0a295-00ae-46ff-dd77-f432a4d52346"
      },
      "execution_count": 127,
      "outputs": [
        {
          "output_type": "execute_result",
          "data": {
            "text/plain": [
              "[2, 4, 6, 8, 10, 12, 14, 16, 18, 20]"
            ]
          },
          "metadata": {},
          "execution_count": 127
        }
      ]
    },
    {
      "cell_type": "markdown",
      "source": [
        "map에 다중 인수를 지정"
      ],
      "metadata": {
        "id": "OByK_sTRabet"
      }
    },
    {
      "cell_type": "code",
      "source": [
        "sample_data = [1, 2, 3, 4, 5, 6, 7, 8, 9, 10]\n",
        "sample_data_2 = [0, 1, 2, 3, 5, 8, 13, 21, 34, 55]\n",
        "list(map(lambda x, y: x+y, sample_data, sample_data_2))"
      ],
      "metadata": {
        "colab": {
          "base_uri": "https://localhost:8080/"
        },
        "id": "-YlQc8gwaXpC",
        "outputId": "a23a1509-277c-4afb-86fa-0831aa6d95f4"
      },
      "execution_count": 128,
      "outputs": [
        {
          "output_type": "execute_result",
          "data": {
            "text/plain": [
              "[1, 3, 5, 7, 10, 14, 20, 29, 43, 65]"
            ]
          },
          "metadata": {},
          "execution_count": 128
        }
      ]
    },
    {
      "cell_type": "markdown",
      "source": [
        "list의 size가 다른 경우, 작은 size에 맞춰 생성"
      ],
      "metadata": {
        "id": "tQmYvi5RaiEQ"
      }
    },
    {
      "cell_type": "markdown",
      "source": [
        "map()을 활용하여 sample 리스트 요소의 제곱을 리스트 형식으로 출력하세요"
      ],
      "metadata": {
        "id": "REVHqgbKaklZ"
      }
    },
    {
      "cell_type": "code",
      "source": [
        "list(map(lambda x: x**2, sample_data))"
      ],
      "metadata": {
        "colab": {
          "base_uri": "https://localhost:8080/"
        },
        "id": "E4SqgxqYadQp",
        "outputId": "dddc3fa8-568d-4179-be3a-e4d70135e5d3"
      },
      "execution_count": 130,
      "outputs": [
        {
          "output_type": "execute_result",
          "data": {
            "text/plain": [
              "[1, 4, 9, 16, 25, 36, 49, 64, 81, 100]"
            ]
          },
          "metadata": {},
          "execution_count": 130
        }
      ]
    },
    {
      "cell_type": "markdown",
      "source": [
        "## zip\n",
        "\n",
        "- 문법: zip(*iterable)\n",
        "- 동일한 개수로 이루어진 자료형을 묶어 주는 역할을 합니다."
      ],
      "metadata": {
        "id": "fo8-bKQJax3H"
      }
    },
    {
      "cell_type": "code",
      "source": [
        "sample_data1 = [1, 2, 3, 4, 5, 6, 7, 8, 9, 10]\n",
        "sample_data2 = [0, 1, 2, 3, 5, 8, 13, 21, 34, 55]\n",
        "sample_data3 = [5, 6, 7]"
      ],
      "metadata": {
        "id": "Ess24wuGao4d"
      },
      "execution_count": 131,
      "outputs": []
    },
    {
      "cell_type": "code",
      "source": [
        "result = zip(sample_data1, sample_data2)\n",
        "list(result)"
      ],
      "metadata": {
        "colab": {
          "base_uri": "https://localhost:8080/"
        },
        "id": "IcO85z1La5Cs",
        "outputId": "990b0d81-840e-4374-c565-76bf84189c80"
      },
      "execution_count": 132,
      "outputs": [
        {
          "output_type": "execute_result",
          "data": {
            "text/plain": [
              "[(1, 0),\n",
              " (2, 1),\n",
              " (3, 2),\n",
              " (4, 3),\n",
              " (5, 5),\n",
              " (6, 8),\n",
              " (7, 13),\n",
              " (8, 21),\n",
              " (9, 34),\n",
              " (10, 55)]"
            ]
          },
          "metadata": {},
          "execution_count": 132
        }
      ]
    },
    {
      "cell_type": "markdown",
      "source": [
        "zip을 활용한 dict 만들기"
      ],
      "metadata": {
        "id": "G85lDJq0a_2t"
      }
    },
    {
      "cell_type": "code",
      "source": [
        "number = [1, 2, 3, 4]\n",
        "name = ['홍길동','김철수','John','Paul']\n",
        "dic = {}\n",
        "\n",
        "for number, name in zip(number,name):\n",
        "    dic[number] = name\n",
        "\n",
        "dic"
      ],
      "metadata": {
        "colab": {
          "base_uri": "https://localhost:8080/"
        },
        "id": "hF3fvGG4a6h5",
        "outputId": "000e4e30-04b0-4fd2-82d4-f63f155390f7"
      },
      "execution_count": 133,
      "outputs": [
        {
          "output_type": "execute_result",
          "data": {
            "text/plain": [
              "{1: '홍길동', 2: '김철수', 3: 'John', 4: 'Paul'}"
            ]
          },
          "metadata": {},
          "execution_count": 133
        }
      ]
    },
    {
      "cell_type": "markdown",
      "source": [
        "## enumerate\n",
        "\n",
        "- [문법]: enumerate(iterable, start=0)\n",
        "- 순서가 있는 자료형을 입력 받아 index를 포함하는 객체로 return 합니다."
      ],
      "metadata": {
        "id": "BsEq2bCcbIAS"
      }
    },
    {
      "cell_type": "code",
      "source": [
        "for idx, value in enumerate(range(1, 10, 2)): # 0,1,2,3,4 - 1,3,5,7,9\n",
        "    print(f'index: {idx}, value: {value}')"
      ],
      "metadata": {
        "colab": {
          "base_uri": "https://localhost:8080/"
        },
        "id": "H-mvBWuebEYm",
        "outputId": "9a3d9a6a-8874-41e4-94b3-59393289b05e"
      },
      "execution_count": 135,
      "outputs": [
        {
          "output_type": "stream",
          "name": "stdout",
          "text": [
            "index: 0, value: 1\n",
            "index: 1, value: 3\n",
            "index: 2, value: 5\n",
            "index: 3, value: 7\n",
            "index: 4, value: 9\n"
          ]
        }
      ]
    },
    {
      "cell_type": "markdown",
      "source": [
        "# 패키지와 모듈의 관계\n",
        "\n",
        "- 함수들이 뭉쳐진 하나의 .py 파일 안에 이루어진 것을 모듈이라고 합니다.\n",
        "- 여러 개의 모듈을 그룹화 하면 패키지가 됩니다.\n",
        "- 패키지는 종종 라이브러리라고도 불리웁니다.\n",
        "\n",
        "즉, 하나의 .py 파일은 모듈이며, 모듈을 포함하는 디렉토리(directory)는 패키지로 정의됩니다."
      ],
      "metadata": {
        "id": "bE-bLBrmbytY"
      }
    },
    {
      "cell_type": "markdown",
      "source": [
        "## 모듈 import\n",
        "\n",
        "- 모듈 import는 외장 라이브러리의 모듈을 불러오는 유용한 기능입니다.\n",
        "- 모듈 import를 통해 는 다른 누군가가 이미 만들어 놓은 기능을 쉽게 가져와 사용할 수 있습니다.\n",
        "- 파이썬 모듈을 가져와 사용하기 위해서는 import 구문을 사용합니다.\n",
        "- 파이썬 모듈을 import 하는 방법은 여러가지 방식이 존재합니다."
      ],
      "metadata": {
        "id": "2ZXJNi7Qb_Iw"
      }
    },
    {
      "cell_type": "code",
      "source": [
        "import numpy as np\n",
        "import pandas as pd\n",
        "import matplotlib.pyplot as plt\n",
        "import seaborn as sns\n",
        "import random"
      ],
      "metadata": {
        "id": "3M-IgHtubS2-"
      },
      "execution_count": 136,
      "outputs": []
    },
    {
      "cell_type": "markdown",
      "source": [
        "- numpy: 과학 계산을 위한 패키지\n",
        "- pandas: 데이터 분석을 할 때 가장 많이 쓰이는 모듈\n",
        "- matplotlib: 시각화를 위한 모듈\n",
        "- seaborn: 시각화를 위한 모듈 (matplotlib을 더 쉽게 사용할 수 있도록 도와주는 패키지)\n",
        "- random: 난수 생성 관련 모듈"
      ],
      "metadata": {
        "id": "CFBR9xi4cL0w"
      }
    },
    {
      "cell_type": "markdown",
      "source": [
        "# Python의 Class와 상속(inheritance)의 개념\n",
        "\n",
        "- Python 문법에서의 상속(inheritance)란, 부모 클래스(Super Class)의 속성(property)과 함수(method)를 그대로 물려 받는 개념입니다.\n",
        "- Super Class의 내용을 자식 클래스(Sub Class)가 물려 받게 되면, Super Class의 속성과 함수를 자식 클래스에서 사용할 수 있습니다.\n",
        "- class 에 속한 함수 (method)는 첫 번째 인자로 self를 입력합니다. (사실 self가 아니어도 상관없지만, 일반적으로 self를 많이 사용합니다.)\n",
        "- 자식클래스의 함수를 재정의하게 되면, 재정의된 함수로 실행되게 됩니다."
      ],
      "metadata": {
        "id": "DO-UtBkTcnnb"
      }
    },
    {
      "cell_type": "code",
      "source": [
        "class Person:\n",
        "    \"\"\"Super Class\"\"\"\n",
        "    # 클래스 변수\n",
        "    total_count = 0\n",
        "\n",
        "    # 생성자 메서드(method)\n",
        "    def __init__(self):\n",
        "        self.name = '홍길동'\n",
        "        self.age = 1\n",
        "        Person.total_count+=1\n",
        "\n",
        "    # class내 정의된 메서드(method)\n",
        "    def introduce(self):\n",
        "        print(f'제 이름은 {self.name} 이고, 나이는 {self.age}살 입니다.')"
      ],
      "metadata": {
        "id": "UMXsLJ0FcKeI"
      },
      "execution_count": 144,
      "outputs": []
    },
    {
      "cell_type": "code",
      "source": [
        "Person"
      ],
      "metadata": {
        "colab": {
          "base_uri": "https://localhost:8080/",
          "height": 104
        },
        "id": "Bv6J3N_Zc63g",
        "outputId": "282fb80f-1639-49a1-8dd7-9c617c75c92d"
      },
      "execution_count": 146,
      "outputs": [
        {
          "output_type": "execute_result",
          "data": {
            "text/plain": [
              "__main__.Person"
            ],
            "text/html": [
              "<div style=\"max-width:800px; border: 1px solid var(--colab-border-color);\"><style>\n",
              "      pre.function-repr-contents {\n",
              "        overflow-x: auto;\n",
              "        padding: 8px 12px;\n",
              "        max-height: 500px;\n",
              "      }\n",
              "\n",
              "      pre.function-repr-contents.function-repr-contents-collapsed {\n",
              "        cursor: pointer;\n",
              "        max-height: 100px;\n",
              "      }\n",
              "    </style>\n",
              "    <pre style=\"white-space: initial; background:\n",
              "         var(--colab-secondary-surface-color); padding: 8px 12px;\n",
              "         border-bottom: 1px solid var(--colab-border-color);\"><b>Person</b><br/>def __init__()</pre><pre class=\"function-repr-contents function-repr-contents-collapsed\" style=\"\"><a class=\"filepath\" style=\"display:none\" href=\"#\"></a>Super Class</pre></div>"
            ]
          },
          "metadata": {},
          "execution_count": 146
        }
      ]
    },
    {
      "cell_type": "markdown",
      "source": [
        "## 인스턴스(instance) 생성과 객체(object)\n",
        "객체는 바로 밑의 예시에서 p1, p2, p3를 일컫습니다.\n",
        "\n",
        "정의된 클래스(class)로부터 생성된 녀석을 인스턴스(instance) 혹은 객체(object)라고 합니다.\n",
        "\n",
        "하지만, 용어의 온도차(?)는 존재합니다."
      ],
      "metadata": {
        "id": "roXANirLdaen"
      }
    },
    {
      "cell_type": "code",
      "source": [
        "p1 = Person()\n",
        "\n",
        "p1.introduce()"
      ],
      "metadata": {
        "colab": {
          "base_uri": "https://localhost:8080/"
        },
        "id": "lgRPhNoodKhv",
        "outputId": "5df714fe-db8f-4372-e16c-0f7aa7eec876"
      },
      "execution_count": 147,
      "outputs": [
        {
          "output_type": "stream",
          "name": "stdout",
          "text": [
            "제 이름은 홍길동 이고, 나이는 1살 입니다.\n"
          ]
        }
      ]
    },
    {
      "cell_type": "markdown",
      "source": [
        "## 클래스 변수의 출력\n",
        "\n",
        "클래스 변수는 모든 클래스가 공유하게 됩니다. 클래스의 객체가 1번 만들어 졌기 때문에 1이 출력되는 것을 확인할 수 있습니다."
      ],
      "metadata": {
        "id": "5DBLgOwYdpeS"
      }
    },
    {
      "cell_type": "code",
      "source": [
        "p1.__class__.total_count"
      ],
      "metadata": {
        "colab": {
          "base_uri": "https://localhost:8080/"
        },
        "id": "GykUX-WudgA-",
        "outputId": "8b7cac4b-f674-489c-8f56-b86c9304df7f"
      },
      "execution_count": 149,
      "outputs": [
        {
          "output_type": "execute_result",
          "data": {
            "text/plain": [
              "1"
            ]
          },
          "metadata": {},
          "execution_count": 149
        }
      ]
    },
    {
      "cell_type": "markdown",
      "source": [
        "생성자 메서드가 재정의되었을 때"
      ],
      "metadata": {
        "id": "BhQ1rHSFeO0G"
      }
    },
    {
      "cell_type": "code",
      "source": [
        "class Person:\n",
        "    \"\"\"Super Class\"\"\"\n",
        "    # 클래스 변수\n",
        "    total_count = 0\n",
        "\n",
        "    # 생성자 메서드\n",
        "    def __init__(self, name, age):\n",
        "        self.name = name\n",
        "        self.age = age\n",
        "        Person.total_count+=1\n",
        "\n",
        "    # class내 정의된 함수(method)\n",
        "    def introduce(self):\n",
        "        print(f'제 이름은 {self.name} 이고, 나이는 {self.age}살 입니다.')"
      ],
      "metadata": {
        "id": "MIYRhiujeJSN"
      },
      "execution_count": 153,
      "outputs": []
    },
    {
      "cell_type": "code",
      "source": [
        "p2 = Person('김철수', 22)\n",
        "p2.introduce()"
      ],
      "metadata": {
        "colab": {
          "base_uri": "https://localhost:8080/"
        },
        "id": "-BPTr_IoduUD",
        "outputId": "a1189579-41c4-42fe-966b-ac90f3649991"
      },
      "execution_count": 154,
      "outputs": [
        {
          "output_type": "stream",
          "name": "stdout",
          "text": [
            "제 이름은 김철수 이고, 나이는 22살 입니다.\n"
          ]
        }
      ]
    },
    {
      "cell_type": "markdown",
      "source": [
        "## 클래스 상속 (inheritance) 받기"
      ],
      "metadata": {
        "id": "CXT_RVzReTo6"
      }
    },
    {
      "cell_type": "code",
      "source": [
        "class Student(Person):\n",
        "    \"\"\"Sub Class\"\"\"\n",
        "\n",
        "    def __init__(self):\n",
        "        super().__init__()\n",
        "\n",
        "    def print_name(self):\n",
        "        print(f'제 이름은 {self.name} 입니다.')\n",
        "\n",
        "    def print_age(self):\n",
        "        print(f'제 나이는 {self.age} 입니다.')"
      ],
      "metadata": {
        "id": "O5q2WZ85d2g5"
      },
      "execution_count": 155,
      "outputs": []
    },
    {
      "cell_type": "markdown",
      "source": [
        "Student 클래스는 Person 클래스를 상속받아 구현하게 되면서, 생성자 (init) 함수에서 name, age argument를 요구합니다. 이 Rule을 지켜주지 못하면 에러가 발생합니다."
      ],
      "metadata": {
        "id": "05VBkBj7eaOO"
      }
    },
    {
      "cell_type": "code",
      "source": [
        "class Student(Person):\n",
        "    \"\"\"Sub Class\"\"\"\n",
        "\n",
        "    def __init__(self):\n",
        "        super().__init__('테디', 30)\n",
        "\n",
        "student = Student()"
      ],
      "metadata": {
        "id": "1vCc95W-eXkW"
      },
      "execution_count": 156,
      "outputs": []
    },
    {
      "cell_type": "code",
      "source": [
        "student.introduce()"
      ],
      "metadata": {
        "colab": {
          "base_uri": "https://localhost:8080/"
        },
        "id": "n3HJNmfzejeA",
        "outputId": "f8ba5fe1-1b6a-43b7-cd62-2ad3371fd7dc"
      },
      "execution_count": 157,
      "outputs": [
        {
          "output_type": "stream",
          "name": "stdout",
          "text": [
            "제 이름은 테디 이고, 나이는 30살 입니다.\n"
          ]
        }
      ]
    },
    {
      "cell_type": "markdown",
      "source": [
        "## 메서드 오버라이딩\n",
        "\n",
        "- 메서드 오버라이딩은 부모로부터 물려받은(상속받은) 메서드를 재정의하여 사용할 때 사용합니다.\n",
        "- 부모로부터 물려받은 다른 기능은 그대로 사용하되, 몇몇 메서드만 수정하여 활용하고 싶을 때 사용합니다."
      ],
      "metadata": {
        "id": "cmqoxvfUez8j"
      }
    },
    {
      "cell_type": "code",
      "source": [
        "class Person:\n",
        "    \"\"\"Super Class\"\"\"\n",
        "\n",
        "    # PErson의 생성자 메서드\n",
        "    def __init__(self, name='홍길동', age=20):\n",
        "        self.name = name\n",
        "        self.age = age\n",
        "\n",
        "    # Person의 메서드\n",
        "    def introduce(self):\n",
        "        print(f'난 Person이야. 내 이름은 {self.name} 이고, 나이는 {self.age}살이야.')"
      ],
      "metadata": {
        "id": "MfT6phl_evv6"
      },
      "execution_count": 158,
      "outputs": []
    },
    {
      "cell_type": "code",
      "source": [
        "class Student(Person):\n",
        "    \"\"\"Sub Class\"\"\"\n",
        "\n",
        "    def __init__(self):\n",
        "        super().__init__()\n",
        "\n",
        "    # 메서드 오버라이딩\n",
        "    def introduce(self):\n",
        "        print(f'난 Student야. 내 이름은 {self.name}이고, 나이는 비밀이야.')"
      ],
      "metadata": {
        "id": "Cby6Oz9Me6K4"
      },
      "execution_count": 159,
      "outputs": []
    },
    {
      "cell_type": "code",
      "source": [
        "student = Student()\n",
        "student.introduce()"
      ],
      "metadata": {
        "colab": {
          "base_uri": "https://localhost:8080/"
        },
        "id": "Y5JDx7RvfA9W",
        "outputId": "66c75bbe-5663-430f-9a45-3f78342f7b60"
      },
      "execution_count": 160,
      "outputs": [
        {
          "output_type": "stream",
          "name": "stdout",
          "text": [
            "난 Student야. 내 이름은 홍길동이고, 나이는 비밀이야.\n"
          ]
        }
      ]
    },
    {
      "cell_type": "markdown",
      "source": [
        "클래스 메서드 오버라이딩을 하고 그 안에서 super()를 호출한 경우"
      ],
      "metadata": {
        "id": "4fwtgLPxfLJ0"
      }
    },
    {
      "cell_type": "code",
      "source": [
        "class Student(Person):\n",
        "    \"\"\"Sub Class\"\"\"\n",
        "\n",
        "    def __init__(self):\n",
        "        super().__init__()\n",
        "\n",
        "    # 메서드 오버라이딩\n",
        "    def introduce(self):\n",
        "        # 부모의 메서드 호출\n",
        "        super().introduce()\n",
        "        print(f'난 Student야. 내 이름은 {self.name}이고, 나이는 비밀이야.')"
      ],
      "metadata": {
        "id": "n3N4KaS9fHca"
      },
      "execution_count": 161,
      "outputs": []
    },
    {
      "cell_type": "code",
      "source": [
        "student = Student()\n",
        "student.introduce()"
      ],
      "metadata": {
        "colab": {
          "base_uri": "https://localhost:8080/"
        },
        "id": "9CTSAAeQfO-p",
        "outputId": "5b0a7da9-9c58-427b-f3db-07cc6720539d"
      },
      "execution_count": 162,
      "outputs": [
        {
          "output_type": "stream",
          "name": "stdout",
          "text": [
            "난 Person이야. 내 이름은 홍길동 이고, 나이는 20살이야.\n",
            "난 Student야. 내 이름은 홍길동이고, 나이는 비밀이야.\n"
          ]
        }
      ]
    },
    {
      "cell_type": "markdown",
      "source": [
        "만약, 부모클래스의 메서드를 호출하고 싶다면, super().introduce() 형식으로 호출 할 수 있습니다."
      ],
      "metadata": {
        "id": "DYmsUSthfWfc"
      }
    },
    {
      "cell_type": "markdown",
      "source": [
        "## 상속 구조 확인\n",
        "\n",
        "- 상속의 구조는 클래스명.mro()로 확인할 수 있습니다.\n",
        "- 구조는 상속 받은 순서대로 표시됩니다.\n",
        "- 모든 class는 object를 상속받기 때문에 항상 object가 마지막에 표기 됩니다."
      ],
      "metadata": {
        "id": "diMqAtcIfnZR"
      }
    },
    {
      "cell_type": "code",
      "source": [
        "Student.mro()"
      ],
      "metadata": {
        "colab": {
          "base_uri": "https://localhost:8080/"
        },
        "id": "0XmgF4uifY5U",
        "outputId": "e14fa08e-cc7d-4cf6-e04d-1bcd6d470f80"
      },
      "execution_count": 164,
      "outputs": [
        {
          "output_type": "execute_result",
          "data": {
            "text/plain": [
              "[__main__.Student, __main__.Person, object]"
            ]
          },
          "metadata": {},
          "execution_count": 164
        }
      ]
    },
    {
      "cell_type": "code",
      "source": [],
      "metadata": {
        "id": "PCJhHthXfs-N"
      },
      "execution_count": null,
      "outputs": []
    }
  ]
}
