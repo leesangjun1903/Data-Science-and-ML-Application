{
  "nbformat": 4,
  "nbformat_minor": 0,
  "metadata": {
    "colab": {
      "provenance": []
    },
    "kernelspec": {
      "name": "python3",
      "display_name": "Python 3"
    },
    "language_info": {
      "name": "python"
    }
  },
  "cells": [
    {
      "cell_type": "markdown",
      "source": [
        "# 스칼라, 벡터, 메트릭스, 텐서\n",
        "\n",
        "- 단일 값은 Scalar\n",
        "- 1D(1차원) 데이터는 Vector\n",
        "- 2D(행렬) 데이터는 Matrix\n",
        "- 3차원 이상의 데이터는 Tensor"
      ],
      "metadata": {
        "id": "2sgVRisfIT0Z"
      }
    },
    {
      "cell_type": "markdown",
      "source": [
        "- torch.Tensor는 단일 데이터 타입(single data type)을 가집니다.\n",
        "- torch.Tensor 간의 연산은 같은 데이터타입일 경우에만 가능합니다.\n",
        "- Numpy의 배열 연산으로 수행할 수 있는 내용도, GPU를 활용하여 빠르게 학습하려는 경우 torch.Tensor로 변환할 수 있습니다."
      ],
      "metadata": {
        "id": "mrSL2Wz3Igw_"
      }
    },
    {
      "cell_type": "code",
      "execution_count": 1,
      "metadata": {
        "id": "osMw5JCNIPHk"
      },
      "outputs": [],
      "source": [
        "import torch\n",
        "import numpy as np"
      ]
    },
    {
      "cell_type": "code",
      "source": [
        "print(torch.__version__)"
      ],
      "metadata": {
        "colab": {
          "base_uri": "https://localhost:8080/"
        },
        "id": "XL5XIg6BIs36",
        "outputId": "8ef6a5f4-d105-4406-9152-8674dd68ad8f"
      },
      "execution_count": 2,
      "outputs": [
        {
          "output_type": "stream",
          "name": "stdout",
          "text": [
            "2.3.0+cu121\n"
          ]
        }
      ]
    },
    {
      "cell_type": "code",
      "source": [
        "arr = np.array([1, 3, 5, 7, 9])\n",
        "print(arr)\n",
        "print(arr.dtype)\n",
        "print(type(arr))"
      ],
      "metadata": {
        "colab": {
          "base_uri": "https://localhost:8080/"
        },
        "id": "Px0xR8uOIvjo",
        "outputId": "16b2f3b6-689d-4c3b-ffe6-c9eda2df3fad"
      },
      "execution_count": 3,
      "outputs": [
        {
          "output_type": "stream",
          "name": "stdout",
          "text": [
            "[1 3 5 7 9]\n",
            "int64\n",
            "<class 'numpy.ndarray'>\n"
          ]
        }
      ]
    },
    {
      "cell_type": "markdown",
      "source": [
        "Numpy로부터 Tensor 변환"
      ],
      "metadata": {
        "id": "qjaKbXRvI4RF"
      }
    },
    {
      "cell_type": "markdown",
      "source": [
        "## torch.from_numpy() - sharing"
      ],
      "metadata": {
        "id": "DtVsFAZcJCMl"
      }
    },
    {
      "cell_type": "code",
      "source": [
        "t1 = torch.from_numpy(arr)\n",
        "print(t1) # 출력\n",
        "print(t1.dtype)  # dtype은 데이터 타입\n",
        "print(t1.type()) # type()은 텐서의 타입\n",
        "print(type(t1))  # t1 변수 자체의 타입"
      ],
      "metadata": {
        "colab": {
          "base_uri": "https://localhost:8080/"
        },
        "id": "LE8ihhFCI2Wj",
        "outputId": "1d2efbdb-4e5c-48ae-97cb-8dc9922402f0"
      },
      "execution_count": 4,
      "outputs": [
        {
          "output_type": "stream",
          "name": "stdout",
          "text": [
            "tensor([1, 3, 5, 7, 9])\n",
            "torch.int64\n",
            "torch.LongTensor\n",
            "<class 'torch.Tensor'>\n"
          ]
        }
      ]
    },
    {
      "cell_type": "markdown",
      "source": [
        "## torch.as_tensor() - sharing"
      ],
      "metadata": {
        "id": "45EQ3GWYJD0y"
      }
    },
    {
      "cell_type": "code",
      "source": [
        "t2 = torch.as_tensor(arr)\n",
        "print(t2) # 출력\n",
        "print(t2.dtype)  # dtype은 데이터 타입\n",
        "print(t2.type()) # type()은 텐서의 타입\n",
        "print(type(t2))  # t2 변수 자체의 타입"
      ],
      "metadata": {
        "colab": {
          "base_uri": "https://localhost:8080/"
        },
        "id": "vnWFNWw1I9Uf",
        "outputId": "ddf2de64-fe56-4654-ff7f-65ec760de444"
      },
      "execution_count": 5,
      "outputs": [
        {
          "output_type": "stream",
          "name": "stdout",
          "text": [
            "tensor([1, 3, 5, 7, 9])\n",
            "torch.int64\n",
            "torch.LongTensor\n",
            "<class 'torch.Tensor'>\n"
          ]
        }
      ]
    },
    {
      "cell_type": "code",
      "source": [
        "# t1, t2 출력\n",
        "print(f't1: {t1}')\n",
        "print(f't2: {t2}')"
      ],
      "metadata": {
        "colab": {
          "base_uri": "https://localhost:8080/"
        },
        "id": "4U61lbsZJIgG",
        "outputId": "be5916d0-21e7-4274-82c1-a4c9716e3e56"
      },
      "execution_count": 6,
      "outputs": [
        {
          "output_type": "stream",
          "name": "stdout",
          "text": [
            "t1: tensor([1, 3, 5, 7, 9])\n",
            "t2: tensor([1, 3, 5, 7, 9])\n"
          ]
        }
      ]
    },
    {
      "cell_type": "markdown",
      "source": [
        "## torch.tensor() - copying"
      ],
      "metadata": {
        "id": "jvl950xQJWlx"
      }
    },
    {
      "cell_type": "code",
      "source": [
        "t3 = torch.tensor(arr)\n",
        "print(t3) # 출력\n",
        "print(t3.dtype)  # dtype은 데이터 타입\n",
        "print(t3.type()) # type()은 텐서의 타입\n",
        "print(type(t3))  # t3 변수 자체의 타입"
      ],
      "metadata": {
        "colab": {
          "base_uri": "https://localhost:8080/"
        },
        "id": "I9gnboo1JQw4",
        "outputId": "e45f5afc-59e5-4a89-d820-911632e66e64"
      },
      "execution_count": 7,
      "outputs": [
        {
          "output_type": "stream",
          "name": "stdout",
          "text": [
            "tensor([1, 3, 5, 7, 9])\n",
            "torch.int64\n",
            "torch.LongTensor\n",
            "<class 'torch.Tensor'>\n"
          ]
        }
      ]
    },
    {
      "cell_type": "code",
      "source": [
        "arr[0] = 999\n",
        "\n",
        "print(f't1: {t1}')\n",
        "print(f't2: {t2}')\n",
        "print(f't3: {t3}')"
      ],
      "metadata": {
        "colab": {
          "base_uri": "https://localhost:8080/"
        },
        "id": "3QKCzuDJJZle",
        "outputId": "a79da95b-c7e9-43b6-f718-e9251be1f221"
      },
      "execution_count": 8,
      "outputs": [
        {
          "output_type": "stream",
          "name": "stdout",
          "text": [
            "t1: tensor([999,   3,   5,   7,   9])\n",
            "t2: tensor([999,   3,   5,   7,   9])\n",
            "t3: tensor([1, 3, 5, 7, 9])\n"
          ]
        }
      ]
    },
    {
      "cell_type": "markdown",
      "source": [
        "torch.tensor()로 numpy array를 변환시 sharing이 아닌 copying하기 때문에 원본 numpy array의 요소가 변하더라고 tensor에 영향을 끼치지 않음을 확인할 수 있습니다."
      ],
      "metadata": {
        "id": "r491SG0uJie9"
      }
    },
    {
      "cell_type": "markdown",
      "source": [
        "## torch.zeros()"
      ],
      "metadata": {
        "id": "JbQtJFsEJtMt"
      }
    },
    {
      "cell_type": "code",
      "source": [
        "zeros = torch.zeros(3, 5, dtype=torch.int32)\n",
        "print(zeros)\n",
        "print(zeros.dtype)\n",
        "print(zeros.type())"
      ],
      "metadata": {
        "colab": {
          "base_uri": "https://localhost:8080/"
        },
        "id": "m9usC2boJgU1",
        "outputId": "1a3abf8a-5d8f-4073-f1c5-6fe1f44cdcae"
      },
      "execution_count": 9,
      "outputs": [
        {
          "output_type": "stream",
          "name": "stdout",
          "text": [
            "tensor([[0, 0, 0, 0, 0],\n",
            "        [0, 0, 0, 0, 0],\n",
            "        [0, 0, 0, 0, 0]], dtype=torch.int32)\n",
            "torch.int32\n",
            "torch.IntTensor\n"
          ]
        }
      ]
    },
    {
      "cell_type": "markdown",
      "source": [
        "## torch.arange(start, end, step)\n",
        "\n",
        "지정된 범위로 tensor를 생성합니다."
      ],
      "metadata": {
        "id": "dvhb_hOWJ5dy"
      }
    },
    {
      "cell_type": "code",
      "source": [
        "# end만 지정\n",
        "a = torch.arange(5)\n",
        "print(a)\n",
        "# start, end 지정\n",
        "a = torch.arange(2, 6)\n",
        "print(a)\n",
        "# start, end, step 모두 지정\n",
        "a = torch.arange(1, 10, 2)\n",
        "print(a)"
      ],
      "metadata": {
        "colab": {
          "base_uri": "https://localhost:8080/"
        },
        "id": "rYtBVB6nJwJl",
        "outputId": "4e8dcd82-0ebc-41da-9ccd-d430422d46cc"
      },
      "execution_count": 10,
      "outputs": [
        {
          "output_type": "stream",
          "name": "stdout",
          "text": [
            "tensor([0, 1, 2, 3, 4])\n",
            "tensor([2, 3, 4, 5])\n",
            "tensor([1, 3, 5, 7, 9])\n"
          ]
        }
      ]
    },
    {
      "cell_type": "markdown",
      "source": [
        "## torch.linspace(start, end, steps)\n",
        "\n",
        "start부터 end까지 동일 간격으로 생성합니다. steps 지정시 steps 갯수만큼 생성합니다."
      ],
      "metadata": {
        "id": "t9_xJjq6KB4U"
      }
    },
    {
      "cell_type": "code",
      "source": [
        "# start, stop, step 모두 지정\n",
        "b = torch.linspace(2, 10, 5)\n",
        "print(b)"
      ],
      "metadata": {
        "colab": {
          "base_uri": "https://localhost:8080/"
        },
        "id": "FgDG_dx0J_BJ",
        "outputId": "af9d4435-16af-4aa5-c28d-c5f93e91ab13"
      },
      "execution_count": 15,
      "outputs": [
        {
          "output_type": "stream",
          "name": "stdout",
          "text": [
            "tensor([ 2.,  4.,  6.,  8., 10.])\n"
          ]
        }
      ]
    },
    {
      "cell_type": "markdown",
      "source": [
        "## tensor의 타입 변경: type()"
      ],
      "metadata": {
        "id": "wB6ZrrEVKvAG"
      }
    },
    {
      "cell_type": "code",
      "source": [
        "aa = torch.arange(10, dtype=torch.int32)\n",
        "print(aa)\n",
        "print(aa.type())\n",
        "\n",
        "print('==='*10)\n",
        "# tensor의 타입 변경\n",
        "bb = aa.type(torch.int64)\n",
        "print(bb)\n",
        "print(bb.type())"
      ],
      "metadata": {
        "colab": {
          "base_uri": "https://localhost:8080/"
        },
        "id": "cB78V0m0KODJ",
        "outputId": "f76d76cc-e241-443a-ae77-90093f773eb2"
      },
      "execution_count": 16,
      "outputs": [
        {
          "output_type": "stream",
          "name": "stdout",
          "text": [
            "tensor([0, 1, 2, 3, 4, 5, 6, 7, 8, 9], dtype=torch.int32)\n",
            "torch.IntTensor\n",
            "==============================\n",
            "tensor([0, 1, 2, 3, 4, 5, 6, 7, 8, 9])\n",
            "torch.LongTensor\n"
          ]
        }
      ]
    },
    {
      "cell_type": "markdown",
      "source": [
        "## 랜덤 tensor 생성\n",
        "\n"
      ],
      "metadata": {
        "id": "Vph6h_vDLAaN"
      }
    },
    {
      "cell_type": "markdown",
      "source": [
        "- torch.rand(): [0, 1) 분포 안에서 랜덤한 tensor를 생성합니다.\n",
        "- torch.randn(): standard normal 분포 안에서 랜덤한 tensor를 생성합니다.\n",
        "- torch.randint(): 정수로 채워진 랜덤한 tensor를 생성합니다."
      ],
      "metadata": {
        "id": "J2nIryjCLLFf"
      }
    },
    {
      "cell_type": "code",
      "source": [
        "# random 생성 범위: 0 ~ 1\n",
        "rd1 = torch.rand(2, 3)\n",
        "print(rd1)"
      ],
      "metadata": {
        "colab": {
          "base_uri": "https://localhost:8080/"
        },
        "id": "-y3-F-qDK2J-",
        "outputId": "7b3c48df-40ae-4e42-b44f-b59219236ac0"
      },
      "execution_count": 17,
      "outputs": [
        {
          "output_type": "stream",
          "name": "stdout",
          "text": [
            "tensor([[0.3098, 0.4818, 0.1929],\n",
            "        [0.6920, 0.4215, 0.2147]])\n"
          ]
        }
      ]
    },
    {
      "cell_type": "code",
      "source": [
        "# random 생성 범위: standard normal\n",
        "rd2 = torch.randn(2, 3)\n",
        "print(rd2)"
      ],
      "metadata": {
        "colab": {
          "base_uri": "https://localhost:8080/"
        },
        "id": "KMWZ9wXCLTQO",
        "outputId": "42893aa2-8543-475e-9a92-148eb540d999"
      },
      "execution_count": 18,
      "outputs": [
        {
          "output_type": "stream",
          "name": "stdout",
          "text": [
            "tensor([[-0.5134,  1.1349,  1.9862],\n",
            "        [-1.7069, -0.0399,  0.4293]])\n"
          ]
        }
      ]
    },
    {
      "cell_type": "code",
      "source": [
        "# randint 생성시 low, high, size를 지정한 경우\n",
        "rd3 = torch.randint(low=1, high=10, size=(2, 3))\n",
        "print(rd3)"
      ],
      "metadata": {
        "colab": {
          "base_uri": "https://localhost:8080/"
        },
        "id": "1Rm9i81VLXc3",
        "outputId": "3a358fc5-b818-492c-874a-090ffd0f0cdf"
      },
      "execution_count": 19,
      "outputs": [
        {
          "output_type": "stream",
          "name": "stdout",
          "text": [
            "tensor([[4, 1, 9],\n",
            "        [5, 2, 3]])\n"
          ]
        }
      ]
    },
    {
      "cell_type": "markdown",
      "source": [
        "torch.manual_seed(): 난수 생성시 시드의 고정"
      ],
      "metadata": {
        "id": "sllmP6aOLgW7"
      }
    },
    {
      "cell_type": "code",
      "source": [
        "# manual_seed를 고정시 고정한 cell의 난수 생성은 매번 동일한 값을 생성\n",
        "torch.manual_seed(0)\n",
        "rd4 = torch.randint(low=1, high=100, size=(2, 3))\n",
        "print(rd4)"
      ],
      "metadata": {
        "colab": {
          "base_uri": "https://localhost:8080/"
        },
        "id": "EGdhce_xLagZ",
        "outputId": "575888c7-2dd7-4bcd-d793-7c8e6dfc19cc"
      },
      "execution_count": 20,
      "outputs": [
        {
          "output_type": "stream",
          "name": "stdout",
          "text": [
            "tensor([[99, 19, 57],\n",
            "        [70, 53, 70]])\n"
          ]
        }
      ]
    },
    {
      "cell_type": "markdown",
      "source": [
        "## like로 tensor 생성\n",
        "\n",
        "_like()가 붙은 이름의 함수는 _like() 안에 넣어주는 tensor의 shape와 동일한 tensor를 생성합니다."
      ],
      "metadata": {
        "id": "FccJsYDeLn4R"
      }
    },
    {
      "cell_type": "code",
      "source": [
        "x = torch.tensor([[1, 3, 5],\n",
        "                  [7, 9, 11]], dtype=torch.float32)\n",
        "print(x)\n",
        "print(x.type())"
      ],
      "metadata": {
        "colab": {
          "base_uri": "https://localhost:8080/"
        },
        "id": "YwTPKYGrLieS",
        "outputId": "e83d48d8-ad51-4ac1-ed38-a8b138470fdf"
      },
      "execution_count": 21,
      "outputs": [
        {
          "output_type": "stream",
          "name": "stdout",
          "text": [
            "tensor([[ 1.,  3.,  5.],\n",
            "        [ 7.,  9., 11.]])\n",
            "torch.FloatTensor\n"
          ]
        }
      ]
    },
    {
      "cell_type": "code",
      "source": [
        "# [0, 1)\n",
        "like1 = torch.rand_like(x)\n",
        "print(like1)\n",
        "print(like1.type())"
      ],
      "metadata": {
        "colab": {
          "base_uri": "https://localhost:8080/"
        },
        "id": "VZ0UV76TLvVk",
        "outputId": "919ad6c2-648a-4e3c-bfb9-871689e64d8a"
      },
      "execution_count": 22,
      "outputs": [
        {
          "output_type": "stream",
          "name": "stdout",
          "text": [
            "tensor([[0.4901, 0.8964, 0.4556],\n",
            "        [0.6323, 0.3489, 0.4017]])\n",
            "torch.FloatTensor\n"
          ]
        }
      ]
    },
    {
      "cell_type": "code",
      "source": [
        "# standard normal\n",
        "like2 = torch.randn_like(x)\n",
        "print(like2)\n",
        "print(like2.type())"
      ],
      "metadata": {
        "colab": {
          "base_uri": "https://localhost:8080/"
        },
        "id": "7WmO3Oe-L0DJ",
        "outputId": "18495fcc-61b7-4b4b-8188-0d6533400ea7"
      },
      "execution_count": 23,
      "outputs": [
        {
          "output_type": "stream",
          "name": "stdout",
          "text": [
            "tensor([[ 0.4033,  0.8380, -0.7193],\n",
            "        [-0.4033, -0.5966,  0.1820]])\n",
            "torch.FloatTensor\n"
          ]
        }
      ]
    },
    {
      "cell_type": "code",
      "source": [
        "# int range\n",
        "like3 = torch.randint_like(x, low=1, high=100)\n",
        "print(like3)\n",
        "print(like3.type())"
      ],
      "metadata": {
        "colab": {
          "base_uri": "https://localhost:8080/"
        },
        "id": "nkscY1VcL2cd",
        "outputId": "4fc7b378-62fe-4cb2-fc6e-e5888456a2c0"
      },
      "execution_count": 24,
      "outputs": [
        {
          "output_type": "stream",
          "name": "stdout",
          "text": [
            "tensor([[90., 24., 98.],\n",
            "        [99., 43., 10.]])\n",
            "torch.FloatTensor\n"
          ]
        }
      ]
    },
    {
      "cell_type": "markdown",
      "source": [
        "## tensor의 shape 확인 및 변경"
      ],
      "metadata": {
        "id": "RZuI8LELL7N6"
      }
    },
    {
      "cell_type": "code",
      "source": [
        "print(x.shape)\n",
        "print(x.shape[0])\n",
        "print(x.shape[1])"
      ],
      "metadata": {
        "colab": {
          "base_uri": "https://localhost:8080/"
        },
        "id": "ojHc_eYsL4Rm",
        "outputId": "fdd10e58-f79f-414d-b905-d3d6e2e6035d"
      },
      "execution_count": 25,
      "outputs": [
        {
          "output_type": "stream",
          "name": "stdout",
          "text": [
            "torch.Size([2, 3])\n",
            "2\n",
            "3\n"
          ]
        }
      ]
    },
    {
      "cell_type": "code",
      "source": [
        "print(x)\n",
        "# view()로 shape 변경\n",
        "print(x.view(3, 2))"
      ],
      "metadata": {
        "colab": {
          "base_uri": "https://localhost:8080/"
        },
        "id": "Q7SEkV8dL_HW",
        "outputId": "04202e72-b2b8-418c-9898-cdd3d5856d82"
      },
      "execution_count": 26,
      "outputs": [
        {
          "output_type": "stream",
          "name": "stdout",
          "text": [
            "tensor([[ 1.,  3.,  5.],\n",
            "        [ 7.,  9., 11.]])\n",
            "tensor([[ 1.,  3.],\n",
            "        [ 5.,  7.],\n",
            "        [ 9., 11.]])\n"
          ]
        }
      ]
    },
    {
      "cell_type": "code",
      "source": [
        "# reshape\n",
        "x.reshape(-1, 1)"
      ],
      "metadata": {
        "colab": {
          "base_uri": "https://localhost:8080/"
        },
        "id": "YnG5WOCDMs_s",
        "outputId": "f953921a-283a-43e2-aca1-3983b0eef9d5"
      },
      "execution_count": 27,
      "outputs": [
        {
          "output_type": "execute_result",
          "data": {
            "text/plain": [
              "tensor([[ 1.],\n",
              "        [ 3.],\n",
              "        [ 5.],\n",
              "        [ 7.],\n",
              "        [ 9.],\n",
              "        [11.]])"
            ]
          },
          "metadata": {},
          "execution_count": 27
        }
      ]
    },
    {
      "cell_type": "code",
      "source": [
        "import torch\n",
        "import numpy as np\n",
        "import matplotlib.pyplot as plt"
      ],
      "metadata": {
        "id": "0iDo_NP8M0oE"
      },
      "execution_count": 28,
      "outputs": []
    },
    {
      "cell_type": "markdown",
      "source": [
        "# 샘플 데이터셋 생성"
      ],
      "metadata": {
        "id": "HsHyO6_iNAXL"
      }
    },
    {
      "cell_type": "code",
      "source": [
        "x = torch.tensor(np.arange(10))\n",
        "y = 2*x + 1\n",
        "y"
      ],
      "metadata": {
        "colab": {
          "base_uri": "https://localhost:8080/"
        },
        "id": "rHuYtxHeM-r6",
        "outputId": "c08ec5e3-d14d-4b10-a50d-31dd9f2f055e"
      },
      "execution_count": 33,
      "outputs": [
        {
          "output_type": "execute_result",
          "data": {
            "text/plain": [
              "tensor([ 1,  3,  5,  7,  9, 11, 13, 15, 17, 19])"
            ]
          },
          "metadata": {},
          "execution_count": 33
        }
      ]
    },
    {
      "cell_type": "code",
      "source": [
        "plt.title('y = 2*x + 1', fontsize=15)\n",
        "plt.scatter(x, y)\n",
        "plt.show()"
      ],
      "metadata": {
        "colab": {
          "base_uri": "https://localhost:8080/",
          "height": 454
        },
        "id": "u8Sriwy0NEdI",
        "outputId": "33a8aaca-93dc-41e8-facb-1a9be536e5e8"
      },
      "execution_count": 35,
      "outputs": [
        {
          "output_type": "display_data",
          "data": {
            "text/plain": [
              "<Figure size 640x480 with 1 Axes>"
            ],
            "image/png": "[encoded data removed]"
          },
          "metadata": {}
        }
      ]
    },
    {
      "cell_type": "code",
      "source": [
        "# random w, b 생성\n",
        "w = torch.randn(1, requires_grad=True)\n",
        "b = torch.randn(1, requires_grad=True)\n",
        "w, b"
      ],
      "metadata": {
        "colab": {
          "base_uri": "https://localhost:8080/"
        },
        "id": "SuHGJU_7NJAj",
        "outputId": "0fdbfe6b-3463-4d04-e3cc-c34d29bae481"
      },
      "execution_count": 36,
      "outputs": [
        {
          "output_type": "execute_result",
          "data": {
            "text/plain": [
              "(tensor([0.4087], requires_grad=True), tensor([1.4214], requires_grad=True))"
            ]
          },
          "metadata": {},
          "execution_count": 36
        }
      ]
    },
    {
      "cell_type": "code",
      "source": [
        "# Hypothesis Function 정의\n",
        "y_hat = w*x + b"
      ],
      "metadata": {
        "id": "F3xG_BisNXQp"
      },
      "execution_count": 37,
      "outputs": []
    },
    {
      "cell_type": "code",
      "source": [
        "# Mean Squared Error(MSE) 오차 정의\n",
        "loss = ((y_hat - y)**2).mean()\n",
        "\n",
        "# BackPropagation (Gradient 계산)\n",
        "loss.backward()"
      ],
      "metadata": {
        "id": "KoqChgc2NZvF"
      },
      "execution_count": 38,
      "outputs": []
    },
    {
      "cell_type": "code",
      "source": [
        "# 결과 출력\n",
        "print(f'w gradient: {w.grad.item():.2f}, b gradient: {b.grad.item():.2f}')"
      ],
      "metadata": {
        "colab": {
          "base_uri": "https://localhost:8080/"
        },
        "id": "HiaV_9TeNtQ9",
        "outputId": "b1018d1b-f952-45a3-efd4-adba99536ab2"
      },
      "execution_count": 39,
      "outputs": [
        {
          "output_type": "stream",
          "name": "stdout",
          "text": [
            "w gradient: -86.91, b gradient: -13.48\n"
          ]
        }
      ]
    },
    {
      "cell_type": "markdown",
      "source": [
        "## w, b 의 직접 계산한 Gradient와 비교"
      ],
      "metadata": {
        "id": "EPR382uON9GZ"
      }
    },
    {
      "cell_type": "code",
      "source": [
        "w_grad = (2*(y_hat - y)*x).mean().item()\n",
        "b_grad = (2*(y_hat - y)).mean().item()"
      ],
      "metadata": {
        "id": "wMfq2-1jNuAi"
      },
      "execution_count": 40,
      "outputs": []
    },
    {
      "cell_type": "code",
      "source": [
        "print(f'w gradient: {w_grad:.2f}, b gradient: {b_grad:.2f}')"
      ],
      "metadata": {
        "colab": {
          "base_uri": "https://localhost:8080/"
        },
        "id": "DCHOgJiQN-Dk",
        "outputId": "50c8b633-fe88-49ad-bd97-f1b6e7a6ef38"
      },
      "execution_count": 41,
      "outputs": [
        {
          "output_type": "stream",
          "name": "stdout",
          "text": [
            "w gradient: -86.91, b gradient: -13.48\n"
          ]
        }
      ]
    },
    {
      "cell_type": "markdown",
      "source": [
        "## Gradient 계산 미적용"
      ],
      "metadata": {
        "id": "kxxcQc0YOR1e"
      }
    },
    {
      "cell_type": "code",
      "source": [
        "y_hat = w*x + b\n",
        "print(y_hat.requires_grad)\n",
        "\n",
        "with torch.no_grad():\n",
        "    y_hat = w*x + b\n",
        "\n",
        "print(y_hat.requires_grad)"
      ],
      "metadata": {
        "colab": {
          "base_uri": "https://localhost:8080/"
        },
        "id": "9H9uQQMyOAOd",
        "outputId": "99064125-49be-401e-92e4-ed6a8bf61f43"
      },
      "execution_count": 42,
      "outputs": [
        {
          "output_type": "stream",
          "name": "stdout",
          "text": [
            "True\n",
            "False\n"
          ]
        }
      ]
    },
    {
      "cell_type": "markdown",
      "source": [
        "# PyTorch로 경사하강법(Gradient Descent) 구현\n",
        "\n",
        "기본 개념은 함수의 기울기(경사)를 구하여 기울기가 낮은 쪽으로 계속 이동시켜서 극값에 이를 때까지 반복시키는 것입니다.\n",
        "\n",
        "비용 함수 (Cost Function 혹은 Loss Function)를 최소화하기 위해 반복해서 파라미터를 업데이트 해 나가는 방식입니다."
      ],
      "metadata": {
        "id": "P84R-kGXOb_R"
      }
    },
    {
      "cell_type": "code",
      "source": [
        "from IPython.display import Image\n",
        "import matplotlib.pyplot as plt\n",
        "import numpy as np\n",
        "import torch"
      ],
      "metadata": {
        "id": "k7o0FysROUFt"
      },
      "execution_count": 43,
      "outputs": []
    },
    {
      "cell_type": "markdown",
      "source": [
        "## 샘플 데이터셋 생성"
      ],
      "metadata": {
        "id": "X1oXgfHHOnug"
      }
    },
    {
      "cell_type": "code",
      "source": [
        "def make_linear(w=0.5, b=0.8, size=50, noise=1.0):\n",
        "    x = np.random.rand(size)\n",
        "    y = w * x + b\n",
        "    noise = np.random.uniform(-abs(noise), abs(noise), size=y.shape)\n",
        "    yy = y + noise\n",
        "    plt.figure(figsize=(10, 7))\n",
        "    plt.plot(x, y, color='r', label=f'y = {w}x + {b}', linestyle=':', alpha=0.3)\n",
        "    plt.scatter(x, yy, color='black', label='data', marker='.')\n",
        "    plt.legend(fontsize=15)\n",
        "    plt.show()\n",
        "    print(f'w: {w}, b: {b}')\n",
        "    return x, yy\n",
        "\n",
        "x, y = make_linear(w=0.6, b=0.5, size=100, noise=0.01)"
      ],
      "metadata": {
        "colab": {
          "base_uri": "https://localhost:8080/",
          "height": 616
        },
        "id": "ILJz16FpOhYm",
        "outputId": "28d3cd25-dbba-4e7c-eb45-4fba1aa8bcab"
      },
      "execution_count": 45,
      "outputs": [
        {
          "output_type": "display_data",
          "data": {
            "text/plain": [
              "<Figure size 1000x700 with 1 Axes>"
            ],
            "image/png": "[encoded data removed]"
          },
          "metadata": {}
        },
        {
          "output_type": "stream",
          "name": "stdout",
          "text": [
            "w: 0.6, b: 0.5\n"
          ]
        }
      ]
    },
    {
      "cell_type": "code",
      "source": [
        "# 샘플 데이터셋을 텐서(tensor)로 변환\n",
        "x = torch.as_tensor(x)\n",
        "y = torch.as_tensor(y)"
      ],
      "metadata": {
        "id": "0Q5p424bOrwe"
      },
      "execution_count": 46,
      "outputs": []
    },
    {
      "cell_type": "code",
      "source": [
        "# random 한 값으로 w, b를 초기화 합니다.\n",
        "w = torch.rand(1)\n",
        "b = torch.rand(1)\n",
        "\n",
        "print(w.shape, b.shape)\n",
        "\n",
        "# requires_grad = True로 설정된 텐서에 대해서만 미분을 계산합니다.\n",
        "w.requires_grad = True\n",
        "b.requires_grad = True"
      ],
      "metadata": {
        "colab": {
          "base_uri": "https://localhost:8080/"
        },
        "id": "ZAqDL7CJO2Dz",
        "outputId": "63e3e6a6-2f89-47aa-a3aa-8c27f6381499"
      },
      "execution_count": 47,
      "outputs": [
        {
          "output_type": "stream",
          "name": "stdout",
          "text": [
            "torch.Size([1]) torch.Size([1])\n"
          ]
        }
      ]
    },
    {
      "cell_type": "code",
      "source": [
        "# Hypothesis Function 정의 : 가설함수. 예측함수\n",
        "y_hat = w * x + b"
      ],
      "metadata": {
        "id": "BKVvAzVWO6Zd"
      },
      "execution_count": 48,
      "outputs": []
    },
    {
      "cell_type": "code",
      "source": [
        "# 손실함수 정의\n",
        "loss = ((y_hat - y)**2).mean()\n",
        "\n",
        "# 미분 계산 (Back Propagation)\n",
        "loss.backward()\n",
        "\n",
        "# 계산된 미분 값 확인\n",
        "w.grad, b.grad"
      ],
      "metadata": {
        "colab": {
          "base_uri": "https://localhost:8080/"
        },
        "id": "B716y4p3PAg8",
        "outputId": "e959d6b4-afc0-4026-c1bf-d7703692e05c"
      },
      "execution_count": 49,
      "outputs": [
        {
          "output_type": "execute_result",
          "data": {
            "text/plain": [
              "(tensor([0.3438]), tensor([0.6144]))"
            ]
          },
          "metadata": {},
          "execution_count": 49
        }
      ]
    },
    {
      "cell_type": "markdown",
      "source": [
        "## 경사하강법 구현"
      ],
      "metadata": {
        "id": "UTOwzvu2PJYm"
      }
    },
    {
      "cell_type": "code",
      "source": [
        "# 최대 반복 횟수 정의\n",
        "num_epoch = 500\n",
        "\n",
        "# 학습율 (learning_rate)\n",
        "learning_rate = 0.1"
      ],
      "metadata": {
        "id": "ufYbf3EqPGm1"
      },
      "execution_count": 50,
      "outputs": []
    },
    {
      "cell_type": "code",
      "source": [
        "# loss, w, b 기록하기 위한 list 정의\n",
        "losses = []\n",
        "ws = []\n",
        "bs = []\n",
        "\n",
        "# random 한 값으로 w, b를 초기화 합니다.\n",
        "w = torch.rand(1)\n",
        "b = torch.rand(1)\n",
        "\n",
        "# 미분 값을 구하기 위하여 requires_grad는 True로 설정\n",
        "w.requires_grad = True\n",
        "b.requires_grad = True\n",
        "\n",
        "for epoch in range(num_epoch):\n",
        "    # Affine Function\n",
        "    y_hat = x * w + b\n",
        "\n",
        "    # 손실(loss) 계산\n",
        "    loss = ((y_hat - y)**2).mean()\n",
        "\n",
        "    # 손실이 0.00005보다 작으면 break 합니다.\n",
        "    if loss < 0.00005:\n",
        "        break\n",
        "\n",
        "    # w, b의 미분 값인 grad 확인시 다음 미분 계산 값은 None이 return 됩니다.\n",
        "    # 이러한 현상을 방지하기 위하여 retain_grad()를 loss.backward() 이전에 호출해 줍니다.\n",
        "    w.retain_grad()\n",
        "    b.retain_grad()\n",
        "\n",
        "    # 미분 계산\n",
        "    loss.backward()\n",
        "\n",
        "    # 경사하강법 계산 및 적용\n",
        "    # w에 learning_rate * (그라디언트 w) 를 차감합니다.\n",
        "    w = w - learning_rate * w.grad\n",
        "    # b에 learning_rate * (그라디언트 b) 를 차감합니다.\n",
        "    b = b - learning_rate * b.grad\n",
        "\n",
        "    # 계산된 loss, w, b를 저장합니다.\n",
        "    losses.append(loss.item())\n",
        "    ws.append(w.item())\n",
        "    bs.append(b.item())\n",
        "\n",
        "    if epoch % 5 == 0:\n",
        "        print(\"{0:03d} w = {1:.5f}, b = {2:.5f} loss = {3:.5f}\".format(epoch, w.item(), b.item(), loss.item()))\n",
        "\n",
        "print(\"----\" * 15)\n",
        "print(\"{0:03d} w = {1:.1f}, b = {2:.1f} loss = {3:.5f}\".format(epoch, w.item(), b.item(), loss.item()))"
      ],
      "metadata": {
        "colab": {
          "base_uri": "https://localhost:8080/"
        },
        "id": "xAKo_U2uPNBP",
        "outputId": "02ae8f2b-3088-4b91-eed0-4c0ba0d25650"
      },
      "execution_count": 51,
      "outputs": [
        {
          "output_type": "stream",
          "name": "stdout",
          "text": [
            "000 w = 0.55862, b = 0.30272 loss = 0.08767\n",
            "005 w = 0.62863, b = 0.43479 loss = 0.00459\n",
            "010 w = 0.64195, b = 0.46552 loss = 0.00044\n",
            "015 w = 0.64277, b = 0.47358 loss = 0.00022\n",
            "020 w = 0.64092, b = 0.47651 loss = 0.00019\n",
            "025 w = 0.63861, b = 0.47824 loss = 0.00017\n",
            "030 w = 0.63630, b = 0.47963 loss = 0.00015\n",
            "035 w = 0.63410, b = 0.48089 loss = 0.00014\n",
            "040 w = 0.63202, b = 0.48206 loss = 0.00013\n",
            "045 w = 0.63007, b = 0.48316 loss = 0.00012\n",
            "050 w = 0.62823, b = 0.48419 loss = 0.00011\n",
            "055 w = 0.62650, b = 0.48516 loss = 0.00010\n",
            "060 w = 0.62488, b = 0.48608 loss = 0.00010\n",
            "065 w = 0.62335, b = 0.48694 loss = 0.00009\n",
            "070 w = 0.62191, b = 0.48774 loss = 0.00008\n",
            "075 w = 0.62055, b = 0.48850 loss = 0.00008\n",
            "080 w = 0.61928, b = 0.48922 loss = 0.00007\n",
            "085 w = 0.61808, b = 0.48989 loss = 0.00007\n",
            "090 w = 0.61696, b = 0.49053 loss = 0.00007\n",
            "095 w = 0.61590, b = 0.49112 loss = 0.00006\n",
            "100 w = 0.61490, b = 0.49168 loss = 0.00006\n",
            "105 w = 0.61396, b = 0.49221 loss = 0.00006\n",
            "110 w = 0.61308, b = 0.49270 loss = 0.00006\n",
            "115 w = 0.61225, b = 0.49317 loss = 0.00005\n",
            "120 w = 0.61147, b = 0.49361 loss = 0.00005\n",
            "125 w = 0.61074, b = 0.49402 loss = 0.00005\n",
            "130 w = 0.61005, b = 0.49441 loss = 0.00005\n",
            "------------------------------------------------------------\n",
            "132 w = 0.6, b = 0.5 loss = 0.00005\n"
          ]
        }
      ]
    },
    {
      "cell_type": "markdown",
      "source": [
        "## 결과 시각화\n",
        "\n",
        "- loss는 epoch이 늘어남에 따라 감소합니다.\n",
        "- epoch 초기에는 급격히 감소하다가, 점차 완만하게 감소함을 확인할 수 있는데, 이는 초기에는 큰 미분 값이 업데이트 되지만, 점차 계산된 미분 값이 작아지게되고 결국 업데이트가 작게 일어나면서 손실은 완만하게 감소하였습니다.\n",
        "- w, b도 초기값은 0.3, 0.5와 다소 먼 값이 설정되었지만, 점차 정답을 찾아가게 됩니다."
      ],
      "metadata": {
        "id": "3WZJ_1SxPdwZ"
      }
    },
    {
      "cell_type": "code",
      "source": [
        "# 전체 loss 에 대한 변화량 시각화\n",
        "plt.figure(figsize=(14, 6))\n",
        "plt.plot(losses, c='darkviolet', linestyle=':')\n",
        "\n",
        "plt.title('Losses over epoches', fontsize=15)\n",
        "plt.xlabel('Epochs')\n",
        "plt.ylabel('Error')\n",
        "plt.show()\n",
        "\n",
        "# w, b에 대한 변화량 시각화\n",
        "fig, axes = plt.subplots(1, 2)\n",
        "fig.set_size_inches(14, 6)\n",
        "\n",
        "axes[0].plot(ws, c='tomato', linestyle=':', label='chages')\n",
        "axes[0].hlines(y=0.6, xmin=0, xmax=len(ws), color='r', label='true')\n",
        "axes[0].set_ylim(0, 0.7)\n",
        "axes[0].set_title('\"w\" changes over epoches', fontsize=15)\n",
        "axes[0].set_xlabel('Epochs')\n",
        "axes[0].set_ylabel('Error')\n",
        "axes[0].legend()\n",
        "\n",
        "axes[1].plot(bs, c='dodgerblue', linestyle=':', label='chages')\n",
        "axes[1].hlines(y=0.5, xmin=0, xmax=len(ws), color='dodgerblue', label='true')\n",
        "axes[1].set_ylim(0.2, 0.9)\n",
        "axes[1].set_title('\"b\" changes over epoches', fontsize=15)\n",
        "axes[1].set_xlabel('Epochs')\n",
        "axes[1].set_ylabel('Error')\n",
        "axes[1].legend()\n",
        "\n",
        "plt.show()"
      ],
      "metadata": {
        "colab": {
          "base_uri": "https://localhost:8080/",
          "height": 1000
        },
        "id": "9h7Ujen6PZO4",
        "outputId": "9e4c4cd9-e40e-4cc5-bf00-73cc974d5748"
      },
      "execution_count": 53,
      "outputs": [
        {
          "output_type": "display_data",
          "data": {
            "text/plain": [
              "<Figure size 1400x600 with 1 Axes>"
            ],
            "image/png": "[encoded data removed]"
          },
          "metadata": {}
        },
        {
          "output_type": "display_data",
          "data": {
            "text/plain": [
              "<Figure size 1400x600 with 2 Axes>"
            ],
            "image/png": "[encoded data removed]"
          },
          "metadata": {}
        }
      ]
    },
    {
      "cell_type": "code",
      "source": [],
      "metadata": {
        "id": "QJiclzS1Pp8z"
      },
      "execution_count": null,
      "outputs": []
    }
  ]
}